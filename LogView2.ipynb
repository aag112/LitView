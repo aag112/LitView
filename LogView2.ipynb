{
  "nbformat": 4,
  "nbformat_minor": 0,
  "metadata": {
    "colab": {
      "name": "LogView2.ipynb",
      "provenance": [],
      "mount_file_id": "1OKEokMZul_EVbHE2pATHOZFveDCKkJ5a",
      "authorship_tag": "ABX9TyP/CIG60u8T4FIWCn5O5W2q",
      "include_colab_link": true
    },
    "kernelspec": {
      "name": "python3",
      "display_name": "Python 3"
    },
    "language_info": {
      "name": "python"
    },
    "widgets": {
      "application/vnd.jupyter.widget-state+json": {
        "d629fa2197e44eef8c0770b8eeb95ce4": {
          "model_module": "@jupyter-widgets/controls",
          "model_name": "HBoxModel",
          "state": {
            "_view_name": "HBoxView",
            "_dom_classes": [],
            "_model_name": "HBoxModel",
            "_view_module": "@jupyter-widgets/controls",
            "_model_module_version": "1.5.0",
            "_view_count": null,
            "_view_module_version": "1.5.0",
            "box_style": "",
            "layout": "IPY_MODEL_58eb8dfccd264679ba0c7eef8e6f5837",
            "_model_module": "@jupyter-widgets/controls",
            "children": [
              "IPY_MODEL_624dc7b2432e4940917b4e98934626ff",
              "IPY_MODEL_ffbdd8e24a904ef9bd009743280954ed"
            ]
          }
        },
        "58eb8dfccd264679ba0c7eef8e6f5837": {
          "model_module": "@jupyter-widgets/base",
          "model_name": "LayoutModel",
          "state": {
            "_view_name": "LayoutView",
            "grid_template_rows": null,
            "right": null,
            "justify_content": null,
            "_view_module": "@jupyter-widgets/base",
            "overflow": null,
            "_model_module_version": "1.2.0",
            "_view_count": null,
            "flex_flow": null,
            "width": null,
            "min_width": null,
            "border": null,
            "align_items": null,
            "bottom": null,
            "_model_module": "@jupyter-widgets/base",
            "top": null,
            "grid_column": null,
            "overflow_y": null,
            "overflow_x": null,
            "grid_auto_flow": null,
            "grid_area": null,
            "grid_template_columns": null,
            "flex": null,
            "_model_name": "LayoutModel",
            "justify_items": null,
            "grid_row": null,
            "max_height": null,
            "align_content": null,
            "visibility": null,
            "align_self": null,
            "height": null,
            "min_height": null,
            "padding": null,
            "grid_auto_rows": null,
            "grid_gap": null,
            "max_width": null,
            "order": null,
            "_view_module_version": "1.2.0",
            "grid_template_areas": null,
            "object_position": null,
            "object_fit": null,
            "grid_auto_columns": null,
            "margin": null,
            "display": null,
            "left": null
          }
        },
        "624dc7b2432e4940917b4e98934626ff": {
          "model_module": "@jupyter-widgets/controls",
          "model_name": "FloatProgressModel",
          "state": {
            "_view_name": "ProgressView",
            "style": "IPY_MODEL_7543929e2c0b48e198eeda51e8a7eaba",
            "_dom_classes": [],
            "description": "100%",
            "_model_name": "FloatProgressModel",
            "bar_style": "success",
            "max": 305584576,
            "_view_module": "@jupyter-widgets/controls",
            "_model_module_version": "1.5.0",
            "value": 305584576,
            "_view_count": null,
            "_view_module_version": "1.5.0",
            "orientation": "horizontal",
            "min": 0,
            "description_tooltip": null,
            "_model_module": "@jupyter-widgets/controls",
            "layout": "IPY_MODEL_e977abf9da7e4c28aa86813a7d441d92"
          }
        },
        "ffbdd8e24a904ef9bd009743280954ed": {
          "model_module": "@jupyter-widgets/controls",
          "model_name": "HTMLModel",
          "state": {
            "_view_name": "HTMLView",
            "style": "IPY_MODEL_94d4ad8078f04cb7a2862f52c5ec7f2c",
            "_dom_classes": [],
            "description": "",
            "_model_name": "HTMLModel",
            "placeholder": "​",
            "_view_module": "@jupyter-widgets/controls",
            "_model_module_version": "1.5.0",
            "value": " 306M/306M [00:12&lt;00:00, 24.9MB/s]",
            "_view_count": null,
            "_view_module_version": "1.5.0",
            "description_tooltip": null,
            "_model_module": "@jupyter-widgets/controls",
            "layout": "IPY_MODEL_60e47b2d37b5460e9e59721138a83556"
          }
        },
        "7543929e2c0b48e198eeda51e8a7eaba": {
          "model_module": "@jupyter-widgets/controls",
          "model_name": "ProgressStyleModel",
          "state": {
            "_view_name": "StyleView",
            "_model_name": "ProgressStyleModel",
            "description_width": "initial",
            "_view_module": "@jupyter-widgets/base",
            "_model_module_version": "1.5.0",
            "_view_count": null,
            "_view_module_version": "1.2.0",
            "bar_color": null,
            "_model_module": "@jupyter-widgets/controls"
          }
        },
        "e977abf9da7e4c28aa86813a7d441d92": {
          "model_module": "@jupyter-widgets/base",
          "model_name": "LayoutModel",
          "state": {
            "_view_name": "LayoutView",
            "grid_template_rows": null,
            "right": null,
            "justify_content": null,
            "_view_module": "@jupyter-widgets/base",
            "overflow": null,
            "_model_module_version": "1.2.0",
            "_view_count": null,
            "flex_flow": null,
            "width": null,
            "min_width": null,
            "border": null,
            "align_items": null,
            "bottom": null,
            "_model_module": "@jupyter-widgets/base",
            "top": null,
            "grid_column": null,
            "overflow_y": null,
            "overflow_x": null,
            "grid_auto_flow": null,
            "grid_area": null,
            "grid_template_columns": null,
            "flex": null,
            "_model_name": "LayoutModel",
            "justify_items": null,
            "grid_row": null,
            "max_height": null,
            "align_content": null,
            "visibility": null,
            "align_self": null,
            "height": null,
            "min_height": null,
            "padding": null,
            "grid_auto_rows": null,
            "grid_gap": null,
            "max_width": null,
            "order": null,
            "_view_module_version": "1.2.0",
            "grid_template_areas": null,
            "object_position": null,
            "object_fit": null,
            "grid_auto_columns": null,
            "margin": null,
            "display": null,
            "left": null
          }
        },
        "94d4ad8078f04cb7a2862f52c5ec7f2c": {
          "model_module": "@jupyter-widgets/controls",
          "model_name": "DescriptionStyleModel",
          "state": {
            "_view_name": "StyleView",
            "_model_name": "DescriptionStyleModel",
            "description_width": "",
            "_view_module": "@jupyter-widgets/base",
            "_model_module_version": "1.5.0",
            "_view_count": null,
            "_view_module_version": "1.2.0",
            "_model_module": "@jupyter-widgets/controls"
          }
        },
        "60e47b2d37b5460e9e59721138a83556": {
          "model_module": "@jupyter-widgets/base",
          "model_name": "LayoutModel",
          "state": {
            "_view_name": "LayoutView",
            "grid_template_rows": null,
            "right": null,
            "justify_content": null,
            "_view_module": "@jupyter-widgets/base",
            "overflow": null,
            "_model_module_version": "1.2.0",
            "_view_count": null,
            "flex_flow": null,
            "width": null,
            "min_width": null,
            "border": null,
            "align_items": null,
            "bottom": null,
            "_model_module": "@jupyter-widgets/base",
            "top": null,
            "grid_column": null,
            "overflow_y": null,
            "overflow_x": null,
            "grid_auto_flow": null,
            "grid_area": null,
            "grid_template_columns": null,
            "flex": null,
            "_model_name": "LayoutModel",
            "justify_items": null,
            "grid_row": null,
            "max_height": null,
            "align_content": null,
            "visibility": null,
            "align_self": null,
            "height": null,
            "min_height": null,
            "padding": null,
            "grid_auto_rows": null,
            "grid_gap": null,
            "max_width": null,
            "order": null,
            "_view_module_version": "1.2.0",
            "grid_template_areas": null,
            "object_position": null,
            "object_fit": null,
            "grid_auto_columns": null,
            "margin": null,
            "display": null,
            "left": null
          }
        }
      }
    }
  },
  "cells": [
    {
      "cell_type": "markdown",
      "metadata": {
        "id": "view-in-github",
        "colab_type": "text"
      },
      "source": [
        "<a href=\"https://colab.research.google.com/github/aag112/LitView/blob/main/LogView2.ipynb\" target=\"_parent\"><img src=\"https://colab.research.google.com/assets/colab-badge.svg\" alt=\"Open In Colab\"/></a>"
      ]
    },
    {
      "cell_type": "code",
      "metadata": {
        "colab": {
          "base_uri": "https://localhost:8080/"
        },
        "id": "p2OUKTWlfX2_",
        "outputId": "c87bbfa8-a8c1-444b-ad11-b301538ba435"
      },
      "source": [
        "!pip install sentence-transformers"
      ],
      "execution_count": 1,
      "outputs": [
        {
          "output_type": "stream",
          "text": [
            "Collecting sentence-transformers\n",
            "\u001b[?25l  Downloading https://files.pythonhosted.org/packages/14/9d/abacb6f7bb63df39285c55bb51b6403a7fd93ac2aea48b01f6215175446c/sentence-transformers-1.1.1.tar.gz (81kB)\n",
            "\u001b[K     |████████████████████████████████| 81kB 5.1MB/s \n",
            "\u001b[?25hCollecting transformers<5.0.0,>=3.1.0\n",
            "\u001b[?25l  Downloading https://files.pythonhosted.org/packages/b0/9e/5b80becd952d5f7250eaf8fc64b957077b12ccfe73e9c03d37146ab29712/transformers-4.6.0-py3-none-any.whl (2.3MB)\n",
            "\u001b[K     |████████████████████████████████| 2.3MB 23.7MB/s \n",
            "\u001b[?25hRequirement already satisfied: tqdm in /usr/local/lib/python3.7/dist-packages (from sentence-transformers) (4.41.1)\n",
            "Requirement already satisfied: torch>=1.6.0 in /usr/local/lib/python3.7/dist-packages (from sentence-transformers) (1.8.1+cu101)\n",
            "Requirement already satisfied: torchvision in /usr/local/lib/python3.7/dist-packages (from sentence-transformers) (0.9.1+cu101)\n",
            "Requirement already satisfied: numpy in /usr/local/lib/python3.7/dist-packages (from sentence-transformers) (1.19.5)\n",
            "Requirement already satisfied: scikit-learn in /usr/local/lib/python3.7/dist-packages (from sentence-transformers) (0.22.2.post1)\n",
            "Requirement already satisfied: scipy in /usr/local/lib/python3.7/dist-packages (from sentence-transformers) (1.4.1)\n",
            "Requirement already satisfied: nltk in /usr/local/lib/python3.7/dist-packages (from sentence-transformers) (3.2.5)\n",
            "Collecting sentencepiece\n",
            "\u001b[?25l  Downloading https://files.pythonhosted.org/packages/f5/99/e0808cb947ba10f575839c43e8fafc9cc44e4a7a2c8f79c60db48220a577/sentencepiece-0.1.95-cp37-cp37m-manylinux2014_x86_64.whl (1.2MB)\n",
            "\u001b[K     |████████████████████████████████| 1.2MB 59.7MB/s \n",
            "\u001b[?25hRequirement already satisfied: requests in /usr/local/lib/python3.7/dist-packages (from transformers<5.0.0,>=3.1.0->sentence-transformers) (2.23.0)\n",
            "Requirement already satisfied: regex!=2019.12.17 in /usr/local/lib/python3.7/dist-packages (from transformers<5.0.0,>=3.1.0->sentence-transformers) (2019.12.20)\n",
            "Collecting sacremoses\n",
            "\u001b[?25l  Downloading https://files.pythonhosted.org/packages/75/ee/67241dc87f266093c533a2d4d3d69438e57d7a90abb216fa076e7d475d4a/sacremoses-0.0.45-py3-none-any.whl (895kB)\n",
            "\u001b[K     |████████████████████████████████| 901kB 49.8MB/s \n",
            "\u001b[?25hCollecting tokenizers<0.11,>=0.10.1\n",
            "\u001b[?25l  Downloading https://files.pythonhosted.org/packages/ae/04/5b870f26a858552025a62f1649c20d29d2672c02ff3c3fb4c688ca46467a/tokenizers-0.10.2-cp37-cp37m-manylinux2010_x86_64.whl (3.3MB)\n",
            "\u001b[K     |████████████████████████████████| 3.3MB 49.0MB/s \n",
            "\u001b[?25hCollecting huggingface-hub==0.0.8\n",
            "  Downloading https://files.pythonhosted.org/packages/a1/88/7b1e45720ecf59c6c6737ff332f41c955963090a18e72acbcbeac6b25e86/huggingface_hub-0.0.8-py3-none-any.whl\n",
            "Requirement already satisfied: filelock in /usr/local/lib/python3.7/dist-packages (from transformers<5.0.0,>=3.1.0->sentence-transformers) (3.0.12)\n",
            "Requirement already satisfied: packaging in /usr/local/lib/python3.7/dist-packages (from transformers<5.0.0,>=3.1.0->sentence-transformers) (20.9)\n",
            "Requirement already satisfied: importlib-metadata; python_version < \"3.8\" in /usr/local/lib/python3.7/dist-packages (from transformers<5.0.0,>=3.1.0->sentence-transformers) (4.0.1)\n",
            "Requirement already satisfied: typing-extensions in /usr/local/lib/python3.7/dist-packages (from torch>=1.6.0->sentence-transformers) (3.7.4.3)\n",
            "Requirement already satisfied: pillow>=4.1.1 in /usr/local/lib/python3.7/dist-packages (from torchvision->sentence-transformers) (7.1.2)\n",
            "Requirement already satisfied: joblib>=0.11 in /usr/local/lib/python3.7/dist-packages (from scikit-learn->sentence-transformers) (1.0.1)\n",
            "Requirement already satisfied: six in /usr/local/lib/python3.7/dist-packages (from nltk->sentence-transformers) (1.15.0)\n",
            "Requirement already satisfied: idna<3,>=2.5 in /usr/local/lib/python3.7/dist-packages (from requests->transformers<5.0.0,>=3.1.0->sentence-transformers) (2.10)\n",
            "Requirement already satisfied: certifi>=2017.4.17 in /usr/local/lib/python3.7/dist-packages (from requests->transformers<5.0.0,>=3.1.0->sentence-transformers) (2020.12.5)\n",
            "Requirement already satisfied: urllib3!=1.25.0,!=1.25.1,<1.26,>=1.21.1 in /usr/local/lib/python3.7/dist-packages (from requests->transformers<5.0.0,>=3.1.0->sentence-transformers) (1.24.3)\n",
            "Requirement already satisfied: chardet<4,>=3.0.2 in /usr/local/lib/python3.7/dist-packages (from requests->transformers<5.0.0,>=3.1.0->sentence-transformers) (3.0.4)\n",
            "Requirement already satisfied: click in /usr/local/lib/python3.7/dist-packages (from sacremoses->transformers<5.0.0,>=3.1.0->sentence-transformers) (7.1.2)\n",
            "Requirement already satisfied: pyparsing>=2.0.2 in /usr/local/lib/python3.7/dist-packages (from packaging->transformers<5.0.0,>=3.1.0->sentence-transformers) (2.4.7)\n",
            "Requirement already satisfied: zipp>=0.5 in /usr/local/lib/python3.7/dist-packages (from importlib-metadata; python_version < \"3.8\"->transformers<5.0.0,>=3.1.0->sentence-transformers) (3.4.1)\n",
            "Building wheels for collected packages: sentence-transformers\n",
            "  Building wheel for sentence-transformers (setup.py) ... \u001b[?25l\u001b[?25hdone\n",
            "  Created wheel for sentence-transformers: filename=sentence_transformers-1.1.1-cp37-none-any.whl size=123338 sha256=dd5e97177e7e3a7b3031b9a9fe9b2e57ce2aa099d0287d0b65a4c15a9608ec3f\n",
            "  Stored in directory: /root/.cache/pip/wheels/5e/89/29/45e45adc162b50f97f71801e8b07947c9cfe2b3ae7dbf37896\n",
            "Successfully built sentence-transformers\n",
            "Installing collected packages: sacremoses, tokenizers, huggingface-hub, transformers, sentencepiece, sentence-transformers\n",
            "Successfully installed huggingface-hub-0.0.8 sacremoses-0.0.45 sentence-transformers-1.1.1 sentencepiece-0.1.95 tokenizers-0.10.2 transformers-4.6.0\n"
          ],
          "name": "stdout"
        }
      ]
    },
    {
      "cell_type": "code",
      "metadata": {
        "id": "VpQ13z6FhZut"
      },
      "source": [
        "import pandas as pd\n",
        "import numpy as np\n",
        "from sentence_transformers import SentenceTransformer, util\n",
        "from sklearn.decomposition import PCA\n",
        "import plotly\n",
        "import plotly.express as px\n",
        "import plotly.graph_objects as go\n",
        "from plotly.offline import iplot"
      ],
      "execution_count": 2,
      "outputs": []
    },
    {
      "cell_type": "code",
      "metadata": {
        "colab": {
          "base_uri": "https://localhost:8080/",
          "height": 66,
          "referenced_widgets": [
            "d629fa2197e44eef8c0770b8eeb95ce4",
            "58eb8dfccd264679ba0c7eef8e6f5837",
            "624dc7b2432e4940917b4e98934626ff",
            "ffbdd8e24a904ef9bd009743280954ed",
            "7543929e2c0b48e198eeda51e8a7eaba",
            "e977abf9da7e4c28aa86813a7d441d92",
            "94d4ad8078f04cb7a2862f52c5ec7f2c",
            "60e47b2d37b5460e9e59721138a83556"
          ]
        },
        "id": "tVGlBVmFh6qe",
        "outputId": "dbfedbde-3579-42bc-c3c0-e00d6a1168be"
      },
      "source": [
        "model = SentenceTransformer('paraphrase-distilroberta-base-v1')"
      ],
      "execution_count": 3,
      "outputs": [
        {
          "output_type": "display_data",
          "data": {
            "application/vnd.jupyter.widget-view+json": {
              "model_id": "d629fa2197e44eef8c0770b8eeb95ce4",
              "version_minor": 0,
              "version_major": 2
            },
            "text/plain": [
              "HBox(children=(FloatProgress(value=0.0, max=305584576.0), HTML(value='')))"
            ]
          },
          "metadata": {
            "tags": []
          }
        },
        {
          "output_type": "stream",
          "text": [
            "\n"
          ],
          "name": "stdout"
        }
      ]
    },
    {
      "cell_type": "code",
      "metadata": {
        "colab": {
          "base_uri": "https://localhost:8080/",
          "height": 424
        },
        "id": "GTDLsYQ3iDHI",
        "outputId": "9b749163-4ad8-48d7-833b-4bdcf1116b9a"
      },
      "source": [
        "df = pd.read_csv('/content/drive/MyDrive/Colab Notebooks/Data/Sample data file - Sheet1.csv')\n",
        "df1 = pd.read_csv('/content/drive/MyDrive/Colab Notebooks/Data/Sample data file - Sheet1.csv')['AthleteComments'].dropna()\n",
        "df2 = df['Rpe'].dropna()\n",
        "embeddings = model.encode(df1.to_list())\n",
        "pca = PCA(n_components = 2)\n",
        "pca.fit(embeddings)\n",
        "new = pca.transform(embeddings)\n",
        "df3 = pd.DataFrame(new)\n",
        "df1 = df1.reset_index(drop=True)\n",
        "frames = [df1,df2,df3]\n",
        "df = pd.concat(frames, axis=1)\n",
        "df = df.rename(columns= {0:'x', 1: 'y'})\n",
        "df"
      ],
      "execution_count": 13,
      "outputs": [
        {
          "output_type": "execute_result",
          "data": {
            "text/html": [
              "<div>\n",
              "<style scoped>\n",
              "    .dataframe tbody tr th:only-of-type {\n",
              "        vertical-align: middle;\n",
              "    }\n",
              "\n",
              "    .dataframe tbody tr th {\n",
              "        vertical-align: top;\n",
              "    }\n",
              "\n",
              "    .dataframe thead th {\n",
              "        text-align: right;\n",
              "    }\n",
              "</style>\n",
              "<table border=\"1\" class=\"dataframe\">\n",
              "  <thead>\n",
              "    <tr style=\"text-align: right;\">\n",
              "      <th></th>\n",
              "      <th>AthleteComments</th>\n",
              "      <th>Rpe</th>\n",
              "      <th>x</th>\n",
              "      <th>y</th>\n",
              "    </tr>\n",
              "  </thead>\n",
              "  <tbody>\n",
              "    <tr>\n",
              "      <th>0</th>\n",
              "      <td>*01/01/2020 Becky DiSorbo: Need to do another...</td>\n",
              "      <td>NaN</td>\n",
              "      <td>-0.482885</td>\n",
              "      <td>-0.750463</td>\n",
              "    </tr>\n",
              "    <tr>\n",
              "      <th>1</th>\n",
              "      <td>*01/01/2020 Becky DiSorbo: Rode the trainer b...</td>\n",
              "      <td>6.0</td>\n",
              "      <td>1.390264</td>\n",
              "      <td>1.018621</td>\n",
              "    </tr>\n",
              "    <tr>\n",
              "      <th>2</th>\n",
              "      <td>*01/01/2020 Becky DiSorbo: About ten runs. Co...</td>\n",
              "      <td>6.0</td>\n",
              "      <td>-0.407401</td>\n",
              "      <td>0.355484</td>\n",
              "    </tr>\n",
              "    <tr>\n",
              "      <th>3</th>\n",
              "      <td>*01/02/2020 Becky DiSorbo: Easy skiing. Cold ...</td>\n",
              "      <td>NaN</td>\n",
              "      <td>-0.178075</td>\n",
              "      <td>-0.276941</td>\n",
              "    </tr>\n",
              "    <tr>\n",
              "      <th>4</th>\n",
              "      <td>*01/03/2020 Becky DiSorbo: Felt good without ...</td>\n",
              "      <td>5.0</td>\n",
              "      <td>-0.135101</td>\n",
              "      <td>-1.689554</td>\n",
              "    </tr>\n",
              "    <tr>\n",
              "      <th>...</th>\n",
              "      <td>...</td>\n",
              "      <td>...</td>\n",
              "      <td>...</td>\n",
              "      <td>...</td>\n",
              "    </tr>\n",
              "    <tr>\n",
              "      <th>1278</th>\n",
              "      <td>NaN</td>\n",
              "      <td>7.0</td>\n",
              "      <td>NaN</td>\n",
              "      <td>NaN</td>\n",
              "    </tr>\n",
              "    <tr>\n",
              "      <th>1280</th>\n",
              "      <td>NaN</td>\n",
              "      <td>4.0</td>\n",
              "      <td>NaN</td>\n",
              "      <td>NaN</td>\n",
              "    </tr>\n",
              "    <tr>\n",
              "      <th>1281</th>\n",
              "      <td>NaN</td>\n",
              "      <td>5.0</td>\n",
              "      <td>NaN</td>\n",
              "      <td>NaN</td>\n",
              "    </tr>\n",
              "    <tr>\n",
              "      <th>1282</th>\n",
              "      <td>NaN</td>\n",
              "      <td>5.0</td>\n",
              "      <td>NaN</td>\n",
              "      <td>NaN</td>\n",
              "    </tr>\n",
              "    <tr>\n",
              "      <th>1283</th>\n",
              "      <td>NaN</td>\n",
              "      <td>4.0</td>\n",
              "      <td>NaN</td>\n",
              "      <td>NaN</td>\n",
              "    </tr>\n",
              "  </tbody>\n",
              "</table>\n",
              "<p>1035 rows × 4 columns</p>\n",
              "</div>"
            ],
            "text/plain": [
              "                                        AthleteComments  ...         y\n",
              "0      *01/01/2020 Becky DiSorbo: Need to do another...  ... -0.750463\n",
              "1      *01/01/2020 Becky DiSorbo: Rode the trainer b...  ...  1.018621\n",
              "2      *01/01/2020 Becky DiSorbo: About ten runs. Co...  ...  0.355484\n",
              "3      *01/02/2020 Becky DiSorbo: Easy skiing. Cold ...  ... -0.276941\n",
              "4      *01/03/2020 Becky DiSorbo: Felt good without ...  ... -1.689554\n",
              "...                                                 ...  ...       ...\n",
              "1278                                                NaN  ...       NaN\n",
              "1280                                                NaN  ...       NaN\n",
              "1281                                                NaN  ...       NaN\n",
              "1282                                                NaN  ...       NaN\n",
              "1283                                                NaN  ...       NaN\n",
              "\n",
              "[1035 rows x 4 columns]"
            ]
          },
          "metadata": {
            "tags": []
          },
          "execution_count": 13
        }
      ]
    },
    {
      "cell_type": "code",
      "metadata": {
        "colab": {
          "base_uri": "https://localhost:8080/",
          "height": 424
        },
        "id": "DJYIICFtixUn",
        "outputId": "e4321be5-080a-44d6-e666-9ce6a0503677"
      },
      "source": [
        "data = df.dropna()\n",
        "data"
      ],
      "execution_count": 18,
      "outputs": [
        {
          "output_type": "execute_result",
          "data": {
            "text/html": [
              "<div>\n",
              "<style scoped>\n",
              "    .dataframe tbody tr th:only-of-type {\n",
              "        vertical-align: middle;\n",
              "    }\n",
              "\n",
              "    .dataframe tbody tr th {\n",
              "        vertical-align: top;\n",
              "    }\n",
              "\n",
              "    .dataframe thead th {\n",
              "        text-align: right;\n",
              "    }\n",
              "</style>\n",
              "<table border=\"1\" class=\"dataframe\">\n",
              "  <thead>\n",
              "    <tr style=\"text-align: right;\">\n",
              "      <th></th>\n",
              "      <th>AthleteComments</th>\n",
              "      <th>Rpe</th>\n",
              "      <th>x</th>\n",
              "      <th>y</th>\n",
              "    </tr>\n",
              "  </thead>\n",
              "  <tbody>\n",
              "    <tr>\n",
              "      <th>1</th>\n",
              "      <td>*01/01/2020 Becky DiSorbo: Rode the trainer b...</td>\n",
              "      <td>6.0</td>\n",
              "      <td>1.390264</td>\n",
              "      <td>1.018621</td>\n",
              "    </tr>\n",
              "    <tr>\n",
              "      <th>2</th>\n",
              "      <td>*01/01/2020 Becky DiSorbo: About ten runs. Co...</td>\n",
              "      <td>6.0</td>\n",
              "      <td>-0.407401</td>\n",
              "      <td>0.355484</td>\n",
              "    </tr>\n",
              "    <tr>\n",
              "      <th>4</th>\n",
              "      <td>*01/03/2020 Becky DiSorbo: Felt good without ...</td>\n",
              "      <td>5.0</td>\n",
              "      <td>-0.135101</td>\n",
              "      <td>-1.689554</td>\n",
              "    </tr>\n",
              "    <tr>\n",
              "      <th>5</th>\n",
              "      <td>*01/03/2020 Becky DiSorbo: Used heart rate mo...</td>\n",
              "      <td>6.0</td>\n",
              "      <td>0.553045</td>\n",
              "      <td>-0.908569</td>\n",
              "    </tr>\n",
              "    <tr>\n",
              "      <th>6</th>\n",
              "      <td>*01/04/2020 Becky DiSorbo: Still not hooked u...</td>\n",
              "      <td>6.0</td>\n",
              "      <td>0.834611</td>\n",
              "      <td>-0.160634</td>\n",
              "    </tr>\n",
              "    <tr>\n",
              "      <th>...</th>\n",
              "      <td>...</td>\n",
              "      <td>...</td>\n",
              "      <td>...</td>\n",
              "      <td>...</td>\n",
              "    </tr>\n",
              "    <tr>\n",
              "      <th>721</th>\n",
              "      <td>*12/28/2020 Becky DiSorbo: 15 min warm up 20 ...</td>\n",
              "      <td>5.0</td>\n",
              "      <td>1.273014</td>\n",
              "      <td>1.468084</td>\n",
              "    </tr>\n",
              "    <tr>\n",
              "      <th>722</th>\n",
              "      <td>*12/29/2020 Becky DiSorbo: Felt strong. Snowy...</td>\n",
              "      <td>4.0</td>\n",
              "      <td>2.106488</td>\n",
              "      <td>-0.744399</td>\n",
              "    </tr>\n",
              "    <tr>\n",
              "      <th>723</th>\n",
              "      <td>*12/30/2020 Becky DiSorbo: Zones 4&amp;5 painful ...</td>\n",
              "      <td>6.0</td>\n",
              "      <td>0.998019</td>\n",
              "      <td>1.503460</td>\n",
              "    </tr>\n",
              "    <tr>\n",
              "      <th>726</th>\n",
              "      <td>*12/31/2020 Becky DiSorbo: Am ski session. No...</td>\n",
              "      <td>5.0</td>\n",
              "      <td>-1.562592</td>\n",
              "      <td>-0.449329</td>\n",
              "    </tr>\n",
              "    <tr>\n",
              "      <th>728</th>\n",
              "      <td>*01/01/2021 Becky DiSorbo: Round two skiing.*</td>\n",
              "      <td>5.0</td>\n",
              "      <td>-1.656585</td>\n",
              "      <td>-0.840479</td>\n",
              "    </tr>\n",
              "  </tbody>\n",
              "</table>\n",
              "<p>412 rows × 4 columns</p>\n",
              "</div>"
            ],
            "text/plain": [
              "                                       AthleteComments  Rpe         x         y\n",
              "1     *01/01/2020 Becky DiSorbo: Rode the trainer b...  6.0  1.390264  1.018621\n",
              "2     *01/01/2020 Becky DiSorbo: About ten runs. Co...  6.0 -0.407401  0.355484\n",
              "4     *01/03/2020 Becky DiSorbo: Felt good without ...  5.0 -0.135101 -1.689554\n",
              "5     *01/03/2020 Becky DiSorbo: Used heart rate mo...  6.0  0.553045 -0.908569\n",
              "6     *01/04/2020 Becky DiSorbo: Still not hooked u...  6.0  0.834611 -0.160634\n",
              "..                                                 ...  ...       ...       ...\n",
              "721   *12/28/2020 Becky DiSorbo: 15 min warm up 20 ...  5.0  1.273014  1.468084\n",
              "722   *12/29/2020 Becky DiSorbo: Felt strong. Snowy...  4.0  2.106488 -0.744399\n",
              "723   *12/30/2020 Becky DiSorbo: Zones 4&5 painful ...  6.0  0.998019  1.503460\n",
              "726   *12/31/2020 Becky DiSorbo: Am ski session. No...  5.0 -1.562592 -0.449329\n",
              "728      *01/01/2021 Becky DiSorbo: Round two skiing.*  5.0 -1.656585 -0.840479\n",
              "\n",
              "[412 rows x 4 columns]"
            ]
          },
          "metadata": {
            "tags": []
          },
          "execution_count": 18
        }
      ]
    },
    {
      "cell_type": "code",
      "metadata": {
        "colab": {
          "base_uri": "https://localhost:8080/",
          "height": 542
        },
        "id": "Lle31xa4mvtP",
        "outputId": "2b15f929-1b29-43cf-f38b-a46f089213cb"
      },
      "source": [
        "fig = px.scatter_3d(data, x='x', y='y', z='Rpe')\n",
        "iplot(fig)"
      ],
      "execution_count": 19,
      "outputs": [
        {
          "output_type": "display_data",
          "data": {
            "text/html": [
              "<html>\n",
              "<head><meta charset=\"utf-8\" /></head>\n",
              "<body>\n",
              "    <div>\n",
              "            <script src=\"https://cdnjs.cloudflare.com/ajax/libs/mathjax/2.7.5/MathJax.js?config=TeX-AMS-MML_SVG\"></script><script type=\"text/javascript\">if (window.MathJax) {MathJax.Hub.Config({SVG: {font: \"STIX-Web\"}});}</script>\n",
              "                <script type=\"text/javascript\">window.PlotlyConfig = {MathJaxConfig: 'local'};</script>\n",
              "        <script src=\"https://cdn.plot.ly/plotly-latest.min.js\"></script>    \n",
              "            <div id=\"c79d3fa3-110e-4f6f-ac3e-6f31333612be\" class=\"plotly-graph-div\" style=\"height:525px; width:100%;\"></div>\n",
              "            <script type=\"text/javascript\">\n",
              "                \n",
              "                    window.PLOTLYENV=window.PLOTLYENV || {};\n",
              "                    \n",
              "                if (document.getElementById(\"c79d3fa3-110e-4f6f-ac3e-6f31333612be\")) {\n",
              "                    Plotly.newPlot(\n",
              "                        'c79d3fa3-110e-4f6f-ac3e-6f31333612be',\n",
              "                        [{\"hoverlabel\": {\"namelength\": 0}, \"hovertemplate\": \"x=%{x}<br>y=%{y}<br>Rpe=%{z}\", \"legendgroup\": \"\", \"marker\": {\"color\": \"#636efa\", \"symbol\": \"circle\"}, \"mode\": \"markers\", \"name\": \"\", \"scene\": \"scene\", \"showlegend\": false, \"type\": \"scatter3d\", \"x\": [1.3902643918991089, -0.4074007272720337, -0.13510078191757202, 0.5530450344085693, 0.8346112966537476, -1.1897430419921875, -0.6506497263908386, 0.3000938296318054, 0.5954750180244446, 2.9891438484191895, 2.1406185626983643, -0.5281733274459839, 2.531744956970215, -1.0216970443725586, -0.46637219190597534, -0.14700403809547424, -0.15849275887012482, -1.4173507690429688, 2.7455763816833496, 2.618786334991455, -0.5074161887168884, -1.5220752954483032, 1.3184714317321777, -1.9980427026748657, -0.7912508249282837, 0.16821646690368652, 0.5784118175506592, -0.2437327802181244, 2.15346097946167, -1.3535470962524414, -0.5866504311561584, 1.5439119338989258, 0.4761720895767212, 1.9086477756500244, -0.18607711791992188, 1.2474793195724487, -0.6665760278701782, 1.1440937519073486, 2.4528584480285645, -0.48425278067588806, -2.116151809692383, 1.1308929920196533, -2.339263916015625, 1.0612820386886597, -1.5343914031982422, -1.3044506311416626, 2.0326616764068604, -0.77410888671875, 1.080682396888733, 2.7795934677124023, 2.389725685119629, -0.7812516093254089, 2.4613852500915527, 2.4078636169433594, 2.932687520980835, 1.1190382242202759, -0.20179587602615356, 1.870483160018921, 2.5495262145996094, -0.3063507080078125, 1.0633636713027954, 0.5362859964370728, 2.27040433883667, -0.926008939743042, 1.9168989658355713, -0.7509969472885132, 0.2841666340827942, -0.4806777834892273, 2.1167287826538086, 0.6465480327606201, -0.1731911301612854, 1.7075183391571045, -1.2967088222503662, 2.71100115776062, -0.5080602169036865, 1.8223607540130615, 0.647709846496582, -1.6559386253356934, 1.1591495275497437, 2.3859612941741943, 3.01102876663208, -0.3511675298213959, -1.5403661727905273, -1.7319145202636719, 0.7415755987167358, -1.2402610778808594, 0.7163907289505005, -1.2895301580429077, 0.44506555795669556, -0.4019356071949005, -0.17694509029388428, 1.7205519676208496, -1.1622531414031982, 2.9209041595458984, -1.922478437423706, -1.60795259475708, -1.60795259475708, 2.7296817302703857, -1.9776607751846313, -1.5819520950317383, 1.9479740858078003, -0.3410610556602478, -1.9590623378753662, 2.3338561058044434, -0.549211323261261, 0.862799882888794, 2.522840976715088, -0.9429559707641602, -1.9403071403503418, -1.5949455499649048, 2.3113718032836914, 1.6794214248657227, -2.699100971221924, -1.3008846044540405, 0.5110804438591003, -1.4923608303070068, 2.2922935485839844, -3.1543710231781006, 1.802318811416626, -1.5771374702453613, 2.1591031551361084, -2.080901861190796, -1.964552640914917, 1.1759212017059326, -0.4262286424636841, 1.1537984609603882, 2.0078067779541016, -2.2390897274017334, -0.2563464343547821, -1.0723057985305786, -0.13549034297466278, -1.1497575044631958, 2.854466438293457, -1.6949942111968994, -1.0875561237335205, -0.9961698055267334, -2.8051908016204834, -0.44992995262145996, 2.7513012886047363, -2.1783266067504883, -1.2355531454086304, 1.5708588361740112, -2.6367921829223633, 0.49690476059913635, -2.3580174446105957, 1.1732913255691528, 0.567840576171875, -2.559110403060913, 1.2998778820037842, 1.2079596519470215, -0.07102678716182709, 0.9154828190803528, -1.2812378406524658, 1.7022550106048584, 0.040917083621025085, 0.9804877042770386, 2.791004180908203, 0.5124762654304504, 0.5786811709403992, 2.2999696731567383, 2.583667516708374, -1.8035286664962769, -1.427189588546753, -1.7948718070983887, -1.7927563190460205, 0.9383212924003601, 0.7547622323036194, 0.30228734016418457, 1.8304054737091064, 0.8724688291549683, 1.9116065502166748, -0.5938102006912231, -2.155980348587036, -2.371917486190796, 0.418207585811615, 1.2252705097198486, 1.8210967779159546, 1.6933085918426514, 1.5569689273834229, -1.1584779024124146, 3.0055384635925293, -0.8731297850608826, -1.4006065130233765, -1.4227527379989624, -0.646446704864502, -1.7650189399719238, 1.4498803615570068, -2.0028038024902344, -0.21937227249145508, -0.060186997056007385, -1.9271459579467773, -1.6141791343688965, 2.464505195617676, 1.1315956115722656, 1.1366209983825684, -2.262962579727173, -0.8292719125747681, 0.9499688744544983, -0.9637023210525513, 2.846470355987549, -0.7090686559677124, 1.2896782159805298, -1.5215296745300293, -1.7694103717803955, -2.079428195953369, 1.8716278076171875, -1.4884880781173706, -0.9582699537277222, 2.5223937034606934, 0.8114116787910461, -1.7171002626419067, -1.2774877548217773, 1.8115639686584473, 0.41462242603302, -1.5549311637878418, 1.979572057723999, -0.7377560138702393, 1.085878849029541, 0.15896528959274292, -0.07246509939432144, 2.720702886581421, -0.9318497180938721, 2.9239695072174072, -1.1752415895462036, 1.905869483947754, -1.099219560623169, 1.1494050025939941, 1.790887475013733, -2.064333915710449, -1.363081693649292, -2.1302003860473633, 1.7725858688354492, -3.217047691345215, 0.13549497723579407, -1.7456989288330078, -1.254899501800537, 0.44132667779922485, -0.27511075139045715, 1.5677109956741333, 0.5887538194656372, 2.7995352745056152, 1.018341302871704, 0.4778880476951599, -1.6410164833068848, -1.249723196029663, 2.498462438583374, -2.5487794876098633, 1.6654815673828125, -0.06042584776878357, 2.338669538497925, 0.11704105883836746, 1.5705162286758423, -1.1672883033752441, -0.7207832932472229, -0.9153236150741577, 2.3571937084198, -2.228257417678833, 2.0098774433135986, -1.6717798709869385, -1.1863300800323486, -1.7238894701004028, 1.4522044658660889, 2.3722472190856934, -2.171862840652466, -1.6989787817001343, 1.7011644840240479, -1.6086294651031494, -1.899824857711792, 1.8970692157745361, -1.0489165782928467, 0.7443310022354126, 0.558426022529602, 1.7532038688659668, 1.3707427978515625, 1.858565092086792, -0.7267535924911499, -0.03888649120926857, 0.7524406909942627, -0.9122445583343506, 2.0765650272369385, -1.533538818359375, -1.1617459058761597, -0.8254090547561646, -2.1231648921966553, -0.20918627083301544, -0.025144442915916443, -1.6784878969192505, 0.8199082016944885, 1.1075483560562134, -0.8944265842437744, -1.2647473812103271, -2.957359790802002, 0.204227477312088, 0.3942457139492035, -0.8155472278594971, 1.9959993362426758, -0.6718295216560364, -1.680614948272705, 2.302377462387085, 1.6808369159698486, 0.26495543122291565, -2.557842493057251, -2.3076648712158203, 2.589667558670044, 2.273388385772705, -1.3752635717391968, -0.3144037425518036, -0.25353312492370605, 1.6065959930419922, 0.07050570100545883, -1.6410202980041504, -0.7575038075447083, -1.1087713241577148, 1.53000807762146, 1.291661024093628, -1.5774738788604736, -0.45408955216407776, 0.9859717488288879, 0.5088589191436768, -1.0772978067398071, -1.6726146936416626, 0.4786885976791382, 3.757140636444092, 3.340723752975464, -0.8943186402320862, 1.8350275754928589, 1.33737051486969, -1.184995412826538, -0.4852560758590698, -1.6909120082855225, 0.2538212239742279, -0.16699576377868652, 1.0150952339172363, -0.8105229139328003, -1.9975435733795166, -0.4278850257396698, 1.9542138576507568, -1.2499899864196777, 1.5797988176345825, -1.1971579790115356, -0.4889826476573944, 1.4371469020843506, -1.6697227954864502, 0.6551127433776855, -2.2049384117126465, -1.6968529224395752, -0.41144809126853943, -1.5926376581192017, 1.527013897895813, -1.429139256477356, -0.11682219803333282, 1.5477570295333862, -1.631345272064209, 0.10225395858287811, -2.0077567100524902, 1.4561504125595093, 2.663703680038452, -0.023091517388820648, -1.722794532775879, 0.27878522872924805, 0.1289413571357727, -1.6503043174743652, -1.1332566738128662, 0.6831650733947754, 1.1252293586730957, -1.5377691984176636, -0.8387999534606934, 1.2391809225082397, 1.1602857112884521, -0.6331136226654053, -0.9412381649017334, -2.568819522857666, 2.2604856491088867, 1.5727767944335938, -1.0544763803482056, 0.8399750590324402, -1.9463144540786743, -1.1373133659362793, 0.2728985548019409, 0.647589921951294, -0.055592626333236694, 1.053642988204956, 0.10125245898962021, -0.4709964692592621, -0.6047025918960571, 2.224111557006836, -1.2033476829528809, -0.6391434669494629, -1.7745985984802246, -2.1768851280212402, -2.141097068786621, -1.5153248310089111, -1.4631240367889404, 2.3884634971618652, -0.3802991509437561, -1.425624132156372, 0.5495859980583191, 0.7384896278381348, -0.8634470105171204, -1.3785157203674316, -2.37032413482666, -1.1621227264404297, 1.2551305294036865, -1.552358865737915, -0.8819490075111389, -0.1511596441268921, -1.5133366584777832, 1.2730138301849365, 2.106487989425659, 0.998018741607666, -1.562591791152954, -1.6565853357315063], \"y\": [1.0186212062835693, 0.35548415780067444, -1.6895537376403809, -0.9085687398910522, -0.16063418984413147, 2.649371862411499, -0.4833175837993622, 0.17142030596733093, -0.5996218919754028, 0.45450013875961304, 0.3682967722415924, 4.079787731170654, 0.7722074389457703, 1.8786994218826294, -1.9493578672409058, -1.3949342966079712, 2.7380499839782715, -2.0963826179504395, 0.776032030582428, 0.2619481682777405, 4.045485496520996, 3.6753225326538086, -1.5448672771453857, -0.2778546214103699, -2.541304588317871, -1.785362720489502, -1.4476728439331055, 0.628848671913147, 0.8401873707771301, 2.6261119842529297, -1.4238667488098145, 0.5330387949943542, -1.8736759424209595, -0.10228168964385986, -1.716060757637024, 1.7964344024658203, 3.2229833602905273, 0.24134528636932373, 0.14310812950134277, -0.6214044690132141, 2.7301554679870605, 1.04896879196167, -1.7844220399856567, -1.3738317489624023, -1.0531728267669678, -1.0472767353057861, 0.09649211913347244, 2.802676200866699, -0.7756708264350891, 0.47985514998435974, 0.8558233976364136, 3.004169225692749, 0.23055541515350342, 0.4332890808582306, 0.17479419708251953, -0.6705106496810913, 2.301501989364624, -0.5561888217926025, 1.3698925971984863, 2.4196557998657227, -0.42560696601867676, -0.11807016283273697, -0.04621469974517822, -0.008574515581130981, -0.03427889198064804, -0.7757900953292847, 0.2856903672218323, 2.0642178058624268, 0.36453908681869507, -1.4980626106262207, 2.0861027240753174, 0.05751052126288414, -0.993036150932312, 1.2241932153701782, -1.270673155784607, -0.828606903553009, 1.1796989440917969, 2.5651817321777344, 1.597435712814331, -0.03472857177257538, 0.4469808042049408, -1.735513687133789, 2.079676866531372, 1.6530778408050537, -0.23873421549797058, -0.7218623161315918, 0.04056662321090698, -1.0518758296966553, 0.6275292634963989, -1.1946567296981812, 2.15958309173584, 0.2719270884990692, 2.072178363800049, 0.4227781891822815, 0.848117470741272, -0.8631905913352966, -0.8631905913352966, -0.3290601372718811, -1.653285026550293, 2.635486602783203, -0.3598089814186096, 1.528125524520874, 0.913605809211731, -0.2228100746870041, -2.1561625003814697, -0.4566890299320221, -0.7419804334640503, -0.5198205709457397, 1.9610286951065063, 1.7226792573928833, 1.3775843381881714, -0.2507224977016449, 0.7449851036071777, -0.6081578731536865, -0.14973105490207672, 0.8148633241653442, -0.8193333745002747, -0.019659675657749176, 0.05631594732403755, 0.4873771369457245, 0.3359501361846924, 0.43515267968177795, 0.5838861465454102, -0.10656461119651794, 0.055183231830596924, -0.32269006967544556, -0.8311269283294678, 0.7795493602752686, -1.0497455596923828, -0.24496929347515106, -1.6113120317459106, -0.7293026447296143, 0.6907786130905151, 1.1303913593292236, -0.5422695279121399, -0.4410068690776825, 0.4199299216270447, -2.723578691482544, 0.95260089635849, 1.858534812927246, -0.8462190628051758, -0.45896416902542114, 1.8647483587265015, -0.3212192952632904, 2.073550224304199, 0.71547532081604, -1.0321358442306519, 1.532102346420288, 0.0019267797470092773, -0.8983041048049927, 0.36444419622421265, -0.2136784940958023, 0.2765272259712219, 0.10952821373939514, 0.2119881808757782, -0.7136685848236084, -0.35477378964424133, -0.7979333996772766, -1.6312499046325684, 0.36150628328323364, 0.12811169028282166, 1.965965986251831, -0.7138806581497192, 1.4602656364440918, 2.2448477745056152, 0.16314569115638733, -1.1152842044830322, -1.9402101039886475, -0.2984205186367035, -0.6871508359909058, 2.179629325866699, -2.657050848007202, -2.5022759437561035, -1.2370094060897827, -0.12420351803302765, 0.05090811848640442, -1.6864135265350342, -0.19072139263153076, -0.9421019554138184, -0.9190149903297424, 1.1920878887176514, -1.6259074211120605, -1.0045340061187744, -0.8078052997589111, -0.24013060331344604, -3.3045194149017334, -1.1141109466552734, -2.9411749839782715, -2.266690969467163, -0.9675670862197876, -2.029120683670044, -1.399848222732544, 0.6333494186401367, -0.30736634135246277, 0.2883148789405823, 0.012144556269049644, 1.411794662475586, 0.17432020604610443, 0.9931319355964661, 0.45826488733291626, -1.5738574266433716, 0.025632798671722412, -2.146836757659912, -0.07459332048892975, -1.4702084064483643, -0.42048919200897217, -1.594361662864685, -1.807837963104248, 0.3056896924972534, -0.0990075170993805, -1.0250040292739868, 2.494333505630493, 0.5014761686325073, -1.357797384262085, -1.255001187324524, 0.41586583852767944, 1.288351058959961, -0.7454157471656799, -0.8736816048622131, -1.715561866760254, 0.5665913224220276, 1.6628905534744263, 0.18211549520492554, 0.17748180031776428, -0.3730018138885498, -0.3260117471218109, -1.1154319047927856, -0.36644965410232544, -1.724571943283081, -2.204629421234131, 2.497326374053955, -0.34273964166641235, -0.3596133589744568, -1.7779479026794434, -3.325047492980957, -1.5708065032958984, -1.0391074419021606, 0.7547366619110107, 2.2170400619506836, 0.7601796388626099, -0.3943473994731903, 1.085399866104126, -0.5703887939453125, -0.43476077914237976, -2.2221641540527344, 0.719761073589325, 2.364643096923828, -0.41092821955680847, -0.5721359252929688, -0.5106203556060791, 1.0663490295410156, -0.6881856322288513, 1.9692606925964355, -1.1063895225524902, -2.226255178451538, -0.5472697019577026, -2.1103780269622803, 0.4258043169975281, 1.112109661102295, -1.3645193576812744, 0.7141350507736206, -0.4765959680080414, -0.35422247648239136, -0.2552807033061981, 1.3712043762207031, 0.002434026449918747, 0.9366905689239502, -0.5290543437004089, 0.25326719880104065, -1.8271484375, 0.12727077305316925, -1.0607515573501587, 0.14093561470508575, -0.33027103543281555, -0.8607643842697144, -0.8796415328979492, -0.6266711354255676, -0.12142334133386612, 2.5968828201293945, 0.01213143952190876, -1.3665056228637695, -1.8849918842315674, -2.869561195373535, -2.0288383960723877, -1.6874622106552124, -0.59059739112854, -0.9113484621047974, 0.6571519374847412, -0.019919216632843018, -1.015627384185791, -1.592181921005249, 1.405684471130371, -0.8052772879600525, 0.2021961808204651, -0.6129181385040283, 0.6085296273231506, 0.7638857364654541, -3.1819615364074707, -0.8545368909835815, -0.7650740146636963, -0.8724749088287354, -1.8601248264312744, 2.015432357788086, 0.8259624242782593, -0.5464715361595154, -0.5893508195877075, -0.9658619165420532, -0.761062502861023, -0.42031052708625793, -1.208715796470642, -3.633683204650879, -1.3224222660064697, -0.7613919377326965, 0.5503590106964111, 0.4105396270751953, 2.3539936542510986, -0.9339144229888916, 1.2573235034942627, 0.3284245729446411, -0.20213285088539124, -3.228400468826294, -0.03844255954027176, 0.7540487051010132, -0.12272291630506516, -1.1394131183624268, 0.3112265467643738, -0.47622010111808777, 0.31697362661361694, -0.7178141474723816, -3.2753190994262695, -1.4180103540420532, 0.3510587513446808, 0.5518059730529785, -0.5667729377746582, -2.6788415908813477, -1.9688007831573486, 1.3143192529678345, -1.6781190633773804, 1.483888030052185, -1.192934513092041, 3.515995979309082, 0.7478877902030945, 2.464503288269043, -0.025212448090314865, -0.4353182315826416, 0.4037063717842102, 0.10753576457500458, 0.37638917565345764, -0.3709864616394043, -1.0477622747421265, 3.5006446838378906, -0.8704668879508972, 4.125981330871582, 1.0191963911056519, 3.1637537479400635, 0.6022175550460815, -0.021015577018260956, -1.663557767868042, 3.3693203926086426, -0.04873796924948692, -1.4744715690612793, -0.3222350478172302, 0.2159452736377716, -0.488270103931427, -0.08536480367183685, -0.7833303213119507, 2.7269253730773926, -1.3133410215377808, -1.9162639379501343, -1.8901294469833374, 2.408135175704956, 2.5896337032318115, 0.5884647965431213, -0.08354473114013672, -2.504899501800537, -1.1067181825637817, 3.6140971183776855, -1.5077241659164429, -1.858345627784729, 0.08377905935049057, 1.8591996431350708, -0.500426173210144, -1.0374822616577148, 2.939741611480713, 3.517547130584717, 1.4365956783294678, -1.0929731130599976, -0.9198092818260193, 3.05047345161438, 4.101846694946289, 3.6559224128723145, -3.5754752159118652, -0.9612994194030762, -0.414386510848999, 3.897446870803833, -2.6420819759368896, 0.5110704898834229, -1.1908758878707886, 3.9562509059906006, 0.23045286536216736, -1.631232500076294, -1.724696397781372, 0.054788969457149506, -1.3368504047393799, -0.5966973900794983, 0.5511494874954224, -0.40544837713241577, 1.4680838584899902, -0.7443993091583252, 1.503460168838501, -0.4493289887905121, -0.8404791951179504], \"z\": [6.0, 6.0, 5.0, 6.0, 6.0, 6.0, 5.0, 6.0, 4.0, 5.0, 6.0, 6.0, 6.0, 6.0, 5.0, 6.0, 7.0, 6.0, 6.0, 6.0, 6.0, 6.0, 6.0, 8.0, 6.0, 6.0, 6.0, 7.0, 8.0, 5.0, 7.0, 6.0, 6.0, 7.0, 6.0, 7.0, 7.0, 6.0, 6.0, 6.0, 6.0, 6.0, 7.0, 6.0, 7.0, 7.0, 8.0, 6.0, 6.0, 7.0, 8.0, 6.0, 6.0, 8.0, 6.0, 6.0, 6.0, 4.0, 6.0, 8.0, 3.0, 6.0, 8.0, 5.0, 6.0, 6.0, 6.0, 6.0, 6.0, 6.0, 6.0, 5.0, 6.0, 6.0, 6.0, 7.0, 7.0, 6.0, 6.0, 6.0, 7.0, 7.0, 5.0, 7.0, 6.0, 5.0, 5.0, 7.0, 6.0, 6.0, 8.0, 6.0, 7.0, 6.0, 6.0, 6.0, 7.0, 6.0, 6.0, 6.0, 6.0, 7.0, 6.0, 6.0, 7.0, 6.0, 6.0, 6.0, 6.0, 7.0, 6.0, 6.0, 5.0, 5.0, 8.0, 7.0, 6.0, 5.0, 6.0, 6.0, 6.0, 7.0, 5.0, 7.0, 6.0, 6.0, 6.0, 8.0, 6.0, 5.0, 4.0, 6.0, 6.0, 3.0, 3.0, 7.0, 4.0, 3.0, 3.0, 7.0, 6.0, 5.0, 7.0, 7.0, 3.0, 6.0, 6.0, 7.0, 6.0, 3.0, 6.0, 7.0, 5.0, 6.0, 8.0, 8.0, 5.0, 5.0, 6.0, 5.0, 6.0, 7.0, 5.0, 5.0, 7.0, 6.0, 6.0, 7.0, 6.0, 7.0, 6.0, 6.0, 6.0, 5.0, 5.0, 6.0, 5.0, 5.0, 5.0, 6.0, 5.0, 6.0, 6.0, 7.0, 6.0, 7.0, 8.0, 5.0, 6.0, 5.0, 5.0, 6.0, 5.0, 5.0, 5.0, 4.0, 5.0, 5.0, 6.0, 5.0, 6.0, 8.0, 6.0, 6.0, 6.0, 6.0, 5.0, 6.0, 5.0, 6.0, 5.0, 3.0, 5.0, 8.0, 5.0, 8.0, 5.0, 6.0, 9.0, 7.0, 8.0, 6.0, 6.0, 6.0, 6.0, 5.0, 6.0, 4.0, 5.0, 7.0, 6.0, 8.0, 7.0, 7.0, 5.0, 5.0, 2.0, 5.0, 7.0, 8.0, 5.0, 7.0, 7.0, 5.0, 5.0, 5.0, 5.0, 8.0, 5.0, 7.0, 8.0, 6.0, 5.0, 5.0, 5.0, 5.0, 5.0, 5.0, 5.0, 5.0, 4.0, 6.0, 5.0, 5.0, 5.0, 5.0, 4.0, 7.0, 5.0, 5.0, 7.0, 5.0, 7.0, 4.0, 8.0, 7.0, 4.0, 5.0, 6.0, 5.0, 2.0, 5.0, 7.0, 4.0, 8.0, 7.0, 2.0, 5.0, 5.0, 6.0, 6.0, 5.0, 6.0, 6.0, 5.0, 6.0, 5.0, 6.0, 6.0, 7.0, 5.0, 6.0, 6.0, 6.0, 6.0, 6.0, 6.0, 4.0, 6.0, 7.0, 5.0, 4.0, 6.0, 7.0, 6.0, 7.0, 6.0, 5.0, 6.0, 6.0, 5.0, 7.0, 5.0, 5.0, 8.0, 6.0, 6.0, 6.0, 7.0, 6.0, 6.0, 5.0, 5.0, 6.0, 7.0, 4.0, 4.0, 6.0, 5.0, 5.0, 5.0, 5.0, 5.0, 5.0, 6.0, 6.0, 5.0, 7.0, 7.0, 6.0, 4.0, 6.0, 6.0, 7.0, 5.0, 5.0, 7.0, 6.0, 7.0, 6.0, 6.0, 5.0, 6.0, 5.0, 6.0, 7.0, 5.0, 4.0, 5.0, 6.0, 7.0, 6.0, 5.0, 6.0, 7.0, 6.0, 6.0, 7.0, 5.0, 6.0, 6.0, 5.0, 6.0, 8.0, 6.0, 5.0, 6.0, 6.0, 6.0, 4.0, 5.0, 5.0, 6.0, 5.0, 5.0, 5.0, 4.0, 5.0, 5.0, 6.0, 5.0, 5.0, 3.0, 5.0, 5.0, 5.0, 6.0, 5.0, 4.0, 6.0, 5.0, 5.0]}],\n",
              "                        {\"legend\": {\"tracegroupgap\": 0}, \"margin\": {\"t\": 60}, \"scene\": {\"domain\": {\"x\": [0.0, 1.0], \"y\": [0.0, 1.0]}, \"xaxis\": {\"title\": {\"text\": \"x\"}}, \"yaxis\": {\"title\": {\"text\": \"y\"}}, \"zaxis\": {\"title\": {\"text\": \"Rpe\"}}}, \"template\": {\"data\": {\"bar\": [{\"error_x\": {\"color\": \"#2a3f5f\"}, \"error_y\": {\"color\": \"#2a3f5f\"}, \"marker\": {\"line\": {\"color\": \"#E5ECF6\", \"width\": 0.5}}, \"type\": \"bar\"}], \"barpolar\": [{\"marker\": {\"line\": {\"color\": \"#E5ECF6\", \"width\": 0.5}}, \"type\": \"barpolar\"}], \"carpet\": [{\"aaxis\": {\"endlinecolor\": \"#2a3f5f\", \"gridcolor\": \"white\", \"linecolor\": \"white\", \"minorgridcolor\": \"white\", \"startlinecolor\": \"#2a3f5f\"}, \"baxis\": {\"endlinecolor\": \"#2a3f5f\", \"gridcolor\": \"white\", \"linecolor\": \"white\", \"minorgridcolor\": \"white\", \"startlinecolor\": \"#2a3f5f\"}, \"type\": \"carpet\"}], \"choropleth\": [{\"colorbar\": {\"outlinewidth\": 0, \"ticks\": \"\"}, \"type\": \"choropleth\"}], \"contour\": [{\"colorbar\": {\"outlinewidth\": 0, \"ticks\": \"\"}, \"colorscale\": [[0.0, \"#0d0887\"], [0.1111111111111111, \"#46039f\"], [0.2222222222222222, \"#7201a8\"], [0.3333333333333333, \"#9c179e\"], [0.4444444444444444, \"#bd3786\"], [0.5555555555555556, \"#d8576b\"], [0.6666666666666666, \"#ed7953\"], [0.7777777777777778, \"#fb9f3a\"], [0.8888888888888888, \"#fdca26\"], [1.0, \"#f0f921\"]], \"type\": \"contour\"}], \"contourcarpet\": [{\"colorbar\": {\"outlinewidth\": 0, \"ticks\": \"\"}, \"type\": \"contourcarpet\"}], \"heatmap\": [{\"colorbar\": {\"outlinewidth\": 0, \"ticks\": \"\"}, \"colorscale\": [[0.0, \"#0d0887\"], [0.1111111111111111, \"#46039f\"], [0.2222222222222222, \"#7201a8\"], [0.3333333333333333, \"#9c179e\"], [0.4444444444444444, \"#bd3786\"], [0.5555555555555556, \"#d8576b\"], [0.6666666666666666, \"#ed7953\"], [0.7777777777777778, \"#fb9f3a\"], [0.8888888888888888, \"#fdca26\"], [1.0, \"#f0f921\"]], \"type\": \"heatmap\"}], \"heatmapgl\": [{\"colorbar\": {\"outlinewidth\": 0, \"ticks\": \"\"}, \"colorscale\": [[0.0, \"#0d0887\"], [0.1111111111111111, \"#46039f\"], [0.2222222222222222, \"#7201a8\"], [0.3333333333333333, \"#9c179e\"], [0.4444444444444444, \"#bd3786\"], [0.5555555555555556, \"#d8576b\"], [0.6666666666666666, \"#ed7953\"], [0.7777777777777778, \"#fb9f3a\"], [0.8888888888888888, \"#fdca26\"], [1.0, \"#f0f921\"]], \"type\": \"heatmapgl\"}], \"histogram\": [{\"marker\": {\"colorbar\": {\"outlinewidth\": 0, \"ticks\": \"\"}}, \"type\": \"histogram\"}], \"histogram2d\": [{\"colorbar\": {\"outlinewidth\": 0, \"ticks\": \"\"}, \"colorscale\": [[0.0, \"#0d0887\"], [0.1111111111111111, \"#46039f\"], [0.2222222222222222, \"#7201a8\"], [0.3333333333333333, \"#9c179e\"], [0.4444444444444444, \"#bd3786\"], [0.5555555555555556, \"#d8576b\"], [0.6666666666666666, \"#ed7953\"], [0.7777777777777778, \"#fb9f3a\"], [0.8888888888888888, \"#fdca26\"], [1.0, \"#f0f921\"]], \"type\": \"histogram2d\"}], \"histogram2dcontour\": [{\"colorbar\": {\"outlinewidth\": 0, \"ticks\": \"\"}, \"colorscale\": [[0.0, \"#0d0887\"], [0.1111111111111111, \"#46039f\"], [0.2222222222222222, \"#7201a8\"], [0.3333333333333333, \"#9c179e\"], [0.4444444444444444, \"#bd3786\"], [0.5555555555555556, \"#d8576b\"], [0.6666666666666666, \"#ed7953\"], [0.7777777777777778, \"#fb9f3a\"], [0.8888888888888888, \"#fdca26\"], [1.0, \"#f0f921\"]], \"type\": \"histogram2dcontour\"}], \"mesh3d\": [{\"colorbar\": {\"outlinewidth\": 0, \"ticks\": \"\"}, \"type\": \"mesh3d\"}], \"parcoords\": [{\"line\": {\"colorbar\": {\"outlinewidth\": 0, \"ticks\": \"\"}}, \"type\": \"parcoords\"}], \"pie\": [{\"automargin\": true, \"type\": \"pie\"}], \"scatter\": [{\"marker\": {\"colorbar\": {\"outlinewidth\": 0, \"ticks\": \"\"}}, \"type\": \"scatter\"}], \"scatter3d\": [{\"line\": {\"colorbar\": {\"outlinewidth\": 0, \"ticks\": \"\"}}, \"marker\": {\"colorbar\": {\"outlinewidth\": 0, \"ticks\": \"\"}}, \"type\": \"scatter3d\"}], \"scattercarpet\": [{\"marker\": {\"colorbar\": {\"outlinewidth\": 0, \"ticks\": \"\"}}, \"type\": \"scattercarpet\"}], \"scattergeo\": [{\"marker\": {\"colorbar\": {\"outlinewidth\": 0, \"ticks\": \"\"}}, \"type\": \"scattergeo\"}], \"scattergl\": [{\"marker\": {\"colorbar\": {\"outlinewidth\": 0, \"ticks\": \"\"}}, \"type\": \"scattergl\"}], \"scattermapbox\": [{\"marker\": {\"colorbar\": {\"outlinewidth\": 0, \"ticks\": \"\"}}, \"type\": \"scattermapbox\"}], \"scatterpolar\": [{\"marker\": {\"colorbar\": {\"outlinewidth\": 0, \"ticks\": \"\"}}, \"type\": \"scatterpolar\"}], \"scatterpolargl\": [{\"marker\": {\"colorbar\": {\"outlinewidth\": 0, \"ticks\": \"\"}}, \"type\": \"scatterpolargl\"}], \"scatterternary\": [{\"marker\": {\"colorbar\": {\"outlinewidth\": 0, \"ticks\": \"\"}}, \"type\": \"scatterternary\"}], \"surface\": [{\"colorbar\": {\"outlinewidth\": 0, \"ticks\": \"\"}, \"colorscale\": [[0.0, \"#0d0887\"], [0.1111111111111111, \"#46039f\"], [0.2222222222222222, \"#7201a8\"], [0.3333333333333333, \"#9c179e\"], [0.4444444444444444, \"#bd3786\"], [0.5555555555555556, \"#d8576b\"], [0.6666666666666666, \"#ed7953\"], [0.7777777777777778, \"#fb9f3a\"], [0.8888888888888888, \"#fdca26\"], [1.0, \"#f0f921\"]], \"type\": \"surface\"}], \"table\": [{\"cells\": {\"fill\": {\"color\": \"#EBF0F8\"}, \"line\": {\"color\": \"white\"}}, \"header\": {\"fill\": {\"color\": \"#C8D4E3\"}, \"line\": {\"color\": \"white\"}}, \"type\": \"table\"}]}, \"layout\": {\"annotationdefaults\": {\"arrowcolor\": \"#2a3f5f\", \"arrowhead\": 0, \"arrowwidth\": 1}, \"coloraxis\": {\"colorbar\": {\"outlinewidth\": 0, \"ticks\": \"\"}}, \"colorscale\": {\"diverging\": [[0, \"#8e0152\"], [0.1, \"#c51b7d\"], [0.2, \"#de77ae\"], [0.3, \"#f1b6da\"], [0.4, \"#fde0ef\"], [0.5, \"#f7f7f7\"], [0.6, \"#e6f5d0\"], [0.7, \"#b8e186\"], [0.8, \"#7fbc41\"], [0.9, \"#4d9221\"], [1, \"#276419\"]], \"sequential\": [[0.0, \"#0d0887\"], [0.1111111111111111, \"#46039f\"], [0.2222222222222222, \"#7201a8\"], [0.3333333333333333, \"#9c179e\"], [0.4444444444444444, \"#bd3786\"], [0.5555555555555556, \"#d8576b\"], [0.6666666666666666, \"#ed7953\"], [0.7777777777777778, \"#fb9f3a\"], [0.8888888888888888, \"#fdca26\"], [1.0, \"#f0f921\"]], \"sequentialminus\": [[0.0, \"#0d0887\"], [0.1111111111111111, \"#46039f\"], [0.2222222222222222, \"#7201a8\"], [0.3333333333333333, \"#9c179e\"], [0.4444444444444444, \"#bd3786\"], [0.5555555555555556, \"#d8576b\"], [0.6666666666666666, \"#ed7953\"], [0.7777777777777778, \"#fb9f3a\"], [0.8888888888888888, \"#fdca26\"], [1.0, \"#f0f921\"]]}, \"colorway\": [\"#636efa\", \"#EF553B\", \"#00cc96\", \"#ab63fa\", \"#FFA15A\", \"#19d3f3\", \"#FF6692\", \"#B6E880\", \"#FF97FF\", \"#FECB52\"], \"font\": {\"color\": \"#2a3f5f\"}, \"geo\": {\"bgcolor\": \"white\", \"lakecolor\": \"white\", \"landcolor\": \"#E5ECF6\", \"showlakes\": true, \"showland\": true, \"subunitcolor\": \"white\"}, \"hoverlabel\": {\"align\": \"left\"}, \"hovermode\": \"closest\", \"mapbox\": {\"style\": \"light\"}, \"paper_bgcolor\": \"white\", \"plot_bgcolor\": \"#E5ECF6\", \"polar\": {\"angularaxis\": {\"gridcolor\": \"white\", \"linecolor\": \"white\", \"ticks\": \"\"}, \"bgcolor\": \"#E5ECF6\", \"radialaxis\": {\"gridcolor\": \"white\", \"linecolor\": \"white\", \"ticks\": \"\"}}, \"scene\": {\"xaxis\": {\"backgroundcolor\": \"#E5ECF6\", \"gridcolor\": \"white\", \"gridwidth\": 2, \"linecolor\": \"white\", \"showbackground\": true, \"ticks\": \"\", \"zerolinecolor\": \"white\"}, \"yaxis\": {\"backgroundcolor\": \"#E5ECF6\", \"gridcolor\": \"white\", \"gridwidth\": 2, \"linecolor\": \"white\", \"showbackground\": true, \"ticks\": \"\", \"zerolinecolor\": \"white\"}, \"zaxis\": {\"backgroundcolor\": \"#E5ECF6\", \"gridcolor\": \"white\", \"gridwidth\": 2, \"linecolor\": \"white\", \"showbackground\": true, \"ticks\": \"\", \"zerolinecolor\": \"white\"}}, \"shapedefaults\": {\"line\": {\"color\": \"#2a3f5f\"}}, \"ternary\": {\"aaxis\": {\"gridcolor\": \"white\", \"linecolor\": \"white\", \"ticks\": \"\"}, \"baxis\": {\"gridcolor\": \"white\", \"linecolor\": \"white\", \"ticks\": \"\"}, \"bgcolor\": \"#E5ECF6\", \"caxis\": {\"gridcolor\": \"white\", \"linecolor\": \"white\", \"ticks\": \"\"}}, \"title\": {\"x\": 0.05}, \"xaxis\": {\"automargin\": true, \"gridcolor\": \"white\", \"linecolor\": \"white\", \"ticks\": \"\", \"title\": {\"standoff\": 15}, \"zerolinecolor\": \"white\", \"zerolinewidth\": 2}, \"yaxis\": {\"automargin\": true, \"gridcolor\": \"white\", \"linecolor\": \"white\", \"ticks\": \"\", \"title\": {\"standoff\": 15}, \"zerolinecolor\": \"white\", \"zerolinewidth\": 2}}}},\n",
              "                        {\"responsive\": true}\n",
              "                    ).then(function(){\n",
              "                            \n",
              "var gd = document.getElementById('c79d3fa3-110e-4f6f-ac3e-6f31333612be');\n",
              "var x = new MutationObserver(function (mutations, observer) {{\n",
              "        var display = window.getComputedStyle(gd).display;\n",
              "        if (!display || display === 'none') {{\n",
              "            console.log([gd, 'removed!']);\n",
              "            Plotly.purge(gd);\n",
              "            observer.disconnect();\n",
              "        }}\n",
              "}});\n",
              "\n",
              "// Listen for the removal of the full notebook cells\n",
              "var notebookContainer = gd.closest('#notebook-container');\n",
              "if (notebookContainer) {{\n",
              "    x.observe(notebookContainer, {childList: true});\n",
              "}}\n",
              "\n",
              "// Listen for the clearing of the current output cell\n",
              "var outputEl = gd.closest('.output');\n",
              "if (outputEl) {{\n",
              "    x.observe(outputEl, {childList: true});\n",
              "}}\n",
              "\n",
              "                        })\n",
              "                };\n",
              "                \n",
              "            </script>\n",
              "        </div>\n",
              "</body>\n",
              "</html>"
            ]
          },
          "metadata": {
            "tags": []
          }
        }
      ]
    },
    {
      "cell_type": "code",
      "metadata": {
        "id": "veeLXMZZnn9C"
      },
      "source": [
        ""
      ],
      "execution_count": null,
      "outputs": []
    }
  ]
}
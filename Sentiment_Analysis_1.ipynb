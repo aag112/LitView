{
  "nbformat": 4,
  "nbformat_minor": 0,
  "metadata": {
    "colab": {
      "name": "Sentiment Analysis 1.ipynb",
      "provenance": [],
      "mount_file_id": "1M_W477cc9TNhC1d5vShkcApgKDFJEc7i",
      "authorship_tag": "ABX9TyNfO2ypkhhmCymDBm4ucm1l",
      "include_colab_link": true
    },
    "kernelspec": {
      "name": "python3",
      "display_name": "Python 3"
    },
    "language_info": {
      "name": "python"
    }
  },
  "cells": [
    {
      "cell_type": "markdown",
      "metadata": {
        "id": "view-in-github",
        "colab_type": "text"
      },
      "source": [
        "<a href=\"https://colab.research.google.com/github/aag112/LitView/blob/main/Sentiment_Analysis_1.ipynb\" target=\"_parent\"><img src=\"https://colab.research.google.com/assets/colab-badge.svg\" alt=\"Open In Colab\"/></a>"
      ]
    },
    {
      "cell_type": "code",
      "metadata": {
        "id": "rj7vgRqpXrNj"
      },
      "source": [
        "import pandas as pd\n",
        "import numpy as np"
      ],
      "execution_count": 3,
      "outputs": []
    },
    {
      "cell_type": "code",
      "metadata": {
        "id": "MmgQK8tKXvbZ"
      },
      "source": [
        "df = pd.read_csv('/content/drive/MyDrive/Colab Notebooks/Data/Sample data file - Sheet1.csv')"
      ],
      "execution_count": 4,
      "outputs": []
    },
    {
      "cell_type": "code",
      "metadata": {
        "colab": {
          "base_uri": "https://localhost:8080/"
        },
        "id": "ZzgoMFqKYCAP",
        "outputId": "ca7ceb24-af91-403c-af01-f76d184fd60a"
      },
      "source": [
        "df.head"
      ],
      "execution_count": 5,
      "outputs": [
        {
          "output_type": "execute_result",
          "data": {
            "text/plain": [
              "<bound method NDFrame.head of                              Title WorkoutType  \\\n",
              "0                  TMP Run 3 miles         Run   \n",
              "1                         AER Ride        Bike   \n",
              "2                  Downhill skiing       Other   \n",
              "3                          Day Off     Day Off   \n",
              "4                    Alpine Skiing       Other   \n",
              "...                            ...         ...   \n",
              "1279                 Alpine Skiing       Other   \n",
              "1280                      Track Me       Other   \n",
              "1281  Alternative Training Session       Other   \n",
              "1282                       AER Run         Run   \n",
              "1283                      Track Me       Other   \n",
              "\n",
              "                                          WorkoutDescription  PlannedDuration  \\\n",
              "0     2 miles Warm up 3 miles @70%, Zone 3+ 1 mile Cool down              nan   \n",
              "1                                                        NaN             1.00   \n",
              "2                                                        NaN              nan   \n",
              "3                                                        NaN              nan   \n",
              "4                                                        NaN              nan   \n",
              "...                                                      ...              ...   \n",
              "1279                                                     NaN              nan   \n",
              "1280                                                     NaN              nan   \n",
              "1281                                                     NaN             1.00   \n",
              "1282                                                     NaN              nan   \n",
              "1283                                                     NaN              nan   \n",
              "\n",
              "      PlannedDistanceInMeters  WorkoutDay CoachComments  DistanceInMeters  \\\n",
              "0                    9,656.07  2020-01-01           NaN               nan   \n",
              "1                         nan  2020-01-01           NaN         28,968.19   \n",
              "2                         nan  2020-01-01           NaN               nan   \n",
              "3                         nan  2020-01-02           NaN               nan   \n",
              "4                         nan  2020-01-02           NaN          3,218.69   \n",
              "...                       ...         ...           ...               ...   \n",
              "1279                      nan  2020-12-30           NaN              7.69   \n",
              "1280                      nan  2020-12-30           NaN         16,878.30   \n",
              "1281                      nan  2020-12-31           NaN         20,956.84   \n",
              "1282                 4,828.03  2020-12-31           NaN          4,869.63   \n",
              "1283                      nan  2020-12-31           NaN         14,441.79   \n",
              "\n",
              "      PowerAverage  PowerMax  Energy  \\\n",
              "0              nan       nan     nan   \n",
              "1              nan       nan     nan   \n",
              "2              nan       nan     nan   \n",
              "3              nan       nan     nan   \n",
              "4              nan       nan     nan   \n",
              "...            ...       ...     ...   \n",
              "1279           nan       nan     nan   \n",
              "1280           nan       nan     nan   \n",
              "1281           nan       nan     nan   \n",
              "1282           nan       nan     nan   \n",
              "1283           nan       nan     nan   \n",
              "\n",
              "                                                                                                                                                                                                                                                                                                                                                                                                                               AthleteComments  \\\n",
              "0                                                                                                                                                                                                                                                                     *01/01/2020 Becky DiSorbo: Need to do another day. Cold not going away so stuck with bike.* *01/01/2020 Becky DiSorbo: Stayed up late last night but didn’t drink much.*   \n",
              "1      *01/01/2020 Becky DiSorbo: Rode the trainer but didn’t get app and software set up since slept in after late night and wanted to ride before skiing. 10 min warm up 20 mins of drills including 3x1 leg at a time and then cycling dynamic drills. 4x (3 mins moderate then 2 mins in harder Gear and lower rpm) 10 mins easy* *01/01/2020 Becky DiSorbo: Garmin watch for heart rate.* *01/03/2020 Becky DiSorbo: Estimate on mileage*   \n",
              "2                                                                                                                                                                                                                                                                                                         *01/01/2020 Becky DiSorbo: About ten runs. Cold out. 26 degrees plus windchill.* *01/01/2020 Becky DiSorbo: Forgot to start Garmin.*   \n",
              "3                                                                                                                                                                                                                                                                                                                                                                                                                                          NaN   \n",
              "4                                                                                                                                                                                                                                                                                                        *01/02/2020 Becky DiSorbo: Easy skiing. Cold reared it’s head last night.* *01/02/2020 Becky DiSorbo: Garmin didn’t record the runs.*   \n",
              "...                                                                                                                                                                                                                                                                                                                                                                                                                                        ...   \n",
              "1279                                                                                                                                                                                                                                                                                                                                                 *12/31/2020 Becky DiSorbo: First two runs didn’t record so shifted to track my activity.*   \n",
              "1280                                                                                                                                                                                                                                                                                                                                                                                                  *12/31/2020 Becky DiSorbo: Fun ski day.*   \n",
              "1281                                                                                                                                                                                                                                                                                                                                                                                 *12/31/2020 Becky DiSorbo: Am ski session. No lines. :-)*   \n",
              "1282                                                                                                                                                                                                                                                                                                                                                                *01/01/2021 Becky DiSorbo: Slushy snowy shoulder but mostly road surface.*   \n",
              "1283                                                                                                                                                                                                                                                                                                                                                                                             *01/01/2021 Becky DiSorbo: Round two skiing.*   \n",
              "\n",
              "      TimeTotalInHours  VelocityAverage  VelocityMax  CadenceAverage  \\\n",
              "0                  nan              nan          nan             nan   \n",
              "1                 1.00             8.04          nan             nan   \n",
              "2                 1.67              nan          nan             nan   \n",
              "3                  nan              nan          nan             nan   \n",
              "4                 2.00             0.45          nan             nan   \n",
              "...                ...              ...          ...             ...   \n",
              "1279              0.00             3.85          nan             nan   \n",
              "1280              1.73             2.71          nan             nan   \n",
              "1281              1.33             4.36          nan             nan   \n",
              "1282              0.43             3.14          nan           82.00   \n",
              "1283              1.29             3.11          nan             nan   \n",
              "\n",
              "      CadenceMax  HeartRateAverage  HeartRateMax  TorqueAverage  TorqueMax  \\\n",
              "0            nan               nan           nan            nan        nan   \n",
              "1            nan            111.00        138.00            nan        nan   \n",
              "2            nan               nan           nan            nan        nan   \n",
              "3            nan               nan           nan            nan        nan   \n",
              "4            nan             86.00         99.00            nan        nan   \n",
              "...          ...               ...           ...            ...        ...   \n",
              "1279         nan             87.00         87.00            nan        nan   \n",
              "1280         nan             85.00        121.00            nan        nan   \n",
              "1281         nan             89.00        120.00            nan        nan   \n",
              "1282         nan            144.00        170.00            nan        nan   \n",
              "1283         nan             88.00        116.00            nan        nan   \n",
              "\n",
              "       IF   TSS  HRZone1Minutes  HRZone2Minutes  HRZone3Minutes  \\\n",
              "0     nan   nan             nan             nan             nan   \n",
              "1    0.62 43.20           43.00           16.00            0.00   \n",
              "2     nan   nan             nan             nan             nan   \n",
              "3     nan   nan             nan             nan             nan   \n",
              "4    0.59  0.04            0.00            0.00            0.00   \n",
              "...   ...   ...             ...             ...             ...   \n",
              "1279 0.62  5.59            8.00            0.00            0.00   \n",
              "1280 0.57 62.61          104.00            0.00            0.00   \n",
              "1281 0.58 49.89           80.00            0.00            0.00   \n",
              "1282 1.06 52.28            0.00            9.00            6.00   \n",
              "1283 0.58 48.02           78.00            0.00            0.00   \n",
              "\n",
              "      HRZone4Minutes  HRZone5Minutes  HRZone6Minutes  HRZone7Minutes  \\\n",
              "0                nan             nan             nan             nan   \n",
              "1               0.00            0.00            0.00            0.00   \n",
              "2                nan             nan             nan             nan   \n",
              "3                nan             nan             nan             nan   \n",
              "4               0.00            0.00            0.00            0.00   \n",
              "...              ...             ...             ...             ...   \n",
              "1279            0.00            0.00            0.00            0.00   \n",
              "1280            0.00            0.00            0.00            0.00   \n",
              "1281            0.00            0.00            0.00            0.00   \n",
              "1282            3.00            0.00            1.00            6.00   \n",
              "1283            0.00            0.00            0.00            0.00   \n",
              "\n",
              "      HRZone8Minutes  HRZone9Minutes  HRZone10Minutes  PWRZone1Minutes  \\\n",
              "0                nan             nan              nan              nan   \n",
              "1                nan             nan              nan              nan   \n",
              "2                nan             nan              nan              nan   \n",
              "3                nan             nan              nan              nan   \n",
              "4                nan             nan              nan              nan   \n",
              "...              ...             ...              ...              ...   \n",
              "1279             nan             nan              nan              nan   \n",
              "1280             nan             nan              nan              nan   \n",
              "1281             nan             nan              nan              nan   \n",
              "1282             nan             nan              nan              nan   \n",
              "1283             nan             nan              nan              nan   \n",
              "\n",
              "      PWRZone2Minutes  PWRZone3Minutes  PWRZone4Minutes  PWRZone5Minutes  \\\n",
              "0                 nan              nan              nan              nan   \n",
              "1                 nan              nan              nan              nan   \n",
              "2                 nan              nan              nan              nan   \n",
              "3                 nan              nan              nan              nan   \n",
              "4                 nan              nan              nan              nan   \n",
              "...               ...              ...              ...              ...   \n",
              "1279              nan              nan              nan              nan   \n",
              "1280              nan              nan              nan              nan   \n",
              "1281              nan              nan              nan              nan   \n",
              "1282              nan              nan              nan              nan   \n",
              "1283              nan              nan              nan              nan   \n",
              "\n",
              "      PWRZone6Minutes  PWRZone7Minutes  PWRZone8Minutes  PWRZone9Minutes  \\\n",
              "0                 nan              nan              nan              nan   \n",
              "1                 nan              nan              nan              nan   \n",
              "2                 nan              nan              nan              nan   \n",
              "3                 nan              nan              nan              nan   \n",
              "4                 nan              nan              nan              nan   \n",
              "...               ...              ...              ...              ...   \n",
              "1279              nan              nan              nan              nan   \n",
              "1280              nan              nan              nan              nan   \n",
              "1281              nan              nan              nan              nan   \n",
              "1282              nan              nan              nan              nan   \n",
              "1283              nan              nan              nan              nan   \n",
              "\n",
              "      PWRZone10Minutes  Rpe  Feeling  \n",
              "0                  nan  nan      nan  \n",
              "1                  nan 6.00     5.00  \n",
              "2                  nan 6.00     3.00  \n",
              "3                  nan  nan      nan  \n",
              "4                  nan 5.00     5.00  \n",
              "...                ...  ...      ...  \n",
              "1279               nan  nan      nan  \n",
              "1280               nan 4.00     5.00  \n",
              "1281               nan 5.00     5.00  \n",
              "1282               nan 5.00     5.00  \n",
              "1283               nan 4.00     5.00  \n",
              "\n",
              "[1284 rows x 45 columns]>"
            ]
          },
          "metadata": {
            "tags": []
          },
          "execution_count": 5
        }
      ]
    },
    {
      "cell_type": "code",
      "metadata": {
        "colab": {
          "base_uri": "https://localhost:8080/"
        },
        "id": "DPP6Be7MYFwO",
        "outputId": "4dc1fad8-e88b-462d-e5e3-fde50555368f"
      },
      "source": [
        "df.info"
      ],
      "execution_count": 5,
      "outputs": [
        {
          "output_type": "execute_result",
          "data": {
            "text/plain": [
              "<bound method DataFrame.info of                              Title WorkoutType  ...  Rpe  Feeling\n",
              "0                  TMP Run 3 miles         Run  ...  NaN      NaN\n",
              "1                         AER Ride        Bike  ...  6.0      5.0\n",
              "2                  Downhill skiing       Other  ...  6.0      3.0\n",
              "3                          Day Off     Day Off  ...  NaN      NaN\n",
              "4                    Alpine Skiing       Other  ...  5.0      5.0\n",
              "...                            ...         ...  ...  ...      ...\n",
              "1279                 Alpine Skiing       Other  ...  NaN      NaN\n",
              "1280                      Track Me       Other  ...  4.0      5.0\n",
              "1281  Alternative Training Session       Other  ...  5.0      5.0\n",
              "1282                       AER Run         Run  ...  5.0      5.0\n",
              "1283                      Track Me       Other  ...  4.0      5.0\n",
              "\n",
              "[1284 rows x 45 columns]>"
            ]
          },
          "metadata": {
            "tags": []
          },
          "execution_count": 5
        }
      ]
    },
    {
      "cell_type": "code",
      "metadata": {
        "colab": {
          "base_uri": "https://localhost:8080/",
          "height": 756
        },
        "id": "uaJIAe5-YJbi",
        "outputId": "91738eb7-03a8-458e-f56d-2685e257d31e"
      },
      "source": [
        "df"
      ],
      "execution_count": 6,
      "outputs": [
        {
          "output_type": "execute_result",
          "data": {
            "text/html": [
              "<div>\n",
              "<style scoped>\n",
              "    .dataframe tbody tr th:only-of-type {\n",
              "        vertical-align: middle;\n",
              "    }\n",
              "\n",
              "    .dataframe tbody tr th {\n",
              "        vertical-align: top;\n",
              "    }\n",
              "\n",
              "    .dataframe thead th {\n",
              "        text-align: right;\n",
              "    }\n",
              "</style>\n",
              "<table border=\"1\" class=\"dataframe\">\n",
              "  <thead>\n",
              "    <tr style=\"text-align: right;\">\n",
              "      <th></th>\n",
              "      <th>Title</th>\n",
              "      <th>WorkoutType</th>\n",
              "      <th>WorkoutDescription</th>\n",
              "      <th>PlannedDuration</th>\n",
              "      <th>PlannedDistanceInMeters</th>\n",
              "      <th>WorkoutDay</th>\n",
              "      <th>CoachComments</th>\n",
              "      <th>DistanceInMeters</th>\n",
              "      <th>PowerAverage</th>\n",
              "      <th>PowerMax</th>\n",
              "      <th>Energy</th>\n",
              "      <th>AthleteComments</th>\n",
              "      <th>TimeTotalInHours</th>\n",
              "      <th>VelocityAverage</th>\n",
              "      <th>VelocityMax</th>\n",
              "      <th>CadenceAverage</th>\n",
              "      <th>CadenceMax</th>\n",
              "      <th>HeartRateAverage</th>\n",
              "      <th>HeartRateMax</th>\n",
              "      <th>TorqueAverage</th>\n",
              "      <th>TorqueMax</th>\n",
              "      <th>IF</th>\n",
              "      <th>TSS</th>\n",
              "      <th>HRZone1Minutes</th>\n",
              "      <th>HRZone2Minutes</th>\n",
              "      <th>HRZone3Minutes</th>\n",
              "      <th>HRZone4Minutes</th>\n",
              "      <th>HRZone5Minutes</th>\n",
              "      <th>HRZone6Minutes</th>\n",
              "      <th>HRZone7Minutes</th>\n",
              "      <th>HRZone8Minutes</th>\n",
              "      <th>HRZone9Minutes</th>\n",
              "      <th>HRZone10Minutes</th>\n",
              "      <th>PWRZone1Minutes</th>\n",
              "      <th>PWRZone2Minutes</th>\n",
              "      <th>PWRZone3Minutes</th>\n",
              "      <th>PWRZone4Minutes</th>\n",
              "      <th>PWRZone5Minutes</th>\n",
              "      <th>PWRZone6Minutes</th>\n",
              "      <th>PWRZone7Minutes</th>\n",
              "      <th>PWRZone8Minutes</th>\n",
              "      <th>PWRZone9Minutes</th>\n",
              "      <th>PWRZone10Minutes</th>\n",
              "      <th>Rpe</th>\n",
              "      <th>Feeling</th>\n",
              "    </tr>\n",
              "  </thead>\n",
              "  <tbody>\n",
              "    <tr>\n",
              "      <th>0</th>\n",
              "      <td>TMP Run 3 miles</td>\n",
              "      <td>Run</td>\n",
              "      <td>2 miles Warm up 3 miles @70%, Zone 3+ 1 mile C...</td>\n",
              "      <td>NaN</td>\n",
              "      <td>9656.067383</td>\n",
              "      <td>2020-01-01</td>\n",
              "      <td>NaN</td>\n",
              "      <td>NaN</td>\n",
              "      <td>NaN</td>\n",
              "      <td>NaN</td>\n",
              "      <td>NaN</td>\n",
              "      <td>*01/01/2020 Becky DiSorbo: Need to do another...</td>\n",
              "      <td>NaN</td>\n",
              "      <td>NaN</td>\n",
              "      <td>NaN</td>\n",
              "      <td>NaN</td>\n",
              "      <td>NaN</td>\n",
              "      <td>NaN</td>\n",
              "      <td>NaN</td>\n",
              "      <td>NaN</td>\n",
              "      <td>NaN</td>\n",
              "      <td>NaN</td>\n",
              "      <td>NaN</td>\n",
              "      <td>NaN</td>\n",
              "      <td>NaN</td>\n",
              "      <td>NaN</td>\n",
              "      <td>NaN</td>\n",
              "      <td>NaN</td>\n",
              "      <td>NaN</td>\n",
              "      <td>NaN</td>\n",
              "      <td>NaN</td>\n",
              "      <td>NaN</td>\n",
              "      <td>NaN</td>\n",
              "      <td>NaN</td>\n",
              "      <td>NaN</td>\n",
              "      <td>NaN</td>\n",
              "      <td>NaN</td>\n",
              "      <td>NaN</td>\n",
              "      <td>NaN</td>\n",
              "      <td>NaN</td>\n",
              "      <td>NaN</td>\n",
              "      <td>NaN</td>\n",
              "      <td>NaN</td>\n",
              "      <td>NaN</td>\n",
              "      <td>NaN</td>\n",
              "    </tr>\n",
              "    <tr>\n",
              "      <th>1</th>\n",
              "      <td>AER Ride</td>\n",
              "      <td>Bike</td>\n",
              "      <td>NaN</td>\n",
              "      <td>1.0</td>\n",
              "      <td>NaN</td>\n",
              "      <td>2020-01-01</td>\n",
              "      <td>NaN</td>\n",
              "      <td>28968.192000</td>\n",
              "      <td>NaN</td>\n",
              "      <td>NaN</td>\n",
              "      <td>NaN</td>\n",
              "      <td>*01/01/2020 Becky DiSorbo: Rode the trainer b...</td>\n",
              "      <td>1.000641</td>\n",
              "      <td>8.041564</td>\n",
              "      <td>NaN</td>\n",
              "      <td>NaN</td>\n",
              "      <td>NaN</td>\n",
              "      <td>111.0</td>\n",
              "      <td>138.0</td>\n",
              "      <td>NaN</td>\n",
              "      <td>NaN</td>\n",
              "      <td>0.624232</td>\n",
              "      <td>43.20</td>\n",
              "      <td>43.0</td>\n",
              "      <td>16.0</td>\n",
              "      <td>0.0</td>\n",
              "      <td>0.0</td>\n",
              "      <td>0.0</td>\n",
              "      <td>0.0</td>\n",
              "      <td>0.0</td>\n",
              "      <td>NaN</td>\n",
              "      <td>NaN</td>\n",
              "      <td>NaN</td>\n",
              "      <td>NaN</td>\n",
              "      <td>NaN</td>\n",
              "      <td>NaN</td>\n",
              "      <td>NaN</td>\n",
              "      <td>NaN</td>\n",
              "      <td>NaN</td>\n",
              "      <td>NaN</td>\n",
              "      <td>NaN</td>\n",
              "      <td>NaN</td>\n",
              "      <td>NaN</td>\n",
              "      <td>6.0</td>\n",
              "      <td>5.0</td>\n",
              "    </tr>\n",
              "    <tr>\n",
              "      <th>2</th>\n",
              "      <td>Downhill skiing</td>\n",
              "      <td>Other</td>\n",
              "      <td>NaN</td>\n",
              "      <td>NaN</td>\n",
              "      <td>NaN</td>\n",
              "      <td>2020-01-01</td>\n",
              "      <td>NaN</td>\n",
              "      <td>NaN</td>\n",
              "      <td>NaN</td>\n",
              "      <td>NaN</td>\n",
              "      <td>NaN</td>\n",
              "      <td>*01/01/2020 Becky DiSorbo: About ten runs. Co...</td>\n",
              "      <td>1.666667</td>\n",
              "      <td>NaN</td>\n",
              "      <td>NaN</td>\n",
              "      <td>NaN</td>\n",
              "      <td>NaN</td>\n",
              "      <td>NaN</td>\n",
              "      <td>NaN</td>\n",
              "      <td>NaN</td>\n",
              "      <td>NaN</td>\n",
              "      <td>NaN</td>\n",
              "      <td>NaN</td>\n",
              "      <td>NaN</td>\n",
              "      <td>NaN</td>\n",
              "      <td>NaN</td>\n",
              "      <td>NaN</td>\n",
              "      <td>NaN</td>\n",
              "      <td>NaN</td>\n",
              "      <td>NaN</td>\n",
              "      <td>NaN</td>\n",
              "      <td>NaN</td>\n",
              "      <td>NaN</td>\n",
              "      <td>NaN</td>\n",
              "      <td>NaN</td>\n",
              "      <td>NaN</td>\n",
              "      <td>NaN</td>\n",
              "      <td>NaN</td>\n",
              "      <td>NaN</td>\n",
              "      <td>NaN</td>\n",
              "      <td>NaN</td>\n",
              "      <td>NaN</td>\n",
              "      <td>NaN</td>\n",
              "      <td>6.0</td>\n",
              "      <td>3.0</td>\n",
              "    </tr>\n",
              "    <tr>\n",
              "      <th>3</th>\n",
              "      <td>Day Off</td>\n",
              "      <td>Day Off</td>\n",
              "      <td>NaN</td>\n",
              "      <td>NaN</td>\n",
              "      <td>NaN</td>\n",
              "      <td>2020-01-02</td>\n",
              "      <td>NaN</td>\n",
              "      <td>NaN</td>\n",
              "      <td>NaN</td>\n",
              "      <td>NaN</td>\n",
              "      <td>NaN</td>\n",
              "      <td>NaN</td>\n",
              "      <td>NaN</td>\n",
              "      <td>NaN</td>\n",
              "      <td>NaN</td>\n",
              "      <td>NaN</td>\n",
              "      <td>NaN</td>\n",
              "      <td>NaN</td>\n",
              "      <td>NaN</td>\n",
              "      <td>NaN</td>\n",
              "      <td>NaN</td>\n",
              "      <td>NaN</td>\n",
              "      <td>NaN</td>\n",
              "      <td>NaN</td>\n",
              "      <td>NaN</td>\n",
              "      <td>NaN</td>\n",
              "      <td>NaN</td>\n",
              "      <td>NaN</td>\n",
              "      <td>NaN</td>\n",
              "      <td>NaN</td>\n",
              "      <td>NaN</td>\n",
              "      <td>NaN</td>\n",
              "      <td>NaN</td>\n",
              "      <td>NaN</td>\n",
              "      <td>NaN</td>\n",
              "      <td>NaN</td>\n",
              "      <td>NaN</td>\n",
              "      <td>NaN</td>\n",
              "      <td>NaN</td>\n",
              "      <td>NaN</td>\n",
              "      <td>NaN</td>\n",
              "      <td>NaN</td>\n",
              "      <td>NaN</td>\n",
              "      <td>NaN</td>\n",
              "      <td>NaN</td>\n",
              "    </tr>\n",
              "    <tr>\n",
              "      <th>4</th>\n",
              "      <td>Alpine Skiing</td>\n",
              "      <td>Other</td>\n",
              "      <td>NaN</td>\n",
              "      <td>NaN</td>\n",
              "      <td>NaN</td>\n",
              "      <td>2020-01-02</td>\n",
              "      <td>NaN</td>\n",
              "      <td>3218.688000</td>\n",
              "      <td>NaN</td>\n",
              "      <td>NaN</td>\n",
              "      <td>NaN</td>\n",
              "      <td>*01/02/2020 Becky DiSorbo: Easy skiing. Cold ...</td>\n",
              "      <td>2.001944</td>\n",
              "      <td>0.446606</td>\n",
              "      <td>NaN</td>\n",
              "      <td>NaN</td>\n",
              "      <td>NaN</td>\n",
              "      <td>86.0</td>\n",
              "      <td>99.0</td>\n",
              "      <td>NaN</td>\n",
              "      <td>NaN</td>\n",
              "      <td>0.587168</td>\n",
              "      <td>0.04</td>\n",
              "      <td>0.0</td>\n",
              "      <td>0.0</td>\n",
              "      <td>0.0</td>\n",
              "      <td>0.0</td>\n",
              "      <td>0.0</td>\n",
              "      <td>0.0</td>\n",
              "      <td>0.0</td>\n",
              "      <td>NaN</td>\n",
              "      <td>NaN</td>\n",
              "      <td>NaN</td>\n",
              "      <td>NaN</td>\n",
              "      <td>NaN</td>\n",
              "      <td>NaN</td>\n",
              "      <td>NaN</td>\n",
              "      <td>NaN</td>\n",
              "      <td>NaN</td>\n",
              "      <td>NaN</td>\n",
              "      <td>NaN</td>\n",
              "      <td>NaN</td>\n",
              "      <td>NaN</td>\n",
              "      <td>5.0</td>\n",
              "      <td>5.0</td>\n",
              "    </tr>\n",
              "    <tr>\n",
              "      <th>...</th>\n",
              "      <td>...</td>\n",
              "      <td>...</td>\n",
              "      <td>...</td>\n",
              "      <td>...</td>\n",
              "      <td>...</td>\n",
              "      <td>...</td>\n",
              "      <td>...</td>\n",
              "      <td>...</td>\n",
              "      <td>...</td>\n",
              "      <td>...</td>\n",
              "      <td>...</td>\n",
              "      <td>...</td>\n",
              "      <td>...</td>\n",
              "      <td>...</td>\n",
              "      <td>...</td>\n",
              "      <td>...</td>\n",
              "      <td>...</td>\n",
              "      <td>...</td>\n",
              "      <td>...</td>\n",
              "      <td>...</td>\n",
              "      <td>...</td>\n",
              "      <td>...</td>\n",
              "      <td>...</td>\n",
              "      <td>...</td>\n",
              "      <td>...</td>\n",
              "      <td>...</td>\n",
              "      <td>...</td>\n",
              "      <td>...</td>\n",
              "      <td>...</td>\n",
              "      <td>...</td>\n",
              "      <td>...</td>\n",
              "      <td>...</td>\n",
              "      <td>...</td>\n",
              "      <td>...</td>\n",
              "      <td>...</td>\n",
              "      <td>...</td>\n",
              "      <td>...</td>\n",
              "      <td>...</td>\n",
              "      <td>...</td>\n",
              "      <td>...</td>\n",
              "      <td>...</td>\n",
              "      <td>...</td>\n",
              "      <td>...</td>\n",
              "      <td>...</td>\n",
              "      <td>...</td>\n",
              "    </tr>\n",
              "    <tr>\n",
              "      <th>1279</th>\n",
              "      <td>Alpine Skiing</td>\n",
              "      <td>Other</td>\n",
              "      <td>NaN</td>\n",
              "      <td>NaN</td>\n",
              "      <td>NaN</td>\n",
              "      <td>2020-12-30</td>\n",
              "      <td>NaN</td>\n",
              "      <td>7.690000</td>\n",
              "      <td>NaN</td>\n",
              "      <td>NaN</td>\n",
              "      <td>NaN</td>\n",
              "      <td>*12/31/2020 Becky DiSorbo: First two runs did...</td>\n",
              "      <td>0.000556</td>\n",
              "      <td>3.846000</td>\n",
              "      <td>NaN</td>\n",
              "      <td>NaN</td>\n",
              "      <td>NaN</td>\n",
              "      <td>87.0</td>\n",
              "      <td>87.0</td>\n",
              "      <td>NaN</td>\n",
              "      <td>NaN</td>\n",
              "      <td>0.615745</td>\n",
              "      <td>5.59</td>\n",
              "      <td>8.0</td>\n",
              "      <td>0.0</td>\n",
              "      <td>0.0</td>\n",
              "      <td>0.0</td>\n",
              "      <td>0.0</td>\n",
              "      <td>0.0</td>\n",
              "      <td>0.0</td>\n",
              "      <td>NaN</td>\n",
              "      <td>NaN</td>\n",
              "      <td>NaN</td>\n",
              "      <td>NaN</td>\n",
              "      <td>NaN</td>\n",
              "      <td>NaN</td>\n",
              "      <td>NaN</td>\n",
              "      <td>NaN</td>\n",
              "      <td>NaN</td>\n",
              "      <td>NaN</td>\n",
              "      <td>NaN</td>\n",
              "      <td>NaN</td>\n",
              "      <td>NaN</td>\n",
              "      <td>NaN</td>\n",
              "      <td>NaN</td>\n",
              "    </tr>\n",
              "    <tr>\n",
              "      <th>1280</th>\n",
              "      <td>Track Me</td>\n",
              "      <td>Other</td>\n",
              "      <td>NaN</td>\n",
              "      <td>NaN</td>\n",
              "      <td>NaN</td>\n",
              "      <td>2020-12-30</td>\n",
              "      <td>NaN</td>\n",
              "      <td>16878.300780</td>\n",
              "      <td>NaN</td>\n",
              "      <td>NaN</td>\n",
              "      <td>NaN</td>\n",
              "      <td>*12/31/2020 Becky DiSorbo: Fun ski day.*</td>\n",
              "      <td>1.728151</td>\n",
              "      <td>2.713000</td>\n",
              "      <td>NaN</td>\n",
              "      <td>NaN</td>\n",
              "      <td>NaN</td>\n",
              "      <td>85.0</td>\n",
              "      <td>121.0</td>\n",
              "      <td>NaN</td>\n",
              "      <td>NaN</td>\n",
              "      <td>0.567889</td>\n",
              "      <td>62.61</td>\n",
              "      <td>104.0</td>\n",
              "      <td>0.0</td>\n",
              "      <td>0.0</td>\n",
              "      <td>0.0</td>\n",
              "      <td>0.0</td>\n",
              "      <td>0.0</td>\n",
              "      <td>0.0</td>\n",
              "      <td>NaN</td>\n",
              "      <td>NaN</td>\n",
              "      <td>NaN</td>\n",
              "      <td>NaN</td>\n",
              "      <td>NaN</td>\n",
              "      <td>NaN</td>\n",
              "      <td>NaN</td>\n",
              "      <td>NaN</td>\n",
              "      <td>NaN</td>\n",
              "      <td>NaN</td>\n",
              "      <td>NaN</td>\n",
              "      <td>NaN</td>\n",
              "      <td>NaN</td>\n",
              "      <td>4.0</td>\n",
              "      <td>5.0</td>\n",
              "    </tr>\n",
              "    <tr>\n",
              "      <th>1281</th>\n",
              "      <td>Alternative Training Session</td>\n",
              "      <td>Other</td>\n",
              "      <td>NaN</td>\n",
              "      <td>1.0</td>\n",
              "      <td>NaN</td>\n",
              "      <td>2020-12-31</td>\n",
              "      <td>NaN</td>\n",
              "      <td>20956.839840</td>\n",
              "      <td>NaN</td>\n",
              "      <td>NaN</td>\n",
              "      <td>NaN</td>\n",
              "      <td>*12/31/2020 Becky DiSorbo: Am ski session. No...</td>\n",
              "      <td>1.333561</td>\n",
              "      <td>4.365000</td>\n",
              "      <td>NaN</td>\n",
              "      <td>NaN</td>\n",
              "      <td>NaN</td>\n",
              "      <td>89.0</td>\n",
              "      <td>120.0</td>\n",
              "      <td>NaN</td>\n",
              "      <td>NaN</td>\n",
              "      <td>0.579084</td>\n",
              "      <td>49.89</td>\n",
              "      <td>80.0</td>\n",
              "      <td>0.0</td>\n",
              "      <td>0.0</td>\n",
              "      <td>0.0</td>\n",
              "      <td>0.0</td>\n",
              "      <td>0.0</td>\n",
              "      <td>0.0</td>\n",
              "      <td>NaN</td>\n",
              "      <td>NaN</td>\n",
              "      <td>NaN</td>\n",
              "      <td>NaN</td>\n",
              "      <td>NaN</td>\n",
              "      <td>NaN</td>\n",
              "      <td>NaN</td>\n",
              "      <td>NaN</td>\n",
              "      <td>NaN</td>\n",
              "      <td>NaN</td>\n",
              "      <td>NaN</td>\n",
              "      <td>NaN</td>\n",
              "      <td>NaN</td>\n",
              "      <td>5.0</td>\n",
              "      <td>5.0</td>\n",
              "    </tr>\n",
              "    <tr>\n",
              "      <th>1282</th>\n",
              "      <td>AER Run</td>\n",
              "      <td>Run</td>\n",
              "      <td>NaN</td>\n",
              "      <td>NaN</td>\n",
              "      <td>4828.033691</td>\n",
              "      <td>2020-12-31</td>\n",
              "      <td>NaN</td>\n",
              "      <td>4869.629883</td>\n",
              "      <td>NaN</td>\n",
              "      <td>NaN</td>\n",
              "      <td>NaN</td>\n",
              "      <td>*01/01/2021 Becky DiSorbo: Slushy snowy shoul...</td>\n",
              "      <td>0.430673</td>\n",
              "      <td>3.141000</td>\n",
              "      <td>NaN</td>\n",
              "      <td>82.0</td>\n",
              "      <td>NaN</td>\n",
              "      <td>144.0</td>\n",
              "      <td>170.0</td>\n",
              "      <td>NaN</td>\n",
              "      <td>NaN</td>\n",
              "      <td>1.058017</td>\n",
              "      <td>52.28</td>\n",
              "      <td>0.0</td>\n",
              "      <td>9.0</td>\n",
              "      <td>6.0</td>\n",
              "      <td>3.0</td>\n",
              "      <td>0.0</td>\n",
              "      <td>1.0</td>\n",
              "      <td>6.0</td>\n",
              "      <td>NaN</td>\n",
              "      <td>NaN</td>\n",
              "      <td>NaN</td>\n",
              "      <td>NaN</td>\n",
              "      <td>NaN</td>\n",
              "      <td>NaN</td>\n",
              "      <td>NaN</td>\n",
              "      <td>NaN</td>\n",
              "      <td>NaN</td>\n",
              "      <td>NaN</td>\n",
              "      <td>NaN</td>\n",
              "      <td>NaN</td>\n",
              "      <td>NaN</td>\n",
              "      <td>5.0</td>\n",
              "      <td>5.0</td>\n",
              "    </tr>\n",
              "    <tr>\n",
              "      <th>1283</th>\n",
              "      <td>Track Me</td>\n",
              "      <td>Other</td>\n",
              "      <td>NaN</td>\n",
              "      <td>NaN</td>\n",
              "      <td>NaN</td>\n",
              "      <td>2020-12-31</td>\n",
              "      <td>NaN</td>\n",
              "      <td>14441.790040</td>\n",
              "      <td>NaN</td>\n",
              "      <td>NaN</td>\n",
              "      <td>NaN</td>\n",
              "      <td>*01/01/2021 Becky DiSorbo: Round two skiing.*</td>\n",
              "      <td>1.291744</td>\n",
              "      <td>3.106000</td>\n",
              "      <td>NaN</td>\n",
              "      <td>NaN</td>\n",
              "      <td>NaN</td>\n",
              "      <td>88.0</td>\n",
              "      <td>116.0</td>\n",
              "      <td>NaN</td>\n",
              "      <td>NaN</td>\n",
              "      <td>0.577477</td>\n",
              "      <td>48.02</td>\n",
              "      <td>78.0</td>\n",
              "      <td>0.0</td>\n",
              "      <td>0.0</td>\n",
              "      <td>0.0</td>\n",
              "      <td>0.0</td>\n",
              "      <td>0.0</td>\n",
              "      <td>0.0</td>\n",
              "      <td>NaN</td>\n",
              "      <td>NaN</td>\n",
              "      <td>NaN</td>\n",
              "      <td>NaN</td>\n",
              "      <td>NaN</td>\n",
              "      <td>NaN</td>\n",
              "      <td>NaN</td>\n",
              "      <td>NaN</td>\n",
              "      <td>NaN</td>\n",
              "      <td>NaN</td>\n",
              "      <td>NaN</td>\n",
              "      <td>NaN</td>\n",
              "      <td>NaN</td>\n",
              "      <td>4.0</td>\n",
              "      <td>5.0</td>\n",
              "    </tr>\n",
              "  </tbody>\n",
              "</table>\n",
              "<p>1284 rows × 45 columns</p>\n",
              "</div>"
            ],
            "text/plain": [
              "                             Title WorkoutType  ...  Rpe  Feeling\n",
              "0                  TMP Run 3 miles         Run  ...  NaN      NaN\n",
              "1                         AER Ride        Bike  ...  6.0      5.0\n",
              "2                  Downhill skiing       Other  ...  6.0      3.0\n",
              "3                          Day Off     Day Off  ...  NaN      NaN\n",
              "4                    Alpine Skiing       Other  ...  5.0      5.0\n",
              "...                            ...         ...  ...  ...      ...\n",
              "1279                 Alpine Skiing       Other  ...  NaN      NaN\n",
              "1280                      Track Me       Other  ...  4.0      5.0\n",
              "1281  Alternative Training Session       Other  ...  5.0      5.0\n",
              "1282                       AER Run         Run  ...  5.0      5.0\n",
              "1283                      Track Me       Other  ...  4.0      5.0\n",
              "\n",
              "[1284 rows x 45 columns]"
            ]
          },
          "metadata": {
            "tags": []
          },
          "execution_count": 6
        }
      ]
    },
    {
      "cell_type": "code",
      "metadata": {
        "id": "JkWSMri8YMnX"
      },
      "source": [
        "df = df.drop(columns=['PlannedDuration', 'PlannedDistanceInMeters', 'WorkoutDay', 'CoachComments', 'DistanceInMeters', 'PowerAverage', 'PowerMax'])"
      ],
      "execution_count": 6,
      "outputs": []
    },
    {
      "cell_type": "code",
      "metadata": {
        "id": "369A67-x-e6E"
      },
      "source": [
        "df = df.drop(columns=['Energy', 'TimeTotalInHours', 'VelocityAverage', 'VelocityMax', 'CadenceAverage', 'CadenceMax', 'HeartRateAverage', 'HeartRateMax'])"
      ],
      "execution_count": 7,
      "outputs": []
    },
    {
      "cell_type": "code",
      "metadata": {
        "id": "1rF8nqeL-g_j"
      },
      "source": [
        "df = df.drop(columns=['TorqueAverage', 'TorqueMax', 'IF', 'TSS', 'HRZone1Minutes', 'HRZone2Minutes', 'HRZone3Minutes', 'HRZone4Minutes', 'HRZone5Minutes', 'HRZone6Minutes'])"
      ],
      "execution_count": 8,
      "outputs": []
    },
    {
      "cell_type": "code",
      "metadata": {
        "id": "aAJMrlKZ_QMM"
      },
      "source": [
        "df=df.drop(columns=['HRZone7Minutes', 'HRZone8Minutes', 'HRZone9Minutes', 'HRZone10Minutes', 'PWRZone1Minutes', 'PWRZone2Minutes', 'PWRZone3Minutes', 'PWRZone4Minutes', 'PWRZone5Minutes'])"
      ],
      "execution_count": 9,
      "outputs": []
    },
    {
      "cell_type": "code",
      "metadata": {
        "id": "lbEG4gRg_vLM"
      },
      "source": [
        "df = df.drop(columns=['PWRZone6Minutes', 'PWRZone7Minutes', 'PWRZone8Minutes', 'PWRZone9Minutes', 'PWRZone10Minutes'])"
      ],
      "execution_count": 10,
      "outputs": []
    },
    {
      "cell_type": "code",
      "metadata": {
        "colab": {
          "base_uri": "https://localhost:8080/",
          "height": 424
        },
        "id": "jRdbmLyqANLo",
        "outputId": "eeaa88bf-113f-437d-e152-f970b932499d"
      },
      "source": [
        "df"
      ],
      "execution_count": 12,
      "outputs": [
        {
          "output_type": "execute_result",
          "data": {
            "text/html": [
              "<div>\n",
              "<style scoped>\n",
              "    .dataframe tbody tr th:only-of-type {\n",
              "        vertical-align: middle;\n",
              "    }\n",
              "\n",
              "    .dataframe tbody tr th {\n",
              "        vertical-align: top;\n",
              "    }\n",
              "\n",
              "    .dataframe thead th {\n",
              "        text-align: right;\n",
              "    }\n",
              "</style>\n",
              "<table border=\"1\" class=\"dataframe\">\n",
              "  <thead>\n",
              "    <tr style=\"text-align: right;\">\n",
              "      <th></th>\n",
              "      <th>Title</th>\n",
              "      <th>WorkoutType</th>\n",
              "      <th>WorkoutDescription</th>\n",
              "      <th>AthleteComments</th>\n",
              "      <th>Rpe</th>\n",
              "      <th>Feeling</th>\n",
              "    </tr>\n",
              "  </thead>\n",
              "  <tbody>\n",
              "    <tr>\n",
              "      <th>0</th>\n",
              "      <td>TMP Run 3 miles</td>\n",
              "      <td>Run</td>\n",
              "      <td>2 miles Warm up 3 miles @70%, Zone 3+ 1 mile C...</td>\n",
              "      <td>*01/01/2020 Becky DiSorbo: Need to do another...</td>\n",
              "      <td>NaN</td>\n",
              "      <td>NaN</td>\n",
              "    </tr>\n",
              "    <tr>\n",
              "      <th>1</th>\n",
              "      <td>AER Ride</td>\n",
              "      <td>Bike</td>\n",
              "      <td>NaN</td>\n",
              "      <td>*01/01/2020 Becky DiSorbo: Rode the trainer b...</td>\n",
              "      <td>6.0</td>\n",
              "      <td>5.0</td>\n",
              "    </tr>\n",
              "    <tr>\n",
              "      <th>2</th>\n",
              "      <td>Downhill skiing</td>\n",
              "      <td>Other</td>\n",
              "      <td>NaN</td>\n",
              "      <td>*01/01/2020 Becky DiSorbo: About ten runs. Co...</td>\n",
              "      <td>6.0</td>\n",
              "      <td>3.0</td>\n",
              "    </tr>\n",
              "    <tr>\n",
              "      <th>3</th>\n",
              "      <td>Day Off</td>\n",
              "      <td>Day Off</td>\n",
              "      <td>NaN</td>\n",
              "      <td>NaN</td>\n",
              "      <td>NaN</td>\n",
              "      <td>NaN</td>\n",
              "    </tr>\n",
              "    <tr>\n",
              "      <th>4</th>\n",
              "      <td>Alpine Skiing</td>\n",
              "      <td>Other</td>\n",
              "      <td>NaN</td>\n",
              "      <td>*01/02/2020 Becky DiSorbo: Easy skiing. Cold ...</td>\n",
              "      <td>5.0</td>\n",
              "      <td>5.0</td>\n",
              "    </tr>\n",
              "    <tr>\n",
              "      <th>...</th>\n",
              "      <td>...</td>\n",
              "      <td>...</td>\n",
              "      <td>...</td>\n",
              "      <td>...</td>\n",
              "      <td>...</td>\n",
              "      <td>...</td>\n",
              "    </tr>\n",
              "    <tr>\n",
              "      <th>1279</th>\n",
              "      <td>Alpine Skiing</td>\n",
              "      <td>Other</td>\n",
              "      <td>NaN</td>\n",
              "      <td>*12/31/2020 Becky DiSorbo: First two runs did...</td>\n",
              "      <td>NaN</td>\n",
              "      <td>NaN</td>\n",
              "    </tr>\n",
              "    <tr>\n",
              "      <th>1280</th>\n",
              "      <td>Track Me</td>\n",
              "      <td>Other</td>\n",
              "      <td>NaN</td>\n",
              "      <td>*12/31/2020 Becky DiSorbo: Fun ski day.*</td>\n",
              "      <td>4.0</td>\n",
              "      <td>5.0</td>\n",
              "    </tr>\n",
              "    <tr>\n",
              "      <th>1281</th>\n",
              "      <td>Alternative Training Session</td>\n",
              "      <td>Other</td>\n",
              "      <td>NaN</td>\n",
              "      <td>*12/31/2020 Becky DiSorbo: Am ski session. No...</td>\n",
              "      <td>5.0</td>\n",
              "      <td>5.0</td>\n",
              "    </tr>\n",
              "    <tr>\n",
              "      <th>1282</th>\n",
              "      <td>AER Run</td>\n",
              "      <td>Run</td>\n",
              "      <td>NaN</td>\n",
              "      <td>*01/01/2021 Becky DiSorbo: Slushy snowy shoul...</td>\n",
              "      <td>5.0</td>\n",
              "      <td>5.0</td>\n",
              "    </tr>\n",
              "    <tr>\n",
              "      <th>1283</th>\n",
              "      <td>Track Me</td>\n",
              "      <td>Other</td>\n",
              "      <td>NaN</td>\n",
              "      <td>*01/01/2021 Becky DiSorbo: Round two skiing.*</td>\n",
              "      <td>4.0</td>\n",
              "      <td>5.0</td>\n",
              "    </tr>\n",
              "  </tbody>\n",
              "</table>\n",
              "<p>1284 rows × 6 columns</p>\n",
              "</div>"
            ],
            "text/plain": [
              "                             Title WorkoutType  ...  Rpe Feeling\n",
              "0                  TMP Run 3 miles         Run  ...  NaN     NaN\n",
              "1                         AER Ride        Bike  ...  6.0     5.0\n",
              "2                  Downhill skiing       Other  ...  6.0     3.0\n",
              "3                          Day Off     Day Off  ...  NaN     NaN\n",
              "4                    Alpine Skiing       Other  ...  5.0     5.0\n",
              "...                            ...         ...  ...  ...     ...\n",
              "1279                 Alpine Skiing       Other  ...  NaN     NaN\n",
              "1280                      Track Me       Other  ...  4.0     5.0\n",
              "1281  Alternative Training Session       Other  ...  5.0     5.0\n",
              "1282                       AER Run         Run  ...  5.0     5.0\n",
              "1283                      Track Me       Other  ...  4.0     5.0\n",
              "\n",
              "[1284 rows x 6 columns]"
            ]
          },
          "metadata": {
            "tags": []
          },
          "execution_count": 12
        }
      ]
    },
    {
      "cell_type": "code",
      "metadata": {
        "colab": {
          "base_uri": "https://localhost:8080/"
        },
        "id": "8_MJOE9pAg4Y",
        "outputId": "cfb313aa-7d3d-4355-9b8f-008dae8aa6cb"
      },
      "source": [
        "df.isna().sum()"
      ],
      "execution_count": 13,
      "outputs": [
        {
          "output_type": "execute_result",
          "data": {
            "text/plain": [
              "Title                   5\n",
              "WorkoutType             0\n",
              "WorkoutDescription    962\n",
              "AthleteComments       555\n",
              "Rpe                   566\n",
              "Feeling               548\n",
              "dtype: int64"
            ]
          },
          "metadata": {
            "tags": []
          },
          "execution_count": 13
        }
      ]
    },
    {
      "cell_type": "code",
      "metadata": {
        "colab": {
          "base_uri": "https://localhost:8080/",
          "height": 562
        },
        "id": "IbFX-4_FBzBb",
        "outputId": "04316fe9-7f1f-42ad-f8cf-5322920b4731"
      },
      "source": [
        "#We're going to adjust the dataframe by removing rows with no inputs. The Workout Description is empty for 962/1284 rows so we'll get rid of this\n",
        "df = df.drop(columns=['WorkoutDescription'])\n",
        "df = df.dropna()\n",
        "df = df.reset_index(drop=True)\n",
        "df"
      ],
      "execution_count": 11,
      "outputs": [
        {
          "output_type": "execute_result",
          "data": {
            "text/html": [
              "<div>\n",
              "<style scoped>\n",
              "    .dataframe tbody tr th:only-of-type {\n",
              "        vertical-align: middle;\n",
              "    }\n",
              "\n",
              "    .dataframe tbody tr th {\n",
              "        vertical-align: top;\n",
              "    }\n",
              "\n",
              "    .dataframe thead th {\n",
              "        text-align: right;\n",
              "    }\n",
              "</style>\n",
              "<table border=\"1\" class=\"dataframe\">\n",
              "  <thead>\n",
              "    <tr style=\"text-align: right;\">\n",
              "      <th></th>\n",
              "      <th>Title</th>\n",
              "      <th>WorkoutType</th>\n",
              "      <th>AthleteComments</th>\n",
              "      <th>Rpe</th>\n",
              "      <th>Feeling</th>\n",
              "    </tr>\n",
              "  </thead>\n",
              "  <tbody>\n",
              "    <tr>\n",
              "      <th>0</th>\n",
              "      <td>AER Ride</td>\n",
              "      <td>Bike</td>\n",
              "      <td>*01/01/2020 Becky DiSorbo: Rode the trainer but didn’t get app and software set up since slept in after late night and wanted to ride before skiing. 10 min warm up 20 mins of drills including 3x1 leg at a time and then cycling dynamic drills. 4x (3 mins moderate then 2 mins in harder Gear and lower rpm) 10 mins easy* *01/01/2020 Becky DiSorbo: Garmin watch for heart rate.* *01/03/2020 Becky DiSorbo: Estimate on mileage*</td>\n",
              "      <td>6.00</td>\n",
              "      <td>5.00</td>\n",
              "    </tr>\n",
              "    <tr>\n",
              "      <th>1</th>\n",
              "      <td>Downhill skiing</td>\n",
              "      <td>Other</td>\n",
              "      <td>*01/01/2020 Becky DiSorbo: About ten runs. Cold out. 26 degrees plus windchill.* *01/01/2020 Becky DiSorbo: Forgot to start Garmin.*</td>\n",
              "      <td>6.00</td>\n",
              "      <td>3.00</td>\n",
              "    </tr>\n",
              "    <tr>\n",
              "      <th>2</th>\n",
              "      <td>Alpine Skiing</td>\n",
              "      <td>Other</td>\n",
              "      <td>*01/02/2020 Becky DiSorbo: Easy skiing. Cold reared it’s head last night.* *01/02/2020 Becky DiSorbo: Garmin didn’t record the runs.*</td>\n",
              "      <td>5.00</td>\n",
              "      <td>5.00</td>\n",
              "    </tr>\n",
              "    <tr>\n",
              "      <th>3</th>\n",
              "      <td>AER Run</td>\n",
              "      <td>Run</td>\n",
              "      <td>*01/03/2020 Becky DiSorbo: Felt good without much effort. Hamstring a little tight last mile.*</td>\n",
              "      <td>6.00</td>\n",
              "      <td>5.00</td>\n",
              "    </tr>\n",
              "    <tr>\n",
              "      <th>4</th>\n",
              "      <td>AER Ride</td>\n",
              "      <td>Bike</td>\n",
              "      <td>*01/03/2020 Becky DiSorbo: Used heart rate monitor. Didn’t get the trainer connected yet.* *01/03/2020 Becky DiSorbo: Feel better. Cold seems just about over. :-)* *01/03/2020 Becky DiSorbo: Mileage estimate*</td>\n",
              "      <td>6.00</td>\n",
              "      <td>5.00</td>\n",
              "    </tr>\n",
              "    <tr>\n",
              "      <th>...</th>\n",
              "      <td>...</td>\n",
              "      <td>...</td>\n",
              "      <td>...</td>\n",
              "      <td>...</td>\n",
              "      <td>...</td>\n",
              "    </tr>\n",
              "    <tr>\n",
              "      <th>647</th>\n",
              "      <td>Peloton Ride</td>\n",
              "      <td>Bike</td>\n",
              "      <td>*12/30/2020 Becky DiSorbo: Zones 4&amp;5 painful Warm up 1) 17 min interval 3 mins zone 3, 4 mins zone 4, repeat to 17 mins Zone 1 recovery 2) 9 min interval 3 times - 2 mins zone 3, 1 min zone 5 Zone 1 recovery 17 min interval same as before Warm down* *12/30/2020 Becky DiSorbo: It helped having done the ftp test which made me work harder.*</td>\n",
              "      <td>7.00</td>\n",
              "      <td>7.00</td>\n",
              "    </tr>\n",
              "    <tr>\n",
              "      <th>648</th>\n",
              "      <td>Track Me</td>\n",
              "      <td>Other</td>\n",
              "      <td>*12/31/2020 Becky DiSorbo: Fun ski day.*</td>\n",
              "      <td>4.00</td>\n",
              "      <td>5.00</td>\n",
              "    </tr>\n",
              "    <tr>\n",
              "      <th>649</th>\n",
              "      <td>Alternative Training Session</td>\n",
              "      <td>Other</td>\n",
              "      <td>*12/31/2020 Becky DiSorbo: Am ski session. No lines. :-)*</td>\n",
              "      <td>5.00</td>\n",
              "      <td>5.00</td>\n",
              "    </tr>\n",
              "    <tr>\n",
              "      <th>650</th>\n",
              "      <td>AER Run</td>\n",
              "      <td>Run</td>\n",
              "      <td>*01/01/2021 Becky DiSorbo: Slushy snowy shoulder but mostly road surface.*</td>\n",
              "      <td>5.00</td>\n",
              "      <td>5.00</td>\n",
              "    </tr>\n",
              "    <tr>\n",
              "      <th>651</th>\n",
              "      <td>Track Me</td>\n",
              "      <td>Other</td>\n",
              "      <td>*01/01/2021 Becky DiSorbo: Round two skiing.*</td>\n",
              "      <td>4.00</td>\n",
              "      <td>5.00</td>\n",
              "    </tr>\n",
              "  </tbody>\n",
              "</table>\n",
              "<p>652 rows × 5 columns</p>\n",
              "</div>"
            ],
            "text/plain": [
              "                            Title WorkoutType  \\\n",
              "0                        AER Ride        Bike   \n",
              "1                 Downhill skiing       Other   \n",
              "2                   Alpine Skiing       Other   \n",
              "3                         AER Run         Run   \n",
              "4                        AER Ride        Bike   \n",
              "..                            ...         ...   \n",
              "647                  Peloton Ride        Bike   \n",
              "648                      Track Me       Other   \n",
              "649  Alternative Training Session       Other   \n",
              "650                       AER Run         Run   \n",
              "651                      Track Me       Other   \n",
              "\n",
              "                                                                                                                                                                                                                                                                                                                                                                                                                              AthleteComments  \\\n",
              "0     *01/01/2020 Becky DiSorbo: Rode the trainer but didn’t get app and software set up since slept in after late night and wanted to ride before skiing. 10 min warm up 20 mins of drills including 3x1 leg at a time and then cycling dynamic drills. 4x (3 mins moderate then 2 mins in harder Gear and lower rpm) 10 mins easy* *01/01/2020 Becky DiSorbo: Garmin watch for heart rate.* *01/03/2020 Becky DiSorbo: Estimate on mileage*   \n",
              "1                                                                                                                                                                                                                                                                                                        *01/01/2020 Becky DiSorbo: About ten runs. Cold out. 26 degrees plus windchill.* *01/01/2020 Becky DiSorbo: Forgot to start Garmin.*   \n",
              "2                                                                                                                                                                                                                                                                                                       *01/02/2020 Becky DiSorbo: Easy skiing. Cold reared it’s head last night.* *01/02/2020 Becky DiSorbo: Garmin didn’t record the runs.*   \n",
              "3                                                                                                                                                                                                                                                                                                                                              *01/03/2020 Becky DiSorbo: Felt good without much effort. Hamstring a little tight last mile.*   \n",
              "4                                                                                                                                                                                                                            *01/03/2020 Becky DiSorbo: Used heart rate monitor. Didn’t get the trainer connected yet.* *01/03/2020 Becky DiSorbo: Feel better. Cold seems just about over. :-)* *01/03/2020 Becky DiSorbo: Mileage estimate*   \n",
              "..                                                                                                                                                                                                                                                                                                                                                                                                                                        ...   \n",
              "647                                                                                       *12/30/2020 Becky DiSorbo: Zones 4&5 painful Warm up 1) 17 min interval 3 mins zone 3, 4 mins zone 4, repeat to 17 mins Zone 1 recovery 2) 9 min interval 3 times - 2 mins zone 3, 1 min zone 5 Zone 1 recovery 17 min interval same as before Warm down* *12/30/2020 Becky DiSorbo: It helped having done the ftp test which made me work harder.*   \n",
              "648                                                                                                                                                                                                                                                                                                                                                                                                  *12/31/2020 Becky DiSorbo: Fun ski day.*   \n",
              "649                                                                                                                                                                                                                                                                                                                                                                                 *12/31/2020 Becky DiSorbo: Am ski session. No lines. :-)*   \n",
              "650                                                                                                                                                                                                                                                                                                                                                                *01/01/2021 Becky DiSorbo: Slushy snowy shoulder but mostly road surface.*   \n",
              "651                                                                                                                                                                                                                                                                                                                                                                                             *01/01/2021 Becky DiSorbo: Round two skiing.*   \n",
              "\n",
              "     Rpe  Feeling  \n",
              "0   6.00     5.00  \n",
              "1   6.00     3.00  \n",
              "2   5.00     5.00  \n",
              "3   6.00     5.00  \n",
              "4   6.00     5.00  \n",
              "..   ...      ...  \n",
              "647 7.00     7.00  \n",
              "648 4.00     5.00  \n",
              "649 5.00     5.00  \n",
              "650 5.00     5.00  \n",
              "651 4.00     5.00  \n",
              "\n",
              "[652 rows x 5 columns]"
            ]
          },
          "metadata": {
            "tags": []
          },
          "execution_count": 11
        }
      ]
    },
    {
      "cell_type": "code",
      "metadata": {
        "colab": {
          "base_uri": "https://localhost:8080/",
          "height": 310
        },
        "id": "JDMwrEW6yGfA",
        "outputId": "95893390-464e-4e90-e63f-17744accb8c3"
      },
      "source": [
        "conditions = [(df['Rpe'] < 4.00),\n",
        "              (df['Rpe'] >= 4.00) & (df['Rpe'] <= 7.00),\n",
        "              (df['Rpe'] > 7.00)]\n",
        "\n",
        "values = ['Underworked','Balanced', 'Overworked']\n",
        "df['Sentiment'] = np.select(conditions, values)\n",
        "df.head()"
      ],
      "execution_count": 12,
      "outputs": [
        {
          "output_type": "execute_result",
          "data": {
            "text/html": [
              "<div>\n",
              "<style scoped>\n",
              "    .dataframe tbody tr th:only-of-type {\n",
              "        vertical-align: middle;\n",
              "    }\n",
              "\n",
              "    .dataframe tbody tr th {\n",
              "        vertical-align: top;\n",
              "    }\n",
              "\n",
              "    .dataframe thead th {\n",
              "        text-align: right;\n",
              "    }\n",
              "</style>\n",
              "<table border=\"1\" class=\"dataframe\">\n",
              "  <thead>\n",
              "    <tr style=\"text-align: right;\">\n",
              "      <th></th>\n",
              "      <th>Title</th>\n",
              "      <th>WorkoutType</th>\n",
              "      <th>AthleteComments</th>\n",
              "      <th>Rpe</th>\n",
              "      <th>Feeling</th>\n",
              "      <th>Sentiment</th>\n",
              "    </tr>\n",
              "  </thead>\n",
              "  <tbody>\n",
              "    <tr>\n",
              "      <th>0</th>\n",
              "      <td>AER Ride</td>\n",
              "      <td>Bike</td>\n",
              "      <td>*01/01/2020 Becky DiSorbo: Rode the trainer but didn’t get app and software set up since slept in after late night and wanted to ride before skiing. 10 min warm up 20 mins of drills including 3x1 leg at a time and then cycling dynamic drills. 4x (3 mins moderate then 2 mins in harder Gear and lower rpm) 10 mins easy* *01/01/2020 Becky DiSorbo: Garmin watch for heart rate.* *01/03/2020 Becky DiSorbo: Estimate on mileage*</td>\n",
              "      <td>6.00</td>\n",
              "      <td>5.00</td>\n",
              "      <td>Balanced</td>\n",
              "    </tr>\n",
              "    <tr>\n",
              "      <th>1</th>\n",
              "      <td>Downhill skiing</td>\n",
              "      <td>Other</td>\n",
              "      <td>*01/01/2020 Becky DiSorbo: About ten runs. Cold out. 26 degrees plus windchill.* *01/01/2020 Becky DiSorbo: Forgot to start Garmin.*</td>\n",
              "      <td>6.00</td>\n",
              "      <td>3.00</td>\n",
              "      <td>Balanced</td>\n",
              "    </tr>\n",
              "    <tr>\n",
              "      <th>2</th>\n",
              "      <td>Alpine Skiing</td>\n",
              "      <td>Other</td>\n",
              "      <td>*01/02/2020 Becky DiSorbo: Easy skiing. Cold reared it’s head last night.* *01/02/2020 Becky DiSorbo: Garmin didn’t record the runs.*</td>\n",
              "      <td>5.00</td>\n",
              "      <td>5.00</td>\n",
              "      <td>Balanced</td>\n",
              "    </tr>\n",
              "    <tr>\n",
              "      <th>3</th>\n",
              "      <td>AER Run</td>\n",
              "      <td>Run</td>\n",
              "      <td>*01/03/2020 Becky DiSorbo: Felt good without much effort. Hamstring a little tight last mile.*</td>\n",
              "      <td>6.00</td>\n",
              "      <td>5.00</td>\n",
              "      <td>Balanced</td>\n",
              "    </tr>\n",
              "    <tr>\n",
              "      <th>4</th>\n",
              "      <td>AER Ride</td>\n",
              "      <td>Bike</td>\n",
              "      <td>*01/03/2020 Becky DiSorbo: Used heart rate monitor. Didn’t get the trainer connected yet.* *01/03/2020 Becky DiSorbo: Feel better. Cold seems just about over. :-)* *01/03/2020 Becky DiSorbo: Mileage estimate*</td>\n",
              "      <td>6.00</td>\n",
              "      <td>5.00</td>\n",
              "      <td>Balanced</td>\n",
              "    </tr>\n",
              "  </tbody>\n",
              "</table>\n",
              "</div>"
            ],
            "text/plain": [
              "             Title WorkoutType  \\\n",
              "0         AER Ride        Bike   \n",
              "1  Downhill skiing       Other   \n",
              "2    Alpine Skiing       Other   \n",
              "3          AER Run         Run   \n",
              "4         AER Ride        Bike   \n",
              "\n",
              "                                                                                                                                                                                                                                                                                                                                                                                                                            AthleteComments  \\\n",
              "0   *01/01/2020 Becky DiSorbo: Rode the trainer but didn’t get app and software set up since slept in after late night and wanted to ride before skiing. 10 min warm up 20 mins of drills including 3x1 leg at a time and then cycling dynamic drills. 4x (3 mins moderate then 2 mins in harder Gear and lower rpm) 10 mins easy* *01/01/2020 Becky DiSorbo: Garmin watch for heart rate.* *01/03/2020 Becky DiSorbo: Estimate on mileage*   \n",
              "1                                                                                                                                                                                                                                                                                                      *01/01/2020 Becky DiSorbo: About ten runs. Cold out. 26 degrees plus windchill.* *01/01/2020 Becky DiSorbo: Forgot to start Garmin.*   \n",
              "2                                                                                                                                                                                                                                                                                                     *01/02/2020 Becky DiSorbo: Easy skiing. Cold reared it’s head last night.* *01/02/2020 Becky DiSorbo: Garmin didn’t record the runs.*   \n",
              "3                                                                                                                                                                                                                                                                                                                                            *01/03/2020 Becky DiSorbo: Felt good without much effort. Hamstring a little tight last mile.*   \n",
              "4                                                                                                                                                                                                                          *01/03/2020 Becky DiSorbo: Used heart rate monitor. Didn’t get the trainer connected yet.* *01/03/2020 Becky DiSorbo: Feel better. Cold seems just about over. :-)* *01/03/2020 Becky DiSorbo: Mileage estimate*   \n",
              "\n",
              "   Rpe  Feeling Sentiment  \n",
              "0 6.00     5.00  Balanced  \n",
              "1 6.00     3.00  Balanced  \n",
              "2 5.00     5.00  Balanced  \n",
              "3 6.00     5.00  Balanced  \n",
              "4 6.00     5.00  Balanced  "
            ]
          },
          "metadata": {
            "tags": []
          },
          "execution_count": 12
        }
      ]
    },
    {
      "cell_type": "code",
      "metadata": {
        "colab": {
          "base_uri": "https://localhost:8080/"
        },
        "id": "U3fEDUHLsDE-",
        "outputId": "6ea69ccb-2b27-4c62-c181-a8dd4fea213c"
      },
      "source": [
        "df['Sentiment'].value_counts()"
      ],
      "execution_count": 14,
      "outputs": [
        {
          "output_type": "execute_result",
          "data": {
            "text/plain": [
              "Balanced       599\n",
              "Overworked      36\n",
              "Underworked     17\n",
              "Name: Sentiment, dtype: int64"
            ]
          },
          "metadata": {
            "tags": []
          },
          "execution_count": 14
        }
      ]
    },
    {
      "cell_type": "code",
      "metadata": {
        "id": "Wq5er0lZyGK0"
      },
      "source": [
        "from bs4 import BeautifulSoup"
      ],
      "execution_count": 15,
      "outputs": []
    },
    {
      "cell_type": "code",
      "metadata": {
        "id": "6e8mrgAbyGAE"
      },
      "source": [
        "def strip_html(text):\n",
        "  soup = BeautifulSoup(text, \"html.parser\")\n",
        "  return soup.get_text()"
      ],
      "execution_count": 16,
      "outputs": []
    },
    {
      "cell_type": "code",
      "metadata": {
        "id": "qz76CCQhyF0V"
      },
      "source": [
        "import re\n",
        "def remove_between_square_brackets(text):\n",
        "    return re.sub('\\[[^]]*\\]', '', text)"
      ],
      "execution_count": 17,
      "outputs": []
    },
    {
      "cell_type": "code",
      "metadata": {
        "id": "wPvQwMW3yFoL"
      },
      "source": [
        "def denoise_text(text):\n",
        "    text = strip_html(text)\n",
        "    text = remove_between_square_brackets(text)\n",
        "    return text"
      ],
      "execution_count": 18,
      "outputs": []
    },
    {
      "cell_type": "code",
      "metadata": {
        "id": "1JVExb5iyFd1"
      },
      "source": [
        "df['AthleteComments']=df['AthleteComments'].apply(denoise_text)"
      ],
      "execution_count": 19,
      "outputs": []
    },
    {
      "cell_type": "code",
      "metadata": {
        "colab": {
          "base_uri": "https://localhost:8080/",
          "height": 1000
        },
        "id": "rJADlRvKyFVa",
        "outputId": "8f3b3b1c-0f5d-443a-eb88-0b7cd196e235"
      },
      "source": [
        "df.head(20)"
      ],
      "execution_count": 20,
      "outputs": [
        {
          "output_type": "execute_result",
          "data": {
            "text/html": [
              "<div>\n",
              "<style scoped>\n",
              "    .dataframe tbody tr th:only-of-type {\n",
              "        vertical-align: middle;\n",
              "    }\n",
              "\n",
              "    .dataframe tbody tr th {\n",
              "        vertical-align: top;\n",
              "    }\n",
              "\n",
              "    .dataframe thead th {\n",
              "        text-align: right;\n",
              "    }\n",
              "</style>\n",
              "<table border=\"1\" class=\"dataframe\">\n",
              "  <thead>\n",
              "    <tr style=\"text-align: right;\">\n",
              "      <th></th>\n",
              "      <th>Title</th>\n",
              "      <th>WorkoutType</th>\n",
              "      <th>AthleteComments</th>\n",
              "      <th>Rpe</th>\n",
              "      <th>Feeling</th>\n",
              "      <th>Sentiment</th>\n",
              "    </tr>\n",
              "  </thead>\n",
              "  <tbody>\n",
              "    <tr>\n",
              "      <th>0</th>\n",
              "      <td>AER Ride</td>\n",
              "      <td>Bike</td>\n",
              "      <td>*01/01/2020 Becky DiSorbo: Rode the trainer but didn’t get app and software set up since slept in after late night and wanted to ride before skiing. 10 min warm up 20 mins of drills including 3x1 leg at a time and then cycling dynamic drills. 4x (3 mins moderate then 2 mins in harder Gear and lower rpm) 10 mins easy* *01/01/2020 Becky DiSorbo: Garmin watch for heart rate.* *01/03/2020 Becky DiSorbo: Estimate on mileage*</td>\n",
              "      <td>6.00</td>\n",
              "      <td>5.00</td>\n",
              "      <td>Balanced</td>\n",
              "    </tr>\n",
              "    <tr>\n",
              "      <th>1</th>\n",
              "      <td>Downhill skiing</td>\n",
              "      <td>Other</td>\n",
              "      <td>*01/01/2020 Becky DiSorbo: About ten runs. Cold out. 26 degrees plus windchill.* *01/01/2020 Becky DiSorbo: Forgot to start Garmin.*</td>\n",
              "      <td>6.00</td>\n",
              "      <td>3.00</td>\n",
              "      <td>Balanced</td>\n",
              "    </tr>\n",
              "    <tr>\n",
              "      <th>2</th>\n",
              "      <td>Alpine Skiing</td>\n",
              "      <td>Other</td>\n",
              "      <td>*01/02/2020 Becky DiSorbo: Easy skiing. Cold reared it’s head last night.* *01/02/2020 Becky DiSorbo: Garmin didn’t record the runs.*</td>\n",
              "      <td>5.00</td>\n",
              "      <td>5.00</td>\n",
              "      <td>Balanced</td>\n",
              "    </tr>\n",
              "    <tr>\n",
              "      <th>3</th>\n",
              "      <td>AER Run</td>\n",
              "      <td>Run</td>\n",
              "      <td>*01/03/2020 Becky DiSorbo: Felt good without much effort. Hamstring a little tight last mile.*</td>\n",
              "      <td>6.00</td>\n",
              "      <td>5.00</td>\n",
              "      <td>Balanced</td>\n",
              "    </tr>\n",
              "    <tr>\n",
              "      <th>4</th>\n",
              "      <td>AER Ride</td>\n",
              "      <td>Bike</td>\n",
              "      <td>*01/03/2020 Becky DiSorbo: Used heart rate monitor. Didn’t get the trainer connected yet.* *01/03/2020 Becky DiSorbo: Feel better. Cold seems just about over. :-)* *01/03/2020 Becky DiSorbo: Mileage estimate*</td>\n",
              "      <td>6.00</td>\n",
              "      <td>5.00</td>\n",
              "      <td>Balanced</td>\n",
              "    </tr>\n",
              "    <tr>\n",
              "      <th>5</th>\n",
              "      <td>OD Ride</td>\n",
              "      <td>Bike</td>\n",
              "      <td>*01/04/2020 Becky DiSorbo: Still not hooked up. Estimate I rode 32. Seat very uncomfortable on this bike so in future need my own seat.* *01/04/2020 Becky DiSorbo: Did 3 sets of one leg pedal drills for 1 min each. 1 min recovery after each set.*</td>\n",
              "      <td>6.00</td>\n",
              "      <td>5.00</td>\n",
              "      <td>Balanced</td>\n",
              "    </tr>\n",
              "    <tr>\n",
              "      <th>6</th>\n",
              "      <td>Swim</td>\n",
              "      <td>Swim</td>\n",
              "      <td>*01/04/2020 Becky DiSorbo: 1000 straight 250 mix of back and drill 550 swim 250 mix of back and drill 200 swim 8x25s breath every 7 on :30 100 easy* *01/04/2020 Becky DiSorbo: First 1000 relaxed finished in 14;51 average 1:33 pace*</td>\n",
              "      <td>5.00</td>\n",
              "      <td>5.00</td>\n",
              "      <td>Balanced</td>\n",
              "    </tr>\n",
              "    <tr>\n",
              "      <th>7</th>\n",
              "      <td>OD Run</td>\n",
              "      <td>Run</td>\n",
              "      <td>*01/05/2020 Becky DiSorbo: Snowy so harder run surface. :-) fun though.*</td>\n",
              "      <td>6.00</td>\n",
              "      <td>5.00</td>\n",
              "      <td>Balanced</td>\n",
              "    </tr>\n",
              "    <tr>\n",
              "      <th>8</th>\n",
              "      <td>Alpine Skiing</td>\n",
              "      <td>Other</td>\n",
              "      <td>*01/05/2020 Becky DiSorbo: Garmin fail. Only did 4 runs. Too bumpy.*</td>\n",
              "      <td>4.00</td>\n",
              "      <td>5.00</td>\n",
              "      <td>Balanced</td>\n",
              "    </tr>\n",
              "    <tr>\n",
              "      <th>9</th>\n",
              "      <td>Swim</td>\n",
              "      <td>Swim</td>\n",
              "      <td>*01/07/2020 Becky DiSorbo: Felt a little sluggish since I had several days off. Relatively Easy swim. Long course meters. 400 warm up 8x75s on 1:20 3x200s on 3:30 12x50s grant Hackett on 1:00 fastest was 41/42 200 easy*</td>\n",
              "      <td>5.00</td>\n",
              "      <td>7.00</td>\n",
              "      <td>Balanced</td>\n",
              "    </tr>\n",
              "    <tr>\n",
              "      <th>10</th>\n",
              "      <td>AER Run</td>\n",
              "      <td>Run</td>\n",
              "      <td>*01/07/2020 Becky DiSorbo: Felt good but left hamstring still tight. Annoying. See Dr Petrick tomorrow.* *01/07/2020 Becky DiSorbo: The fast bursts were when there were cars at two intersections.* *01/07/2020 Nick Radkewich: Get it worked on. Temper TMP run appropriately.*</td>\n",
              "      <td>6.00</td>\n",
              "      <td>5.00</td>\n",
              "      <td>Balanced</td>\n",
              "    </tr>\n",
              "    <tr>\n",
              "      <th>11</th>\n",
              "      <td>AER Ride</td>\n",
              "      <td>Bike</td>\n",
              "      <td>*01/08/2020 Becky DiSorbo: Left leg sore in various spots. Probably from having been on a peloton and joe’s road bike on the trainer.* *01/08/2020 Becky DiSorbo: Also power meter out. Think my pedals need new batteries.*</td>\n",
              "      <td>6.00</td>\n",
              "      <td>7.00</td>\n",
              "      <td>Balanced</td>\n",
              "    </tr>\n",
              "    <tr>\n",
              "      <th>12</th>\n",
              "      <td>RT Int Bike 3x10 mins</td>\n",
              "      <td>Bike</td>\n",
              "      <td>*01/09/2020 Becky DiSorbo: Rode with a friend so circled back after each ten min interval. We stayed on the one road so overall bike ended up being longer but I took it easy on non workout part. Felt good today. Felt some leg stuff in pool and on bike near end but not on the climb. Chiro worked on me.* *01/09/2020 Becky DiSorbo: Heart rate didn’t record and still need to change batteries on pedals.*</td>\n",
              "      <td>6.00</td>\n",
              "      <td>5.00</td>\n",
              "      <td>Balanced</td>\n",
              "    </tr>\n",
              "    <tr>\n",
              "      <th>13</th>\n",
              "      <td>Running</td>\n",
              "      <td>Run</td>\n",
              "      <td>*01/09/2020 Nick Radkewich: Hurdle drills?* *01/09/2020 Becky DiSorbo: Yeah not sure I did them right. Need to watch video again and make sure my distances were correct. I was rushing a bit after bike when still warmed up and before I went to chiro.* *01/09/2020 Becky DiSorbo: Legs felt fine on the drills though. :-)* *01/09/2020 Nick Radkewich: I'll make you a video on how to set them up.* *01/09/2020 Becky DiSorbo: Ok thanks. I did watch the video link you sent*</td>\n",
              "      <td>5.00</td>\n",
              "      <td>5.00</td>\n",
              "      <td>Balanced</td>\n",
              "    </tr>\n",
              "    <tr>\n",
              "      <th>14</th>\n",
              "      <td>Swim</td>\n",
              "      <td>Swim</td>\n",
              "      <td>*01/09/2020 Becky DiSorbo: Long course meters. Sore today. 7-800 warm up 4x100s on 1:45 2x50s easy back 4x75s 2x50s easy back 2x100 IMs 2x50s easy back 1x100 2x50s easy back 10 min swim (150 free 50 back, repeat...) went 550 Easy 50*</td>\n",
              "      <td>6.00</td>\n",
              "      <td>7.00</td>\n",
              "      <td>Balanced</td>\n",
              "    </tr>\n",
              "    <tr>\n",
              "      <th>15</th>\n",
              "      <td>TMP Run</td>\n",
              "      <td>Run</td>\n",
              "      <td>*01/09/2020 Becky DiSorbo: I remembered to wear my Garmin pod. :-) Hard to measure pace on the loop where I run because it’s hilly. So I just tried to maintain the same effort on the 3 miles pace. No hamstring issue but felt it in my piraformis a bit.*</td>\n",
              "      <td>7.00</td>\n",
              "      <td>5.00</td>\n",
              "      <td>Balanced</td>\n",
              "    </tr>\n",
              "    <tr>\n",
              "      <th>16</th>\n",
              "      <td>REC Ride</td>\n",
              "      <td>Bike</td>\n",
              "      <td>*01/09/2020 Becky DiSorbo: Changed my batteries on the pedals. Broke the o ring on the left one but seemed to work anyway. Was suppose to ride with a friend which would have made this a slower ride but I just went on my own so probably a bit less recovery but I felt good. :-)*</td>\n",
              "      <td>6.00</td>\n",
              "      <td>5.00</td>\n",
              "      <td>Balanced</td>\n",
              "    </tr>\n",
              "    <tr>\n",
              "      <th>17</th>\n",
              "      <td>Swim</td>\n",
              "      <td>Swim</td>\n",
              "      <td>*01/10/2020 Becky DiSorbo: OD swim. 100x100s on intervals ranging from 2 min to 1:45 so group could swim it together.  Focused on right arm form (high elbow) then head position. Kept it relaxed.*</td>\n",
              "      <td>6.00</td>\n",
              "      <td>5.00</td>\n",
              "      <td>Balanced</td>\n",
              "    </tr>\n",
              "    <tr>\n",
              "      <th>18</th>\n",
              "      <td>OD Ride</td>\n",
              "      <td>Bike</td>\n",
              "      <td>*01/12/2020 Becky DiSorbo: Rode with friend. Took it easy.* *01/12/2020 Becky DiSorbo: Felt good. Piraformis a bit tight about mile 18 up gradual climb.*</td>\n",
              "      <td>6.00</td>\n",
              "      <td>3.00</td>\n",
              "      <td>Balanced</td>\n",
              "    </tr>\n",
              "    <tr>\n",
              "      <th>19</th>\n",
              "      <td>Post Ride Run</td>\n",
              "      <td>Run</td>\n",
              "      <td>*01/12/2020 Becky DiSorbo: Felt good. Left piraformis a little tight but nothing in hamstring. :-)*</td>\n",
              "      <td>6.00</td>\n",
              "      <td>3.00</td>\n",
              "      <td>Balanced</td>\n",
              "    </tr>\n",
              "  </tbody>\n",
              "</table>\n",
              "</div>"
            ],
            "text/plain": [
              "                    Title WorkoutType  \\\n",
              "0                AER Ride        Bike   \n",
              "1         Downhill skiing       Other   \n",
              "2           Alpine Skiing       Other   \n",
              "3                 AER Run         Run   \n",
              "4                AER Ride        Bike   \n",
              "5                 OD Ride        Bike   \n",
              "6                    Swim        Swim   \n",
              "7                  OD Run         Run   \n",
              "8           Alpine Skiing       Other   \n",
              "9                    Swim        Swim   \n",
              "10                AER Run         Run   \n",
              "11               AER Ride        Bike   \n",
              "12  RT Int Bike 3x10 mins        Bike   \n",
              "13                Running         Run   \n",
              "14                   Swim        Swim   \n",
              "15                TMP Run         Run   \n",
              "16               REC Ride        Bike   \n",
              "17                   Swim        Swim   \n",
              "18                OD Ride        Bike   \n",
              "19          Post Ride Run         Run   \n",
              "\n",
              "                                                                                                                                                                                                                                                                                                                                                                                                                                                                          AthleteComments  \\\n",
              "0                                                 *01/01/2020 Becky DiSorbo: Rode the trainer but didn’t get app and software set up since slept in after late night and wanted to ride before skiing. 10 min warm up 20 mins of drills including 3x1 leg at a time and then cycling dynamic drills. 4x (3 mins moderate then 2 mins in harder Gear and lower rpm) 10 mins easy* *01/01/2020 Becky DiSorbo: Garmin watch for heart rate.* *01/03/2020 Becky DiSorbo: Estimate on mileage*   \n",
              "1                                                                                                                                                                                                                                                                                                                                                    *01/01/2020 Becky DiSorbo: About ten runs. Cold out. 26 degrees plus windchill.* *01/01/2020 Becky DiSorbo: Forgot to start Garmin.*   \n",
              "2                                                                                                                                                                                                                                                                                                                                                   *01/02/2020 Becky DiSorbo: Easy skiing. Cold reared it’s head last night.* *01/02/2020 Becky DiSorbo: Garmin didn’t record the runs.*   \n",
              "3                                                                                                                                                                                                                                                                                                                                                                                          *01/03/2020 Becky DiSorbo: Felt good without much effort. Hamstring a little tight last mile.*   \n",
              "4                                                                                                                                                                                                                                                                        *01/03/2020 Becky DiSorbo: Used heart rate monitor. Didn’t get the trainer connected yet.* *01/03/2020 Becky DiSorbo: Feel better. Cold seems just about over. :-)* *01/03/2020 Becky DiSorbo: Mileage estimate*   \n",
              "5                                                                                                                                                                                                                                  *01/04/2020 Becky DiSorbo: Still not hooked up. Estimate I rode 32. Seat very uncomfortable on this bike so in future need my own seat.* *01/04/2020 Becky DiSorbo: Did 3 sets of one leg pedal drills for 1 min each. 1 min recovery after each set.*   \n",
              "6                                                                                                                                                                                                                                                 *01/04/2020 Becky DiSorbo: 1000 straight 250 mix of back and drill 550 swim 250 mix of back and drill 200 swim 8x25s breath every 7 on :30 100 easy* *01/04/2020 Becky DiSorbo: First 1000 relaxed finished in 14;51 average 1:33 pace*   \n",
              "7                                                                                                                                                                                                                                                                                                                                                                                                                *01/05/2020 Becky DiSorbo: Snowy so harder run surface. :-) fun though.*   \n",
              "8                                                                                                                                                                                                                                                                                                                                                                                                                    *01/05/2020 Becky DiSorbo: Garmin fail. Only did 4 runs. Too bumpy.*   \n",
              "9                                                                                                                                                                                                                                                             *01/07/2020 Becky DiSorbo: Felt a little sluggish since I had several days off. Relatively Easy swim. Long course meters. 400 warm up 8x75s on 1:20 3x200s on 3:30 12x50s grant Hackett on 1:00 fastest was 41/42 200 easy*   \n",
              "10                                                                                                                                                                                                      *01/07/2020 Becky DiSorbo: Felt good but left hamstring still tight. Annoying. See Dr Petrick tomorrow.* *01/07/2020 Becky DiSorbo: The fast bursts were when there were cars at two intersections.* *01/07/2020 Nick Radkewich: Get it worked on. Temper TMP run appropriately.*   \n",
              "11                                                                                                                                                                                                                                                           *01/08/2020 Becky DiSorbo: Left leg sore in various spots. Probably from having been on a peloton and joe’s road bike on the trainer.* *01/08/2020 Becky DiSorbo: Also power meter out. Think my pedals need new batteries.*   \n",
              "12                                                                     *01/09/2020 Becky DiSorbo: Rode with a friend so circled back after each ten min interval. We stayed on the one road so overall bike ended up being longer but I took it easy on non workout part. Felt good today. Felt some leg stuff in pool and on bike near end but not on the climb. Chiro worked on me.* *01/09/2020 Becky DiSorbo: Heart rate didn’t record and still need to change batteries on pedals.*   \n",
              "13   *01/09/2020 Nick Radkewich: Hurdle drills?* *01/09/2020 Becky DiSorbo: Yeah not sure I did them right. Need to watch video again and make sure my distances were correct. I was rushing a bit after bike when still warmed up and before I went to chiro.* *01/09/2020 Becky DiSorbo: Legs felt fine on the drills though. :-)* *01/09/2020 Nick Radkewich: I'll make you a video on how to set them up.* *01/09/2020 Becky DiSorbo: Ok thanks. I did watch the video link you sent*   \n",
              "14                                                                                                                                                                                                                                              *01/09/2020 Becky DiSorbo: Long course meters. Sore today. 7-800 warm up 4x100s on 1:45 2x50s easy back 4x75s 2x50s easy back 2x100 IMs 2x50s easy back 1x100 2x50s easy back 10 min swim (150 free 50 back, repeat...) went 550 Easy 50*   \n",
              "15                                                                                                                                                                                                                           *01/09/2020 Becky DiSorbo: I remembered to wear my Garmin pod. :-) Hard to measure pace on the loop where I run because it’s hilly. So I just tried to maintain the same effort on the 3 miles pace. No hamstring issue but felt it in my piraformis a bit.*   \n",
              "16                                                                                                                                                                                                  *01/09/2020 Becky DiSorbo: Changed my batteries on the pedals. Broke the o ring on the left one but seemed to work anyway. Was suppose to ride with a friend which would have made this a slower ride but I just went on my own so probably a bit less recovery but I felt good. :-)*   \n",
              "17                                                                                                                                                                                                                                                                                    *01/10/2020 Becky DiSorbo: OD swim. 100x100s on intervals ranging from 2 min to 1:45 so group could swim it together.  Focused on right arm form (high elbow) then head position. Kept it relaxed.*   \n",
              "18                                                                                                                                                                                                                                                                                                                              *01/12/2020 Becky DiSorbo: Rode with friend. Took it easy.* *01/12/2020 Becky DiSorbo: Felt good. Piraformis a bit tight about mile 18 up gradual climb.*   \n",
              "19                                                                                                                                                                                                                                                                                                                                                                                    *01/12/2020 Becky DiSorbo: Felt good. Left piraformis a little tight but nothing in hamstring. :-)*   \n",
              "\n",
              "    Rpe  Feeling Sentiment  \n",
              "0  6.00     5.00  Balanced  \n",
              "1  6.00     3.00  Balanced  \n",
              "2  5.00     5.00  Balanced  \n",
              "3  6.00     5.00  Balanced  \n",
              "4  6.00     5.00  Balanced  \n",
              "5  6.00     5.00  Balanced  \n",
              "6  5.00     5.00  Balanced  \n",
              "7  6.00     5.00  Balanced  \n",
              "8  4.00     5.00  Balanced  \n",
              "9  5.00     7.00  Balanced  \n",
              "10 6.00     5.00  Balanced  \n",
              "11 6.00     7.00  Balanced  \n",
              "12 6.00     5.00  Balanced  \n",
              "13 5.00     5.00  Balanced  \n",
              "14 6.00     7.00  Balanced  \n",
              "15 7.00     5.00  Balanced  \n",
              "16 6.00     5.00  Balanced  \n",
              "17 6.00     5.00  Balanced  \n",
              "18 6.00     3.00  Balanced  \n",
              "19 6.00     3.00  Balanced  "
            ]
          },
          "metadata": {
            "tags": []
          },
          "execution_count": 20
        }
      ]
    },
    {
      "cell_type": "code",
      "metadata": {
        "id": "TXsvR8ZKyFLL"
      },
      "source": [
        "def remove_special_characters(text, remove_digits=True):\n",
        "    pattern=r'[^a-zA-z0-9\\s]'\n",
        "    text=re.sub(pattern,'',text)\n",
        "    return text"
      ],
      "execution_count": 21,
      "outputs": []
    },
    {
      "cell_type": "code",
      "metadata": {
        "id": "zE80U4BbsqRc"
      },
      "source": [
        "def Convert_to_bin(text, remove_digits=True):\n",
        "    if text=='Overworked':\n",
        "      text= 1\n",
        "    elif text=='Underworked':\n",
        "      text=0\n",
        "    elif text=='Balanced':\n",
        "      text=2\n",
        "    return text"
      ],
      "execution_count": 22,
      "outputs": []
    },
    {
      "cell_type": "code",
      "metadata": {
        "id": "U-R8c16OsqK6"
      },
      "source": [
        "df['AthleteComments']=df['AthleteComments'].apply(remove_special_characters)"
      ],
      "execution_count": 23,
      "outputs": []
    },
    {
      "cell_type": "code",
      "metadata": {
        "id": "w-PMy-VssqEQ"
      },
      "source": [
        "df['Sentiment']=df['Sentiment'].apply(Convert_to_bin)"
      ],
      "execution_count": 24,
      "outputs": []
    },
    {
      "cell_type": "code",
      "metadata": {
        "colab": {
          "base_uri": "https://localhost:8080/",
          "height": 310
        },
        "id": "h81bzgnQsp98",
        "outputId": "e7a7db2e-cbf6-4f09-f1a9-9d154b5f1866"
      },
      "source": [
        "df.head()"
      ],
      "execution_count": 25,
      "outputs": [
        {
          "output_type": "execute_result",
          "data": {
            "text/html": [
              "<div>\n",
              "<style scoped>\n",
              "    .dataframe tbody tr th:only-of-type {\n",
              "        vertical-align: middle;\n",
              "    }\n",
              "\n",
              "    .dataframe tbody tr th {\n",
              "        vertical-align: top;\n",
              "    }\n",
              "\n",
              "    .dataframe thead th {\n",
              "        text-align: right;\n",
              "    }\n",
              "</style>\n",
              "<table border=\"1\" class=\"dataframe\">\n",
              "  <thead>\n",
              "    <tr style=\"text-align: right;\">\n",
              "      <th></th>\n",
              "      <th>Title</th>\n",
              "      <th>WorkoutType</th>\n",
              "      <th>AthleteComments</th>\n",
              "      <th>Rpe</th>\n",
              "      <th>Feeling</th>\n",
              "      <th>Sentiment</th>\n",
              "    </tr>\n",
              "  </thead>\n",
              "  <tbody>\n",
              "    <tr>\n",
              "      <th>0</th>\n",
              "      <td>AER Ride</td>\n",
              "      <td>Bike</td>\n",
              "      <td>01012020 Becky DiSorbo Rode the trainer but didnt get app and software set up since slept in after late night and wanted to ride before skiing 10 min warm up 20 mins of drills including 3x1 leg at a time and then cycling dynamic drills 4x 3 mins moderate then 2 mins in harder Gear and lower rpm 10 mins easy 01012020 Becky DiSorbo Garmin watch for heart rate 01032020 Becky DiSorbo Estimate on mileage</td>\n",
              "      <td>6.00</td>\n",
              "      <td>5.00</td>\n",
              "      <td>2</td>\n",
              "    </tr>\n",
              "    <tr>\n",
              "      <th>1</th>\n",
              "      <td>Downhill skiing</td>\n",
              "      <td>Other</td>\n",
              "      <td>01012020 Becky DiSorbo About ten runs Cold out 26 degrees plus windchill 01012020 Becky DiSorbo Forgot to start Garmin</td>\n",
              "      <td>6.00</td>\n",
              "      <td>3.00</td>\n",
              "      <td>2</td>\n",
              "    </tr>\n",
              "    <tr>\n",
              "      <th>2</th>\n",
              "      <td>Alpine Skiing</td>\n",
              "      <td>Other</td>\n",
              "      <td>01022020 Becky DiSorbo Easy skiing Cold reared its head last night 01022020 Becky DiSorbo Garmin didnt record the runs</td>\n",
              "      <td>5.00</td>\n",
              "      <td>5.00</td>\n",
              "      <td>2</td>\n",
              "    </tr>\n",
              "    <tr>\n",
              "      <th>3</th>\n",
              "      <td>AER Run</td>\n",
              "      <td>Run</td>\n",
              "      <td>01032020 Becky DiSorbo Felt good without much effort Hamstring a little tight last mile</td>\n",
              "      <td>6.00</td>\n",
              "      <td>5.00</td>\n",
              "      <td>2</td>\n",
              "    </tr>\n",
              "    <tr>\n",
              "      <th>4</th>\n",
              "      <td>AER Ride</td>\n",
              "      <td>Bike</td>\n",
              "      <td>01032020 Becky DiSorbo Used heart rate monitor Didnt get the trainer connected yet 01032020 Becky DiSorbo Feel better Cold seems just about over  01032020 Becky DiSorbo Mileage estimate</td>\n",
              "      <td>6.00</td>\n",
              "      <td>5.00</td>\n",
              "      <td>2</td>\n",
              "    </tr>\n",
              "  </tbody>\n",
              "</table>\n",
              "</div>"
            ],
            "text/plain": [
              "             Title WorkoutType  \\\n",
              "0         AER Ride        Bike   \n",
              "1  Downhill skiing       Other   \n",
              "2    Alpine Skiing       Other   \n",
              "3          AER Run         Run   \n",
              "4         AER Ride        Bike   \n",
              "\n",
              "                                                                                                                                                                                                                                                                                                                                                                                                       AthleteComments  \\\n",
              "0   01012020 Becky DiSorbo Rode the trainer but didnt get app and software set up since slept in after late night and wanted to ride before skiing 10 min warm up 20 mins of drills including 3x1 leg at a time and then cycling dynamic drills 4x 3 mins moderate then 2 mins in harder Gear and lower rpm 10 mins easy 01012020 Becky DiSorbo Garmin watch for heart rate 01032020 Becky DiSorbo Estimate on mileage   \n",
              "1                                                                                                                                                                                                                                                                                               01012020 Becky DiSorbo About ten runs Cold out 26 degrees plus windchill 01012020 Becky DiSorbo Forgot to start Garmin   \n",
              "2                                                                                                                                                                                                                                                                                               01022020 Becky DiSorbo Easy skiing Cold reared its head last night 01022020 Becky DiSorbo Garmin didnt record the runs   \n",
              "3                                                                                                                                                                                                                                                                                                                              01032020 Becky DiSorbo Felt good without much effort Hamstring a little tight last mile   \n",
              "4                                                                                                                                                                                                                            01032020 Becky DiSorbo Used heart rate monitor Didnt get the trainer connected yet 01032020 Becky DiSorbo Feel better Cold seems just about over  01032020 Becky DiSorbo Mileage estimate   \n",
              "\n",
              "   Rpe  Feeling  Sentiment  \n",
              "0 6.00     5.00          2  \n",
              "1 6.00     3.00          2  \n",
              "2 5.00     5.00          2  \n",
              "3 6.00     5.00          2  \n",
              "4 6.00     5.00          2  "
            ]
          },
          "metadata": {
            "tags": []
          },
          "execution_count": 25
        }
      ]
    },
    {
      "cell_type": "code",
      "metadata": {
        "id": "FFYFCyURsp3h"
      },
      "source": [
        "from sklearn.model_selection import train_test_split"
      ],
      "execution_count": 26,
      "outputs": []
    },
    {
      "cell_type": "code",
      "metadata": {
        "id": "299TMwIY0BiJ"
      },
      "source": [
        "X=df['AthleteComments'].values\n",
        "Y=df['Sentiment'].values"
      ],
      "execution_count": 27,
      "outputs": []
    },
    {
      "cell_type": "code",
      "metadata": {
        "colab": {
          "base_uri": "https://localhost:8080/",
          "height": 302
        },
        "id": "BS2vmuFj0Ban",
        "outputId": "1414e34e-ae3a-413a-b360-ee67e0e16c71"
      },
      "source": [
        "import seaborn as sns\n",
        "sns.countplot(df['Sentiment'])"
      ],
      "execution_count": 28,
      "outputs": [
        {
          "output_type": "execute_result",
          "data": {
            "text/plain": [
              "<matplotlib.axes._subplots.AxesSubplot at 0x7f34e8f6b190>"
            ]
          },
          "metadata": {
            "tags": []
          },
          "execution_count": 28
        },
        {
          "output_type": "display_data",
          "data": {
            "image/png": "[encoded data removed]",
            "text/plain": [
              "<Figure size 432x288 with 1 Axes>"
            ]
          },
          "metadata": {
            "tags": [],
            "needs_background": "light"
          }
        }
      ]
    },
    {
      "cell_type": "code",
      "metadata": {
        "id": "KhtK55gx0BS2"
      },
      "source": [
        "X_train, X_test, Y_train, Y_test= train_test_split(X,Y, test_size=0.3)"
      ],
      "execution_count": 29,
      "outputs": []
    },
    {
      "cell_type": "markdown",
      "metadata": {
        "id": "f-Dh7m9o5RJb"
      },
      "source": [
        "First Approach: Bag of Words"
      ]
    },
    {
      "cell_type": "markdown",
      "metadata": {
        "id": "NyfpwvfQ1eeW"
      },
      "source": [
        "#TF-IDF Vectorizer: It calculates two things term frequency and inverse document frequency. Term frequency= No. of times the word appears in the sample. IDF = log ( number of time the word appears in the sample / number of time the word appears in the whole document). This helps to note some differences like the word \"The\" appears with same freq in almost all sentences while special words carrying significance like \"good\" don't. So, these TF and IDF terms are multiplied to obtain the vector formats for each sample."
      ]
    },
    {
      "cell_type": "code",
      "metadata": {
        "id": "nWHiRJ0d1wbH"
      },
      "source": [
        "from sklearn.feature_extraction.text import TfidfVectorizer"
      ],
      "execution_count": 30,
      "outputs": []
    },
    {
      "cell_type": "code",
      "metadata": {
        "id": "x9SMJlrEspx5"
      },
      "source": [
        "vec = TfidfVectorizer()"
      ],
      "execution_count": 31,
      "outputs": []
    },
    {
      "cell_type": "code",
      "metadata": {
        "colab": {
          "base_uri": "https://localhost:8080/"
        },
        "id": "yOHNX4Tjsprk",
        "outputId": "498eb861-b906-4dfd-e22e-d8d4b6b9d1f1"
      },
      "source": [
        "vec.fit(X_train)"
      ],
      "execution_count": 32,
      "outputs": [
        {
          "output_type": "execute_result",
          "data": {
            "text/plain": [
              "TfidfVectorizer()"
            ]
          },
          "metadata": {
            "tags": []
          },
          "execution_count": 32
        }
      ]
    },
    {
      "cell_type": "code",
      "metadata": {
        "id": "qsV54BvMsplp"
      },
      "source": [
        "x_train=vec.transform(X_train)"
      ],
      "execution_count": 33,
      "outputs": []
    },
    {
      "cell_type": "code",
      "metadata": {
        "id": "DiJsT08TyE6R"
      },
      "source": [
        "x_test=vec.transform(X_test)"
      ],
      "execution_count": 34,
      "outputs": []
    },
    {
      "cell_type": "code",
      "metadata": {
        "colab": {
          "base_uri": "https://localhost:8080/"
        },
        "id": "uqUzVXFK2Bgh",
        "outputId": "cb7cbe8f-ecdb-4db8-baa9-1afe33870a87"
      },
      "source": [
        "x_train"
      ],
      "execution_count": 35,
      "outputs": [
        {
          "output_type": "execute_result",
          "data": {
            "text/plain": [
              "<456x2284 sparse matrix of type '<class 'numpy.float64'>'\n",
              "\twith 13457 stored elements in Compressed Sparse Row format>"
            ]
          },
          "metadata": {
            "tags": []
          },
          "execution_count": 35
        }
      ]
    },
    {
      "cell_type": "code",
      "metadata": {
        "colab": {
          "base_uri": "https://localhost:8080/"
        },
        "id": "jbHeDtgU2BTQ",
        "outputId": "6dac7cff-5c6c-408a-fac9-5c59ab5a03bb"
      },
      "source": [
        "from sklearn.linear_model import LogisticRegression\n",
        "lr = LogisticRegression()\n",
        "lr.fit(x_train, Y_train)"
      ],
      "execution_count": 36,
      "outputs": [
        {
          "output_type": "execute_result",
          "data": {
            "text/plain": [
              "LogisticRegression()"
            ]
          },
          "metadata": {
            "tags": []
          },
          "execution_count": 36
        }
      ]
    },
    {
      "cell_type": "code",
      "metadata": {
        "id": "6ES4IZbx2BE-"
      },
      "source": [
        "score_test = lr.score(x_test, Y_test)"
      ],
      "execution_count": 37,
      "outputs": []
    },
    {
      "cell_type": "code",
      "metadata": {
        "colab": {
          "base_uri": "https://localhost:8080/"
        },
        "id": "wzLK8ll32A2p",
        "outputId": "49bd3930-ff6a-4549-bf46-5620ffe90d6e"
      },
      "source": [
        "score_test"
      ],
      "execution_count": 38,
      "outputs": [
        {
          "output_type": "execute_result",
          "data": {
            "text/plain": [
              "0.8979591836734694"
            ]
          },
          "metadata": {
            "tags": []
          },
          "execution_count": 38
        }
      ]
    },
    {
      "cell_type": "code",
      "metadata": {
        "id": "gUWT5AXn2Okg"
      },
      "source": [
        "score_train = lr.score(x_train, Y_train)"
      ],
      "execution_count": 39,
      "outputs": []
    },
    {
      "cell_type": "code",
      "metadata": {
        "colab": {
          "base_uri": "https://localhost:8080/"
        },
        "id": "qeI_SWeI2OWV",
        "outputId": "9b867d0e-e5d7-4bfc-c816-1be512760be6"
      },
      "source": [
        "score_train"
      ],
      "execution_count": 40,
      "outputs": [
        {
          "output_type": "execute_result",
          "data": {
            "text/plain": [
              "0.9276315789473685"
            ]
          },
          "metadata": {
            "tags": []
          },
          "execution_count": 40
        }
      ]
    },
    {
      "cell_type": "code",
      "metadata": {
        "id": "up94-VJ32OIg"
      },
      "source": [
        "Second Approach: Word Embeddings"
      ],
      "execution_count": null,
      "outputs": []
    },
    {
      "cell_type": "code",
      "metadata": {
        "id": "UUmkFiFZ2AuL"
      },
      "source": [
        ""
      ],
      "execution_count": null,
      "outputs": []
    },
    {
      "cell_type": "code",
      "metadata": {
        "id": "JAhk_3Yp2Alo"
      },
      "source": [
        ""
      ],
      "execution_count": null,
      "outputs": []
    },
    {
      "cell_type": "code",
      "metadata": {
        "id": "Luq6FpSk2AcC"
      },
      "source": [
        ""
      ],
      "execution_count": null,
      "outputs": []
    },
    {
      "cell_type": "code",
      "metadata": {
        "id": "gj0uQmrc2wWH"
      },
      "source": [
        ""
      ],
      "execution_count": null,
      "outputs": []
    },
    {
      "cell_type": "code",
      "metadata": {
        "id": "vozdX4OJ2wLm"
      },
      "source": [
        ""
      ],
      "execution_count": null,
      "outputs": []
    },
    {
      "cell_type": "code",
      "metadata": {
        "id": "8MnmbjRo2v-k"
      },
      "source": [
        ""
      ],
      "execution_count": null,
      "outputs": []
    },
    {
      "cell_type": "code",
      "metadata": {
        "id": "DNxbfIvI2ARe"
      },
      "source": [
        ""
      ],
      "execution_count": null,
      "outputs": []
    },
    {
      "cell_type": "code",
      "metadata": {
        "colab": {
          "base_uri": "https://localhost:8080/",
          "height": 1000
        },
        "id": "SkS235vDDTAU",
        "outputId": "a4a7c42d-15e6-4c64-925c-398070cc42ec"
      },
      "source": [
        "#!pip install autoviml"
      ],
      "execution_count": 56,
      "outputs": [
        {
          "output_type": "stream",
          "text": [
            "Collecting autoviml\n",
            "\u001b[?25l  Downloading https://files.pythonhosted.org/packages/cd/be/88449cc0ca3fef625583bac2c823aa7256ed24719f749dd67e157d1eef45/autoviml-0.1.681-py3-none-any.whl (125kB)\n",
            "\r\u001b[K     |██▋                             | 10kB 15.5MB/s eta 0:00:01\r\u001b[K     |█████▎                          | 20kB 7.8MB/s eta 0:00:01\r\u001b[K     |███████▉                        | 30kB 5.3MB/s eta 0:00:01\r\u001b[K     |██████████▌                     | 40kB 5.3MB/s eta 0:00:01\r\u001b[K     |█████████████                   | 51kB 2.8MB/s eta 0:00:01\r\u001b[K     |███████████████▊                | 61kB 3.3MB/s eta 0:00:01\r\u001b[K     |██████████████████▎             | 71kB 3.4MB/s eta 0:00:01\r\u001b[K     |█████████████████████           | 81kB 3.6MB/s eta 0:00:01\r\u001b[K     |███████████████████████▌        | 92kB 3.6MB/s eta 0:00:01\r\u001b[K     |██████████████████████████▏     | 102kB 3.9MB/s eta 0:00:01\r\u001b[K     |████████████████████████████▊   | 112kB 3.9MB/s eta 0:00:01\r\u001b[K     |███████████████████████████████▍| 122kB 3.9MB/s eta 0:00:01\r\u001b[K     |████████████████████████████████| 133kB 3.9MB/s \n",
            "\u001b[?25hRequirement already satisfied: ipython in /usr/local/lib/python3.7/dist-packages (from autoviml) (5.5.0)\n",
            "Collecting imbalanced-learn>=0.7\n",
            "\u001b[?25l  Downloading https://files.pythonhosted.org/packages/80/98/dc784205a7e3034e84d41ac4781660c67ad6327f2f5a80c568df31673d1c/imbalanced_learn-0.8.0-py3-none-any.whl (206kB)\n",
            "\u001b[K     |████████████████████████████████| 215kB 16.6MB/s \n",
            "\u001b[?25hRequirement already satisfied: nltk in /usr/local/lib/python3.7/dist-packages (from autoviml) (3.2.5)\n",
            "Requirement already satisfied: regex in /usr/local/lib/python3.7/dist-packages (from autoviml) (2019.12.20)\n",
            "Collecting xgboost>=1.1.1\n",
            "\u001b[?25l  Downloading https://files.pythonhosted.org/packages/23/88/f52938e30f84ae662b4a0bc63cafc095fb3e38ca2ec188b8a863f8e2c016/xgboost-1.4.1-py3-none-manylinux2010_x86_64.whl (166.7MB)\n",
            "\u001b[K     |████████████████████████████████| 166.7MB 81kB/s \n",
            "\u001b[?25hRequirement already satisfied: matplotlib in /usr/local/lib/python3.7/dist-packages (from autoviml) (3.2.2)\n",
            "Collecting emoji\n",
            "\u001b[?25l  Downloading https://files.pythonhosted.org/packages/24/fa/b3368f41b95a286f8d300e323449ab4e86b85334c2e0b477e94422b8ed0f/emoji-1.2.0-py3-none-any.whl (131kB)\n",
            "\u001b[K     |████████████████████████████████| 133kB 44.6MB/s \n",
            "\u001b[?25hRequirement already satisfied: textblob in /usr/local/lib/python3.7/dist-packages (from autoviml) (0.15.3)\n",
            "Requirement already satisfied: xlrd in /usr/local/lib/python3.7/dist-packages (from autoviml) (1.1.0)\n",
            "Requirement already satisfied: seaborn in /usr/local/lib/python3.7/dist-packages (from autoviml) (0.11.1)\n",
            "Requirement already satisfied: beautifulsoup4 in /usr/local/lib/python3.7/dist-packages (from autoviml) (4.6.3)\n",
            "Collecting scikit-learn>=0.23.1\n",
            "\u001b[?25l  Downloading https://files.pythonhosted.org/packages/a8/eb/a48f25c967526b66d5f1fa7a984594f0bf0a5afafa94a8c4dbc317744620/scikit_learn-0.24.2-cp37-cp37m-manylinux2010_x86_64.whl (22.3MB)\n",
            "\u001b[K     |████████████████████████████████| 22.3MB 1.5MB/s \n",
            "\u001b[?25hRequirement already satisfied: jupyter in /usr/local/lib/python3.7/dist-packages (from autoviml) (1.0.0)\n",
            "Collecting catboost\n",
            "\u001b[?25l  Downloading https://files.pythonhosted.org/packages/47/80/8e9c57ec32dfed6ba2922bc5c96462cbf8596ce1a6f5de532ad1e43e53fe/catboost-0.25.1-cp37-none-manylinux1_x86_64.whl (67.3MB)\n",
            "\u001b[K     |████████████████████████████████| 67.3MB 59kB/s \n",
            "\u001b[?25hCollecting shap>=0.36.0\n",
            "\u001b[?25l  Downloading https://files.pythonhosted.org/packages/b9/f4/c5b95cddae15be80f8e58b25edceca105aa83c0b8c86a1edad24a6af80d3/shap-0.39.0.tar.gz (356kB)\n",
            "\u001b[K     |████████████████████████████████| 358kB 41.8MB/s \n",
            "\u001b[?25hRequirement already satisfied: pandas in /usr/local/lib/python3.7/dist-packages (from autoviml) (1.1.5)\n",
            "Collecting vaderSentiment\n",
            "\u001b[?25l  Downloading https://files.pythonhosted.org/packages/76/fc/310e16254683c1ed35eeb97386986d6c00bc29df17ce280aed64d55537e9/vaderSentiment-3.3.2-py2.py3-none-any.whl (125kB)\n",
            "\u001b[K     |████████████████████████████████| 133kB 25.0MB/s \n",
            "\u001b[?25hRequirement already satisfied: decorator in /usr/local/lib/python3.7/dist-packages (from ipython->autoviml) (4.4.2)\n",
            "Requirement already satisfied: traitlets>=4.2 in /usr/local/lib/python3.7/dist-packages (from ipython->autoviml) (5.0.5)\n",
            "Requirement already satisfied: pexpect; sys_platform != \"win32\" in /usr/local/lib/python3.7/dist-packages (from ipython->autoviml) (4.8.0)\n",
            "Requirement already satisfied: pygments in /usr/local/lib/python3.7/dist-packages (from ipython->autoviml) (2.6.1)\n",
            "Requirement already satisfied: pickleshare in /usr/local/lib/python3.7/dist-packages (from ipython->autoviml) (0.7.5)\n",
            "Requirement already satisfied: setuptools>=18.5 in /usr/local/lib/python3.7/dist-packages (from ipython->autoviml) (56.0.0)\n",
            "Requirement already satisfied: prompt-toolkit<2.0.0,>=1.0.4 in /usr/local/lib/python3.7/dist-packages (from ipython->autoviml) (1.0.18)\n",
            "Requirement already satisfied: simplegeneric>0.8 in /usr/local/lib/python3.7/dist-packages (from ipython->autoviml) (0.8.1)\n",
            "Requirement already satisfied: joblib>=0.11 in /usr/local/lib/python3.7/dist-packages (from imbalanced-learn>=0.7->autoviml) (1.0.1)\n",
            "Requirement already satisfied: scipy>=0.19.1 in /usr/local/lib/python3.7/dist-packages (from imbalanced-learn>=0.7->autoviml) (1.4.1)\n",
            "Requirement already satisfied: numpy>=1.13.3 in /usr/local/lib/python3.7/dist-packages (from imbalanced-learn>=0.7->autoviml) (1.19.5)\n",
            "Requirement already satisfied: six in /usr/local/lib/python3.7/dist-packages (from nltk->autoviml) (1.15.0)\n",
            "Requirement already satisfied: cycler>=0.10 in /usr/local/lib/python3.7/dist-packages (from matplotlib->autoviml) (0.10.0)\n",
            "Requirement already satisfied: python-dateutil>=2.1 in /usr/local/lib/python3.7/dist-packages (from matplotlib->autoviml) (2.8.1)\n",
            "Requirement already satisfied: kiwisolver>=1.0.1 in /usr/local/lib/python3.7/dist-packages (from matplotlib->autoviml) (1.3.1)\n",
            "Requirement already satisfied: pyparsing!=2.0.4,!=2.1.2,!=2.1.6,>=2.0.1 in /usr/local/lib/python3.7/dist-packages (from matplotlib->autoviml) (2.4.7)\n",
            "Collecting threadpoolctl>=2.0.0\n",
            "  Downloading https://files.pythonhosted.org/packages/f7/12/ec3f2e203afa394a149911729357aa48affc59c20e2c1c8297a60f33f133/threadpoolctl-2.1.0-py3-none-any.whl\n",
            "Requirement already satisfied: notebook in /usr/local/lib/python3.7/dist-packages (from jupyter->autoviml) (5.3.1)\n",
            "Requirement already satisfied: qtconsole in /usr/local/lib/python3.7/dist-packages (from jupyter->autoviml) (5.0.3)\n",
            "Requirement already satisfied: ipykernel in /usr/local/lib/python3.7/dist-packages (from jupyter->autoviml) (4.10.1)\n",
            "Requirement already satisfied: jupyter-console in /usr/local/lib/python3.7/dist-packages (from jupyter->autoviml) (5.2.0)\n",
            "Requirement already satisfied: ipywidgets in /usr/local/lib/python3.7/dist-packages (from jupyter->autoviml) (7.6.3)\n",
            "Requirement already satisfied: nbconvert in /usr/local/lib/python3.7/dist-packages (from jupyter->autoviml) (5.6.1)\n",
            "Requirement already satisfied: plotly in /usr/local/lib/python3.7/dist-packages (from catboost->autoviml) (4.4.1)\n",
            "Requirement already satisfied: graphviz in /usr/local/lib/python3.7/dist-packages (from catboost->autoviml) (0.10.1)\n",
            "Requirement already satisfied: tqdm>4.25.0 in /usr/local/lib/python3.7/dist-packages (from shap>=0.36.0->autoviml) (4.41.1)\n",
            "Collecting slicer==0.0.7\n",
            "  Downloading https://files.pythonhosted.org/packages/78/c2/b3f55dfdb8af9812fdb9baf70cacf3b9e82e505b2bd4324d588888b81202/slicer-0.0.7-py3-none-any.whl\n",
            "Requirement already satisfied: numba in /usr/local/lib/python3.7/dist-packages (from shap>=0.36.0->autoviml) (0.51.2)\n",
            "Requirement already satisfied: cloudpickle in /usr/local/lib/python3.7/dist-packages (from shap>=0.36.0->autoviml) (1.3.0)\n",
            "Requirement already satisfied: pytz>=2017.2 in /usr/local/lib/python3.7/dist-packages (from pandas->autoviml) (2018.9)\n",
            "Requirement already satisfied: requests in /usr/local/lib/python3.7/dist-packages (from vaderSentiment->autoviml) (2.23.0)\n",
            "Requirement already satisfied: ipython-genutils in /usr/local/lib/python3.7/dist-packages (from traitlets>=4.2->ipython->autoviml) (0.2.0)\n",
            "Requirement already satisfied: ptyprocess>=0.5 in /usr/local/lib/python3.7/dist-packages (from pexpect; sys_platform != \"win32\"->ipython->autoviml) (0.7.0)\n",
            "Requirement already satisfied: wcwidth in /usr/local/lib/python3.7/dist-packages (from prompt-toolkit<2.0.0,>=1.0.4->ipython->autoviml) (0.2.5)\n",
            "Requirement already satisfied: terminado>=0.8.1 in /usr/local/lib/python3.7/dist-packages (from notebook->jupyter->autoviml) (0.9.4)\n",
            "Requirement already satisfied: jinja2 in /usr/local/lib/python3.7/dist-packages (from notebook->jupyter->autoviml) (2.11.3)\n",
            "Requirement already satisfied: jupyter-core>=4.4.0 in /usr/local/lib/python3.7/dist-packages (from notebook->jupyter->autoviml) (4.7.1)\n",
            "Requirement already satisfied: Send2Trash in /usr/local/lib/python3.7/dist-packages (from notebook->jupyter->autoviml) (1.5.0)\n",
            "Requirement already satisfied: jupyter-client>=5.2.0 in /usr/local/lib/python3.7/dist-packages (from notebook->jupyter->autoviml) (5.3.5)\n",
            "Requirement already satisfied: tornado>=4 in /usr/local/lib/python3.7/dist-packages (from notebook->jupyter->autoviml) (5.1.1)\n",
            "Requirement already satisfied: nbformat in /usr/local/lib/python3.7/dist-packages (from notebook->jupyter->autoviml) (5.1.3)\n",
            "Requirement already satisfied: qtpy in /usr/local/lib/python3.7/dist-packages (from qtconsole->jupyter->autoviml) (1.9.0)\n",
            "Requirement already satisfied: pyzmq>=17.1 in /usr/local/lib/python3.7/dist-packages (from qtconsole->jupyter->autoviml) (22.0.3)\n",
            "Requirement already satisfied: widgetsnbextension~=3.5.0 in /usr/local/lib/python3.7/dist-packages (from ipywidgets->jupyter->autoviml) (3.5.1)\n",
            "Requirement already satisfied: jupyterlab-widgets>=1.0.0; python_version >= \"3.6\" in /usr/local/lib/python3.7/dist-packages (from ipywidgets->jupyter->autoviml) (1.0.0)\n",
            "Requirement already satisfied: mistune<2,>=0.8.1 in /usr/local/lib/python3.7/dist-packages (from nbconvert->jupyter->autoviml) (0.8.4)\n",
            "Requirement already satisfied: pandocfilters>=1.4.1 in /usr/local/lib/python3.7/dist-packages (from nbconvert->jupyter->autoviml) (1.4.3)\n",
            "Requirement already satisfied: testpath in /usr/local/lib/python3.7/dist-packages (from nbconvert->jupyter->autoviml) (0.4.4)\n",
            "Requirement already satisfied: defusedxml in /usr/local/lib/python3.7/dist-packages (from nbconvert->jupyter->autoviml) (0.7.1)\n",
            "Requirement already satisfied: entrypoints>=0.2.2 in /usr/local/lib/python3.7/dist-packages (from nbconvert->jupyter->autoviml) (0.3)\n",
            "Requirement already satisfied: bleach in /usr/local/lib/python3.7/dist-packages (from nbconvert->jupyter->autoviml) (3.3.0)\n",
            "Requirement already satisfied: retrying>=1.3.3 in /usr/local/lib/python3.7/dist-packages (from plotly->catboost->autoviml) (1.3.3)\n",
            "Requirement already satisfied: llvmlite<0.35,>=0.34.0.dev0 in /usr/local/lib/python3.7/dist-packages (from numba->shap>=0.36.0->autoviml) (0.34.0)\n",
            "Requirement already satisfied: chardet<4,>=3.0.2 in /usr/local/lib/python3.7/dist-packages (from requests->vaderSentiment->autoviml) (3.0.4)\n",
            "Requirement already satisfied: certifi>=2017.4.17 in /usr/local/lib/python3.7/dist-packages (from requests->vaderSentiment->autoviml) (2020.12.5)\n",
            "Requirement already satisfied: idna<3,>=2.5 in /usr/local/lib/python3.7/dist-packages (from requests->vaderSentiment->autoviml) (2.10)\n",
            "Requirement already satisfied: urllib3!=1.25.0,!=1.25.1,<1.26,>=1.21.1 in /usr/local/lib/python3.7/dist-packages (from requests->vaderSentiment->autoviml) (1.24.3)\n",
            "Requirement already satisfied: MarkupSafe>=0.23 in /usr/local/lib/python3.7/dist-packages (from jinja2->notebook->jupyter->autoviml) (1.1.1)\n",
            "Requirement already satisfied: jsonschema!=2.5.0,>=2.4 in /usr/local/lib/python3.7/dist-packages (from nbformat->notebook->jupyter->autoviml) (2.6.0)\n",
            "Requirement already satisfied: packaging in /usr/local/lib/python3.7/dist-packages (from bleach->nbconvert->jupyter->autoviml) (20.9)\n",
            "Requirement already satisfied: webencodings in /usr/local/lib/python3.7/dist-packages (from bleach->nbconvert->jupyter->autoviml) (0.5.1)\n",
            "Building wheels for collected packages: shap\n",
            "  Building wheel for shap (setup.py) ... \u001b[?25l\u001b[?25hdone\n",
            "  Created wheel for shap: filename=shap-0.39.0-cp37-cp37m-linux_x86_64.whl size=491625 sha256=6e594272941d95db8692681550a47986883e8af019b4d7709bdc8aa221ad625a\n",
            "  Stored in directory: /root/.cache/pip/wheels/15/27/f5/a8ab9da52fd159aae6477b5ede6eaaec69fd130fa0fa59f283\n",
            "Successfully built shap\n",
            "Installing collected packages: threadpoolctl, scikit-learn, imbalanced-learn, xgboost, emoji, catboost, slicer, shap, vaderSentiment, autoviml\n",
            "  Found existing installation: scikit-learn 0.22.2.post1\n",
            "    Uninstalling scikit-learn-0.22.2.post1:\n",
            "      Successfully uninstalled scikit-learn-0.22.2.post1\n",
            "  Found existing installation: imbalanced-learn 0.4.3\n",
            "    Uninstalling imbalanced-learn-0.4.3:\n",
            "      Successfully uninstalled imbalanced-learn-0.4.3\n",
            "  Found existing installation: xgboost 0.90\n",
            "    Uninstalling xgboost-0.90:\n",
            "      Successfully uninstalled xgboost-0.90\n",
            "Successfully installed autoviml-0.1.681 catboost-0.25.1 emoji-1.2.0 imbalanced-learn-0.8.0 scikit-learn-0.24.2 shap-0.39.0 slicer-0.0.7 threadpoolctl-2.1.0 vaderSentiment-3.3.2 xgboost-1.4.1\n"
          ],
          "name": "stdout"
        },
        {
          "output_type": "display_data",
          "data": {
            "application/vnd.colab-display-data+json": {
              "pip_warning": {
                "packages": [
                  "sklearn"
                ]
              }
            }
          },
          "metadata": {
            "tags": []
          }
        }
      ]
    },
    {
      "cell_type": "code",
      "metadata": {
        "id": "_ZaxY2jqKWZM"
      },
      "source": [
        "from autoviml.Auto_NLP import Auto_NLP"
      ],
      "execution_count": 41,
      "outputs": []
    },
    {
      "cell_type": "code",
      "metadata": {
        "id": "ndhU0BSrPTWi"
      },
      "source": [
        "from sklearn.model_selection import train_test_split\n",
        "train, test = train_test_split(df, test_size=0.2)"
      ],
      "execution_count": 42,
      "outputs": []
    },
    {
      "cell_type": "code",
      "metadata": {
        "id": "DvD6OkrbPTJV"
      },
      "source": [
        "input_feature, target = \"AthleteComments\", \"Sentiment\""
      ],
      "execution_count": 43,
      "outputs": []
    },
    {
      "cell_type": "code",
      "metadata": {
        "colab": {
          "base_uri": "https://localhost:8080/",
          "height": 1000
        },
        "id": "8Tfgh-axQHSD",
        "outputId": "0c1efd93-25f0-4f17-917c-c523a26a7cbf"
      },
      "source": [
        "train_x, test_x, final, predicted= Auto_NLP(input_feature, train, test,target,score_type=\"balanced_accuracy\",\n",
        "                                            top_num_features=100,modeltype=\"Classification\", verbose=2, build_model=True)"
      ],
      "execution_count": 44,
      "outputs": [
        {
          "output_type": "stream",
          "text": [
            "[nltk_data] Downloading collection 'popular'\n",
            "[nltk_data]    | \n",
            "[nltk_data]    | Downloading package cmudict to /root/nltk_data...\n",
            "[nltk_data]    |   Unzipping corpora/cmudict.zip.\n",
            "[nltk_data]    | Downloading package gazetteers to /root/nltk_data...\n",
            "[nltk_data]    |   Unzipping corpora/gazetteers.zip.\n",
            "[nltk_data]    | Downloading package genesis to /root/nltk_data...\n",
            "[nltk_data]    |   Unzipping corpora/genesis.zip.\n",
            "[nltk_data]    | Downloading package gutenberg to /root/nltk_data...\n",
            "[nltk_data]    |   Unzipping corpora/gutenberg.zip.\n",
            "[nltk_data]    | Downloading package inaugural to /root/nltk_data...\n",
            "[nltk_data]    |   Unzipping corpora/inaugural.zip.\n",
            "[nltk_data]    | Downloading package movie_reviews to\n",
            "[nltk_data]    |     /root/nltk_data...\n",
            "[nltk_data]    |   Unzipping corpora/movie_reviews.zip.\n",
            "[nltk_data]    | Downloading package names to /root/nltk_data...\n",
            "[nltk_data]    |   Unzipping corpora/names.zip.\n",
            "[nltk_data]    | Downloading package shakespeare to /root/nltk_data...\n",
            "[nltk_data]    |   Unzipping corpora/shakespeare.zip.\n",
            "[nltk_data]    | Downloading package stopwords to /root/nltk_data...\n",
            "[nltk_data]    |   Unzipping corpora/stopwords.zip.\n",
            "[nltk_data]    | Downloading package treebank to /root/nltk_data...\n",
            "[nltk_data]    |   Unzipping corpora/treebank.zip.\n",
            "[nltk_data]    | Downloading package twitter_samples to\n",
            "[nltk_data]    |     /root/nltk_data...\n",
            "[nltk_data]    |   Unzipping corpora/twitter_samples.zip.\n",
            "[nltk_data]    | Downloading package omw to /root/nltk_data...\n",
            "[nltk_data]    |   Unzipping corpora/omw.zip.\n",
            "[nltk_data]    | Downloading package wordnet to /root/nltk_data...\n",
            "[nltk_data]    |   Unzipping corpora/wordnet.zip.\n",
            "[nltk_data]    | Downloading package wordnet_ic to /root/nltk_data...\n",
            "[nltk_data]    |   Unzipping corpora/wordnet_ic.zip.\n",
            "[nltk_data]    | Downloading package words to /root/nltk_data...\n",
            "[nltk_data]    |   Unzipping corpora/words.zip.\n",
            "[nltk_data]    | Downloading package maxent_ne_chunker to\n",
            "[nltk_data]    |     /root/nltk_data...\n",
            "[nltk_data]    |   Unzipping chunkers/maxent_ne_chunker.zip.\n",
            "[nltk_data]    | Downloading package punkt to /root/nltk_data...\n",
            "[nltk_data]    |   Unzipping tokenizers/punkt.zip.\n",
            "[nltk_data]    | Downloading package snowball_data to\n",
            "[nltk_data]    |     /root/nltk_data...\n",
            "[nltk_data]    | Downloading package averaged_perceptron_tagger to\n",
            "[nltk_data]    |     /root/nltk_data...\n",
            "[nltk_data]    |   Unzipping taggers/averaged_perceptron_tagger.zip.\n",
            "[nltk_data]    | \n",
            "[nltk_data]  Done downloading collection popular\n",
            "Auto NLP processing on NLP Column: AthleteComments\n",
            "Shape of Train Data: 521 rows\n",
            "    Shape of Test Data: 131 rows\n"
          ],
          "name": "stdout"
        },
        {
          "output_type": "display_data",
          "data": {
            "image/png": "[encoded data removed]",
            "text/plain": [
              "<Figure size 1080x288 with 2 Axes>"
            ]
          },
          "metadata": {
            "tags": [],
            "needs_background": "light"
          }
        },
        {
          "output_type": "display_data",
          "data": {
            "image/png": "[encoded data removed]",
            "text/plain": [
              "<Figure size 2000x3000 with 10 Axes>"
            ]
          },
          "metadata": {
            "tags": [],
            "needs_background": "light"
          }
        },
        {
          "output_type": "stream",
          "text": [
            "    Added 9 summary columns for counts of words and characters in each row\n",
            "Cleaning text in Train data for AthleteComments column\n",
            "    Faster text processing using clean_text function, since top_num_features is below 300\n",
            "    Time Taken for Expanding emojis and abbreviations in data = 1 seconds\n",
            "        Time Taken for Processing text in data = 4 seconds\n",
            "Train data Text cleaning completed. Time taken = 9 seconds\n",
            "\n",
            "For target = Sentiment\n",
            "\n",
            "    For class = 0\n",
            "Top 200 n-grams\n",
            ": ['friend', 'leg', 'do', 'ski', 'hike', 'ride', 'joe', 'thats', 'super', 'go', 'run', 'disorbo easy', 'disorbo hike', 'easy ski', 'super easy', 'ski joe', 'becky disorbo easy', 'becky disorbo hike', 'disorbo easy ski', 'easy ski joe']\n",
            "    Top n-grams that are most frequent in this class are: 20\n",
            "\n",
            "    For class = 1\n",
            "Top 200 n-grams\n",
            ": ['felt', 'work', 'leg', 'hard', 'but', 'mile', 'easy', 'do', 'good', 'strong', 'xs', 'x', 'warm', 'nick', 'radkewich', 'fast', 'after', 'feel', 'go', 'interval', 'min', 'tire', 'uphill', 'back', 'hold', 'set', 'able', 'take', 'today', 'high', 'workout', 'first', 'doable', 'day', 'rd', 'part', 'heart', 'rate', 'last', 'swim', 'week', 'fatigue', 'focus', 'hill', 'think', 'not', 'also', 'me', 'speed', 'recovery', 'well', 'lap', 'faster', 'bit', 'im', 'slow', 'yesterday', 'stay', 'best', 'power', 'them', 'rpm', 'little', 'didnt', 'tight', 'wake', 'off', 'great', 'ims', 'two', 'brutal', 'if', 'nd', 'st', 'held', 'start', 'every', 'hamstring', 'like', 'sec', 'maybe', 'average', 'second', 'yeah', 'end', 'odds', 'pool', 'watt', 'cool', 'these', 'peloton', 'direction', 'could', 'leave', 'time', 'keep', 'something', 'push', 'cadence', 'though', 'super', 'low', 'vo', 'climb', 'manage', 'help', 'idea', 'hot', 'pretty', 'which', 'run', 'kick', 'break', 'they', 'downhill', 'way', 'okay', 'want', 'look', 'effort', 'must', 'record', 'camp', 'sure', 'add', 'max', 'stop', 'chase', 'nice', 'performance', 'see', 'try', 'control', 'nick radkewich', 'disorbo leg', 'disorbo felt', 'heart rate', 'felt strong', 'work hard', 'disorbo work', 'leg felt', 'disorbo yeah', 'easy xs', 'felt good', 'disorbo but', 'disorbo do', 'didnt feel', 'work them', 'after first', 'hard work', 'doable leg', 'fast easy', 'super slow', 'average cadence', 'disorbo warm', 'me but', 'but doable', 'which uphill', 'do set', 'interval becky', 'disorbo min', 'but hard', 'xs easy', 'but felt', 'hold easy', 'today becky', 'becky disorbo felt', 'becky disorbo leg', 'becky disorbo yeah', 'becky disorbo do', 'becky disorbo work', 'disorbo felt strong', 'becky disorbo but', 'interval becky disorbo', 'disorbo leg felt', 'disorbo work hard', 'disorbo felt good', 'becky disorbo min', 'becky disorbo warm', 'easy xs easy', 'today becky disorbo', 'hold easy xs', 'held easy xs', 'easy set xs', 'x easy xs', 'xs x easy', 'disorbo warm xs', 'xs easy xs', 'easy x ims', 'ims hold easy', 'x ims hold', 'becky disorbo faster', 'every rd lap', 'lap fast easy', 'rd lap fast', 'xs every rd']\n",
            "    Top n-grams that are most frequent in this class are: 196\n",
            "\n",
            "    For class = 2\n",
            "Top 200 n-grams\n",
            ": ['felt', 'swim', 'good', 'easy', 'min', 'but', 'do', 'run', 'warm', 'back', 'pretty', 'xs', 'x', 'fast', 'go', 'little', 'last', 'strong', 'set', 'today', 'bike', 'leg', 'start', 'ride', 'sore', 'nick', 'radkewich', 'rest', 'pace', 'effort', 'not', 'bit', 'interval', 'mile', 'end', 'work', 'like', 'stroke', 'after', 'hill', 'these', 'didnt', 'first', 'finish', 'think', 'keep', 'well', 'great', 'time', 'leave', 'feel', 'hard', 'moderate', 'focus', 'tight', 'im', 'drill', 'day', 'workout', 'pool', 'long', 'way', 'nice', 'around', 'stop', 'road', 'two', 'pull', 'watch', 'buoy', 'race', 'free', 'cold', 'take', 'straight', 'loop', 'broken', 'recovery', 'slow', 'lake', 'sec', 'flat', 'look', 'choppy', 'yesterday', 'descend', 'water', 'fatigue', 'need', 'power', 'breath', 'off', 'me', 'though', 'week', 'right', 'lap', 'ankle', 'course', 'cadence', 'try', 'turn', 'direction', 'legs', 'hamstring', 'windy', 'short', 'big', 'band', 'faster', 'part', 'every', 'which', 'when', 'stride', 'make', 'buddy', 'pedal', 'no', 'able', 'hold', 'fun', 'okay', 'break', 'rate', 'heart', 'weight', 'position', 'also', 'cool', 'roll', 'will', 'definitely', 'disorbo felt', 'felt good', 'nick radkewich', 'felt pretty', 'pretty good', 'felt strong', 'disorbo easy', 'disorbo warm', 'disorbo do', 'disorbo min', 'min swim', 'easy xs', 'disorbo leg', 'swim xs', 'easy swim', 'heart rate', 'x min', 'little tight', 'disorbo swim', 'do these', 'xs easy', 'warm xs', 'but not', 'leg felt', 'but felt', 'fast easy', 'min min', 'felt well', 'disorbo back', 'last mile', 'near end', 'disorbo leave', 'disorbo definitely', 'becky disorbo felt', 'disorbo felt good', 'felt pretty good', 'disorbo felt pretty', 'becky disorbo do', 'becky disorbo easy', 'disorbo felt strong', 'becky disorbo warm', 'becky disorbo min', 'becky disorbo leg', 'becky disorbo first', 'becky disorbo swim', 'becky disorbo not', 'becky disorbo definitely', 'disorbo do these', 'disorbo min swim', 'becky disorbo back', 'becky disorbo stride', 'becky disorbo choppy', 'becky disorbo loop', 'becky disorbo leave', 'pull buoy ankle', 'becky disorbo windy', 'becky disorbo go', 'becky disorbo also', 'becky disorbo run', 'becky disorbo these', 'min straight swim', 'disorbo leg felt', 'becky disorbo thanks', 'min min min', 'nick radkewich great', 'disorbo felt well']\n",
            "    Top n-grams that are most frequent in this class are: 199\n",
            "Time Taken = 0 seconds\n",
            "##################    THIS IS FOR BUILD_MODEL = TRUE           #################\n",
            "Building Model and Pipeline for NLP column = AthleteComments. This will take time...\n",
            "       Class  -> Counts -> Percent\n",
            "           0:      11  ->    2.1%\n",
            "           1:      28  ->    5.4%\n",
            "           2:     482  ->   92.5%\n",
            "    Selected the maximum number of features limit = 2250\n",
            "Performing RandomizedSearchCV across 30 params. Optimizing for accuracy\n",
            "    Using train data = (468,) and Cross Validation data = (53,)\n",
            "Using a Calibrated Classifier in this Multi_Classification dataset to improve results...\n",
            "Since top_num_features = 100, Multinomial NB model selected. If you need different model, increase it >= 300.\n",
            "Training completed. Time taken for training = 0.1 minutes\n",
            "Best Params of NLP pipeline are: {'multinomialnb__alpha': 0.08828260807405286, 'selectkbest__k': 1219, 'tfidfvectorizer__binary': False, 'tfidfvectorizer__encoding': 'utf-8', 'tfidfvectorizer__max_df': 0.1314437679845406}\n"
          ],
          "name": "stdout"
        },
        {
          "output_type": "display_data",
          "data": {
            "text/html": [
              "<style>.container { width:95% !important; }</style>"
            ],
            "text/plain": [
              "<IPython.core.display.HTML object>"
            ]
          },
          "metadata": {
            "tags": []
          }
        },
        {
          "output_type": "display_data",
          "data": {
            "image/png": "[encoded data removed]",
            "text/plain": [
              "<Figure size 864x576 with 2 Axes>"
            ]
          },
          "metadata": {
            "tags": []
          }
        },
        {
          "output_type": "display_data",
          "data": {
            "text/html": [
              "<style>.container { width:95% !important; }</style>"
            ],
            "text/plain": [
              "<IPython.core.display.HTML object>"
            ]
          },
          "metadata": {
            "tags": []
          }
        },
        {
          "output_type": "display_data",
          "data": {
            "image/png": "[encoded data removed]",
            "text/plain": [
              "<Figure size 864x576 with 2 Axes>"
            ]
          },
          "metadata": {
            "tags": []
          }
        },
        {
          "output_type": "stream",
          "text": [
            "  Now transforming Train data to return as output...\n",
            "    Time Taken for Expanding emojis and abbreviations in data = 0 seconds\n",
            "        Time Taken for Processing text in data = 2 seconds\n",
            "  Transforming Test data to return as output...\n",
            "    Time Taken for Expanding emojis and abbreviations in data = 0 seconds\n",
            "        Time Taken for Processing text in data = 1 seconds\n",
            "Training best Auto_NLP Pipeline on full Train data...will be faster since best params are known\n",
            "    Time Taken for Expanding emojis and abbreviations in data = 0 seconds\n",
            "        Time Taken for Processing text in data = 1 seconds\n",
            "    Returning best Auto_NLP pipeline to transform and make predictions on test data...\n",
            "    Time Taken for Expanding emojis and abbreviations in data = 0 seconds\n",
            "        Time Taken for Processing text in data = 1 seconds\n",
            "Training completed. Time taken for Auto_NLP = 0.4 minutes\n",
            "#########          A U T O   N L P  C O M P L E T E D    ###############################\n"
          ],
          "name": "stdout"
        }
      ]
    },
    {
      "cell_type": "code",
      "metadata": {
        "colab": {
          "base_uri": "https://localhost:8080/"
        },
        "id": "HBq85p6Seyk_",
        "outputId": "2f2b779a-2c02-4f02-f22f-0905bb999a86"
      },
      "source": [
        "final.predict(test_x['AthleteComments'])"
      ],
      "execution_count": 46,
      "outputs": [
        {
          "output_type": "stream",
          "text": [
            "    Time Taken for Expanding emojis and abbreviations in data = 0 seconds\n",
            "        Time Taken for Processing text in data = 1 seconds\n"
          ],
          "name": "stdout"
        },
        {
          "output_type": "execute_result",
          "data": {
            "text/plain": [
              "array([2, 2, 2, 2, 2, 2, 2, 2, 2, 2, 2, 2, 2, 2, 2, 2, 2, 2, 2, 2, 2, 2,\n",
              "       2, 2, 2, 2, 2, 2, 2, 2, 2, 2, 2, 2, 2, 2, 2, 2, 2, 2, 2, 2, 2, 2,\n",
              "       2, 2, 2, 2, 2, 2, 2, 2, 2, 2, 2, 2, 2, 2, 2, 2, 2, 2, 2, 2, 2, 2,\n",
              "       2, 2, 2, 2, 2, 2, 2, 2, 2, 2, 2, 2, 2, 2, 2, 2, 2, 2, 2, 2, 2, 2,\n",
              "       2, 2, 2, 2, 2, 2, 2, 2, 2, 2, 2, 2, 2, 2, 2, 2, 2, 2, 2, 2, 2, 2,\n",
              "       2, 2, 2, 2, 2, 2, 2, 2, 2, 2, 2, 2, 2, 2, 2, 2, 2, 2, 2, 2, 2])"
            ]
          },
          "metadata": {
            "tags": []
          },
          "execution_count": 46
        }
      ]
    },
    {
      "cell_type": "code",
      "metadata": {
        "id": "l5kDDgay4i54"
      },
      "source": [
        ""
      ],
      "execution_count": null,
      "outputs": []
    }
  ]
}